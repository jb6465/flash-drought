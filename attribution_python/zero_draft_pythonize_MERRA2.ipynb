{
 "cells": [
  {
   "cell_type": "markdown",
   "id": "cff9665f-696b-451c-a7e7-adf76a9d4de0",
   "metadata": {},
   "source": [
    "# First attempt to pythonise Mike's code and apply it to MERRA2"
   ]
  },
  {
   "cell_type": "code",
   "execution_count": 85,
   "id": "231a148f-33dd-4b69-ba08-7ff18f58b871",
   "metadata": {
    "execution": {
     "iopub.execute_input": "2025-06-02T05:43:13.254275Z",
     "iopub.status.busy": "2025-06-02T05:43:13.253383Z",
     "iopub.status.idle": "2025-06-02T05:43:13.263368Z",
     "shell.execute_reply": "2025-06-02T05:43:13.262093Z",
     "shell.execute_reply.started": "2025-06-02T05:43:13.254221Z"
    }
   },
   "outputs": [],
   "source": [
    "import sys\n",
    "import os\n",
    "import glob\n",
    "import xarray as xr\n",
    "import numpy as np\n",
    "import gc\n",
    "import logging\n",
    "import pandas as pd\n",
    "from math import pi\n",
    "import matplotlib.pyplot as plt"
   ]
  },
  {
   "cell_type": "code",
   "execution_count": 2,
   "id": "8642792f-c405-4364-87de-a2157a240eba",
   "metadata": {
    "execution": {
     "iopub.execute_input": "2025-06-02T05:12:25.011264Z",
     "iopub.status.busy": "2025-06-02T05:12:25.011008Z",
     "iopub.status.idle": "2025-06-02T05:12:25.015060Z",
     "shell.execute_reply": "2025-06-02T05:12:25.014226Z",
     "shell.execute_reply.started": "2025-06-02T05:12:25.011245Z"
    }
   },
   "outputs": [],
   "source": [
    "#relevant directories (move to utils.py eventually)\n",
    "MERRA2_T2M_U2M_QV2M_dir = '/g/data/rr7/MERRA2/raw/M2T1NXSLV.5.12.4'\n",
    "MERRA2_SWNETSRF_dir = '/g/data/rr7/MERRA2/raw/M2T1NXINT.5.12.4'\n",
    "MERRA2_SWGDN_dir = '/g/data/rr7/MERRA2/raw/M2T1NXRAD.5.12.4/'"
   ]
  },
  {
   "cell_type": "markdown",
   "id": "6d8b6b54-fac5-469c-87ca-60d12fcc983f",
   "metadata": {},
   "source": [
    "#### Dask + warning setup"
   ]
  },
  {
   "cell_type": "code",
   "execution_count": 3,
   "id": "700cabfc-ade6-41bc-b2e5-6b983362e1f6",
   "metadata": {
    "execution": {
     "iopub.execute_input": "2025-06-02T05:12:25.015811Z",
     "iopub.status.busy": "2025-06-02T05:12:25.015642Z",
     "iopub.status.idle": "2025-06-02T05:12:25.027345Z",
     "shell.execute_reply": "2025-06-02T05:12:25.026309Z",
     "shell.execute_reply.started": "2025-06-02T05:12:25.015793Z"
    }
   },
   "outputs": [],
   "source": [
    "import warnings\n",
    "import logging\n",
    "warnings.filterwarnings('ignore') \n",
    "logging.getLogger(\"distributed.worker.memory\").setLevel(logging.ERROR)\n",
    "logging.getLogger('flox').setLevel(logging.WARNING)"
   ]
  },
  {
   "cell_type": "code",
   "execution_count": 4,
   "id": "f1f65c97-4031-4cce-b4cb-2b633c3280f6",
   "metadata": {
    "execution": {
     "iopub.execute_input": "2025-06-02T05:12:25.028938Z",
     "iopub.status.busy": "2025-06-02T05:12:25.028678Z",
     "iopub.status.idle": "2025-06-02T05:12:28.771778Z",
     "shell.execute_reply": "2025-06-02T05:12:28.770808Z",
     "shell.execute_reply.started": "2025-06-02T05:12:25.028912Z"
    },
    "scrolled": true
   },
   "outputs": [
    {
     "data": {
      "text/html": [
       "<div>\n",
       "    <div style=\"width: 24px; height: 24px; background-color: #e1e1e1; border: 3px solid #9D9D9D; border-radius: 5px; position: absolute;\"> </div>\n",
       "    <div style=\"margin-left: 48px;\">\n",
       "        <h3 style=\"margin-bottom: 0px;\">Client</h3>\n",
       "        <p style=\"color: #9D9D9D; margin-bottom: 0px;\">Client-2c2741e1-3f70-11f0-a6fd-000003dbfe80</p>\n",
       "        <table style=\"width: 100%; text-align: left;\">\n",
       "\n",
       "        <tr>\n",
       "        \n",
       "            <td style=\"text-align: left;\"><strong>Connection method:</strong> Cluster object</td>\n",
       "            <td style=\"text-align: left;\"><strong>Cluster type:</strong> distributed.LocalCluster</td>\n",
       "        \n",
       "        </tr>\n",
       "\n",
       "        \n",
       "            <tr>\n",
       "                <td style=\"text-align: left;\">\n",
       "                    <strong>Dashboard: </strong> <a href=\"/proxy/8787/status\" target=\"_blank\">/proxy/8787/status</a>\n",
       "                </td>\n",
       "                <td style=\"text-align: left;\"></td>\n",
       "            </tr>\n",
       "        \n",
       "\n",
       "        </table>\n",
       "\n",
       "        \n",
       "            <button style=\"margin-bottom: 12px;\" data-commandlinker-command=\"dask:populate-and-launch-layout\" data-commandlinker-args='{\"url\": \"/proxy/8787/status\" }'>\n",
       "                Launch dashboard in JupyterLab\n",
       "            </button>\n",
       "        \n",
       "\n",
       "        \n",
       "            <details>\n",
       "            <summary style=\"margin-bottom: 20px;\"><h3 style=\"display: inline;\">Cluster Info</h3></summary>\n",
       "            <div class=\"jp-RenderedHTMLCommon jp-RenderedHTML jp-mod-trusted jp-OutputArea-output\">\n",
       "    <div style=\"width: 24px; height: 24px; background-color: #e1e1e1; border: 3px solid #9D9D9D; border-radius: 5px; position: absolute;\">\n",
       "    </div>\n",
       "    <div style=\"margin-left: 48px;\">\n",
       "        <h3 style=\"margin-bottom: 0px; margin-top: 0px;\">LocalCluster</h3>\n",
       "        <p style=\"color: #9D9D9D; margin-bottom: 0px;\">16df4e1d</p>\n",
       "        <table style=\"width: 100%; text-align: left;\">\n",
       "            <tr>\n",
       "                <td style=\"text-align: left;\">\n",
       "                    <strong>Dashboard:</strong> <a href=\"/proxy/8787/status\" target=\"_blank\">/proxy/8787/status</a>\n",
       "                </td>\n",
       "                <td style=\"text-align: left;\">\n",
       "                    <strong>Workers:</strong> 10\n",
       "                </td>\n",
       "            </tr>\n",
       "            <tr>\n",
       "                <td style=\"text-align: left;\">\n",
       "                    <strong>Total threads:</strong> 10\n",
       "                </td>\n",
       "                <td style=\"text-align: left;\">\n",
       "                    <strong>Total memory:</strong> 586.73 GiB\n",
       "                </td>\n",
       "            </tr>\n",
       "            \n",
       "            <tr>\n",
       "    <td style=\"text-align: left;\"><strong>Status:</strong> running</td>\n",
       "    <td style=\"text-align: left;\"><strong>Using processes:</strong> True</td>\n",
       "</tr>\n",
       "\n",
       "            \n",
       "        </table>\n",
       "\n",
       "        <details>\n",
       "            <summary style=\"margin-bottom: 20px;\">\n",
       "                <h3 style=\"display: inline;\">Scheduler Info</h3>\n",
       "            </summary>\n",
       "\n",
       "            <div style=\"\">\n",
       "    <div>\n",
       "        <div style=\"width: 24px; height: 24px; background-color: #FFF7E5; border: 3px solid #FF6132; border-radius: 5px; position: absolute;\"> </div>\n",
       "        <div style=\"margin-left: 48px;\">\n",
       "            <h3 style=\"margin-bottom: 0px;\">Scheduler</h3>\n",
       "            <p style=\"color: #9D9D9D; margin-bottom: 0px;\">Scheduler-8a6f056d-c637-49ae-86ae-c44a31279b2b</p>\n",
       "            <table style=\"width: 100%; text-align: left;\">\n",
       "                <tr>\n",
       "                    <td style=\"text-align: left;\">\n",
       "                        <strong>Comm:</strong> tcp://127.0.0.1:38169\n",
       "                    </td>\n",
       "                    <td style=\"text-align: left;\">\n",
       "                        <strong>Workers:</strong> 10\n",
       "                    </td>\n",
       "                </tr>\n",
       "                <tr>\n",
       "                    <td style=\"text-align: left;\">\n",
       "                        <strong>Dashboard:</strong> <a href=\"/proxy/8787/status\" target=\"_blank\">/proxy/8787/status</a>\n",
       "                    </td>\n",
       "                    <td style=\"text-align: left;\">\n",
       "                        <strong>Total threads:</strong> 10\n",
       "                    </td>\n",
       "                </tr>\n",
       "                <tr>\n",
       "                    <td style=\"text-align: left;\">\n",
       "                        <strong>Started:</strong> Just now\n",
       "                    </td>\n",
       "                    <td style=\"text-align: left;\">\n",
       "                        <strong>Total memory:</strong> 586.73 GiB\n",
       "                    </td>\n",
       "                </tr>\n",
       "            </table>\n",
       "        </div>\n",
       "    </div>\n",
       "\n",
       "    <details style=\"margin-left: 48px;\">\n",
       "        <summary style=\"margin-bottom: 20px;\">\n",
       "            <h3 style=\"display: inline;\">Workers</h3>\n",
       "        </summary>\n",
       "\n",
       "        \n",
       "        <div style=\"margin-bottom: 20px;\">\n",
       "            <div style=\"width: 24px; height: 24px; background-color: #DBF5FF; border: 3px solid #4CC9FF; border-radius: 5px; position: absolute;\"> </div>\n",
       "            <div style=\"margin-left: 48px;\">\n",
       "            <details>\n",
       "                <summary>\n",
       "                    <h4 style=\"margin-bottom: 0px; display: inline;\">Worker: 0</h4>\n",
       "                </summary>\n",
       "                <table style=\"width: 100%; text-align: left;\">\n",
       "                    <tr>\n",
       "                        <td style=\"text-align: left;\">\n",
       "                            <strong>Comm: </strong> tcp://127.0.0.1:44535\n",
       "                        </td>\n",
       "                        <td style=\"text-align: left;\">\n",
       "                            <strong>Total threads: </strong> 1\n",
       "                        </td>\n",
       "                    </tr>\n",
       "                    <tr>\n",
       "                        <td style=\"text-align: left;\">\n",
       "                            <strong>Dashboard: </strong> <a href=\"/proxy/44939/status\" target=\"_blank\">/proxy/44939/status</a>\n",
       "                        </td>\n",
       "                        <td style=\"text-align: left;\">\n",
       "                            <strong>Memory: </strong> 58.67 GiB\n",
       "                        </td>\n",
       "                    </tr>\n",
       "                    <tr>\n",
       "                        <td style=\"text-align: left;\">\n",
       "                            <strong>Nanny: </strong> tcp://127.0.0.1:46381\n",
       "                        </td>\n",
       "                        <td style=\"text-align: left;\"></td>\n",
       "                    </tr>\n",
       "                    <tr>\n",
       "                        <td colspan=\"2\" style=\"text-align: left;\">\n",
       "                            <strong>Local directory: </strong> /jobfs/142195440.gadi-pbs/tmpr53r6w40/dask-scratch-space/worker-j1x9xo46\n",
       "                        </td>\n",
       "                    </tr>\n",
       "\n",
       "                    \n",
       "\n",
       "                    \n",
       "\n",
       "                </table>\n",
       "            </details>\n",
       "            </div>\n",
       "        </div>\n",
       "        \n",
       "        <div style=\"margin-bottom: 20px;\">\n",
       "            <div style=\"width: 24px; height: 24px; background-color: #DBF5FF; border: 3px solid #4CC9FF; border-radius: 5px; position: absolute;\"> </div>\n",
       "            <div style=\"margin-left: 48px;\">\n",
       "            <details>\n",
       "                <summary>\n",
       "                    <h4 style=\"margin-bottom: 0px; display: inline;\">Worker: 1</h4>\n",
       "                </summary>\n",
       "                <table style=\"width: 100%; text-align: left;\">\n",
       "                    <tr>\n",
       "                        <td style=\"text-align: left;\">\n",
       "                            <strong>Comm: </strong> tcp://127.0.0.1:32873\n",
       "                        </td>\n",
       "                        <td style=\"text-align: left;\">\n",
       "                            <strong>Total threads: </strong> 1\n",
       "                        </td>\n",
       "                    </tr>\n",
       "                    <tr>\n",
       "                        <td style=\"text-align: left;\">\n",
       "                            <strong>Dashboard: </strong> <a href=\"/proxy/45341/status\" target=\"_blank\">/proxy/45341/status</a>\n",
       "                        </td>\n",
       "                        <td style=\"text-align: left;\">\n",
       "                            <strong>Memory: </strong> 58.67 GiB\n",
       "                        </td>\n",
       "                    </tr>\n",
       "                    <tr>\n",
       "                        <td style=\"text-align: left;\">\n",
       "                            <strong>Nanny: </strong> tcp://127.0.0.1:35577\n",
       "                        </td>\n",
       "                        <td style=\"text-align: left;\"></td>\n",
       "                    </tr>\n",
       "                    <tr>\n",
       "                        <td colspan=\"2\" style=\"text-align: left;\">\n",
       "                            <strong>Local directory: </strong> /jobfs/142195440.gadi-pbs/tmpr53r6w40/dask-scratch-space/worker-wcf08oq4\n",
       "                        </td>\n",
       "                    </tr>\n",
       "\n",
       "                    \n",
       "\n",
       "                    \n",
       "\n",
       "                </table>\n",
       "            </details>\n",
       "            </div>\n",
       "        </div>\n",
       "        \n",
       "        <div style=\"margin-bottom: 20px;\">\n",
       "            <div style=\"width: 24px; height: 24px; background-color: #DBF5FF; border: 3px solid #4CC9FF; border-radius: 5px; position: absolute;\"> </div>\n",
       "            <div style=\"margin-left: 48px;\">\n",
       "            <details>\n",
       "                <summary>\n",
       "                    <h4 style=\"margin-bottom: 0px; display: inline;\">Worker: 2</h4>\n",
       "                </summary>\n",
       "                <table style=\"width: 100%; text-align: left;\">\n",
       "                    <tr>\n",
       "                        <td style=\"text-align: left;\">\n",
       "                            <strong>Comm: </strong> tcp://127.0.0.1:35093\n",
       "                        </td>\n",
       "                        <td style=\"text-align: left;\">\n",
       "                            <strong>Total threads: </strong> 1\n",
       "                        </td>\n",
       "                    </tr>\n",
       "                    <tr>\n",
       "                        <td style=\"text-align: left;\">\n",
       "                            <strong>Dashboard: </strong> <a href=\"/proxy/43231/status\" target=\"_blank\">/proxy/43231/status</a>\n",
       "                        </td>\n",
       "                        <td style=\"text-align: left;\">\n",
       "                            <strong>Memory: </strong> 58.67 GiB\n",
       "                        </td>\n",
       "                    </tr>\n",
       "                    <tr>\n",
       "                        <td style=\"text-align: left;\">\n",
       "                            <strong>Nanny: </strong> tcp://127.0.0.1:42385\n",
       "                        </td>\n",
       "                        <td style=\"text-align: left;\"></td>\n",
       "                    </tr>\n",
       "                    <tr>\n",
       "                        <td colspan=\"2\" style=\"text-align: left;\">\n",
       "                            <strong>Local directory: </strong> /jobfs/142195440.gadi-pbs/tmpr53r6w40/dask-scratch-space/worker-e3nynbai\n",
       "                        </td>\n",
       "                    </tr>\n",
       "\n",
       "                    \n",
       "\n",
       "                    \n",
       "\n",
       "                </table>\n",
       "            </details>\n",
       "            </div>\n",
       "        </div>\n",
       "        \n",
       "        <div style=\"margin-bottom: 20px;\">\n",
       "            <div style=\"width: 24px; height: 24px; background-color: #DBF5FF; border: 3px solid #4CC9FF; border-radius: 5px; position: absolute;\"> </div>\n",
       "            <div style=\"margin-left: 48px;\">\n",
       "            <details>\n",
       "                <summary>\n",
       "                    <h4 style=\"margin-bottom: 0px; display: inline;\">Worker: 3</h4>\n",
       "                </summary>\n",
       "                <table style=\"width: 100%; text-align: left;\">\n",
       "                    <tr>\n",
       "                        <td style=\"text-align: left;\">\n",
       "                            <strong>Comm: </strong> tcp://127.0.0.1:42769\n",
       "                        </td>\n",
       "                        <td style=\"text-align: left;\">\n",
       "                            <strong>Total threads: </strong> 1\n",
       "                        </td>\n",
       "                    </tr>\n",
       "                    <tr>\n",
       "                        <td style=\"text-align: left;\">\n",
       "                            <strong>Dashboard: </strong> <a href=\"/proxy/34195/status\" target=\"_blank\">/proxy/34195/status</a>\n",
       "                        </td>\n",
       "                        <td style=\"text-align: left;\">\n",
       "                            <strong>Memory: </strong> 58.67 GiB\n",
       "                        </td>\n",
       "                    </tr>\n",
       "                    <tr>\n",
       "                        <td style=\"text-align: left;\">\n",
       "                            <strong>Nanny: </strong> tcp://127.0.0.1:36823\n",
       "                        </td>\n",
       "                        <td style=\"text-align: left;\"></td>\n",
       "                    </tr>\n",
       "                    <tr>\n",
       "                        <td colspan=\"2\" style=\"text-align: left;\">\n",
       "                            <strong>Local directory: </strong> /jobfs/142195440.gadi-pbs/tmpr53r6w40/dask-scratch-space/worker-2h5wt4lg\n",
       "                        </td>\n",
       "                    </tr>\n",
       "\n",
       "                    \n",
       "\n",
       "                    \n",
       "\n",
       "                </table>\n",
       "            </details>\n",
       "            </div>\n",
       "        </div>\n",
       "        \n",
       "        <div style=\"margin-bottom: 20px;\">\n",
       "            <div style=\"width: 24px; height: 24px; background-color: #DBF5FF; border: 3px solid #4CC9FF; border-radius: 5px; position: absolute;\"> </div>\n",
       "            <div style=\"margin-left: 48px;\">\n",
       "            <details>\n",
       "                <summary>\n",
       "                    <h4 style=\"margin-bottom: 0px; display: inline;\">Worker: 4</h4>\n",
       "                </summary>\n",
       "                <table style=\"width: 100%; text-align: left;\">\n",
       "                    <tr>\n",
       "                        <td style=\"text-align: left;\">\n",
       "                            <strong>Comm: </strong> tcp://127.0.0.1:37581\n",
       "                        </td>\n",
       "                        <td style=\"text-align: left;\">\n",
       "                            <strong>Total threads: </strong> 1\n",
       "                        </td>\n",
       "                    </tr>\n",
       "                    <tr>\n",
       "                        <td style=\"text-align: left;\">\n",
       "                            <strong>Dashboard: </strong> <a href=\"/proxy/46347/status\" target=\"_blank\">/proxy/46347/status</a>\n",
       "                        </td>\n",
       "                        <td style=\"text-align: left;\">\n",
       "                            <strong>Memory: </strong> 58.67 GiB\n",
       "                        </td>\n",
       "                    </tr>\n",
       "                    <tr>\n",
       "                        <td style=\"text-align: left;\">\n",
       "                            <strong>Nanny: </strong> tcp://127.0.0.1:41603\n",
       "                        </td>\n",
       "                        <td style=\"text-align: left;\"></td>\n",
       "                    </tr>\n",
       "                    <tr>\n",
       "                        <td colspan=\"2\" style=\"text-align: left;\">\n",
       "                            <strong>Local directory: </strong> /jobfs/142195440.gadi-pbs/tmpr53r6w40/dask-scratch-space/worker-ap5l0mky\n",
       "                        </td>\n",
       "                    </tr>\n",
       "\n",
       "                    \n",
       "\n",
       "                    \n",
       "\n",
       "                </table>\n",
       "            </details>\n",
       "            </div>\n",
       "        </div>\n",
       "        \n",
       "        <div style=\"margin-bottom: 20px;\">\n",
       "            <div style=\"width: 24px; height: 24px; background-color: #DBF5FF; border: 3px solid #4CC9FF; border-radius: 5px; position: absolute;\"> </div>\n",
       "            <div style=\"margin-left: 48px;\">\n",
       "            <details>\n",
       "                <summary>\n",
       "                    <h4 style=\"margin-bottom: 0px; display: inline;\">Worker: 5</h4>\n",
       "                </summary>\n",
       "                <table style=\"width: 100%; text-align: left;\">\n",
       "                    <tr>\n",
       "                        <td style=\"text-align: left;\">\n",
       "                            <strong>Comm: </strong> tcp://127.0.0.1:44609\n",
       "                        </td>\n",
       "                        <td style=\"text-align: left;\">\n",
       "                            <strong>Total threads: </strong> 1\n",
       "                        </td>\n",
       "                    </tr>\n",
       "                    <tr>\n",
       "                        <td style=\"text-align: left;\">\n",
       "                            <strong>Dashboard: </strong> <a href=\"/proxy/35071/status\" target=\"_blank\">/proxy/35071/status</a>\n",
       "                        </td>\n",
       "                        <td style=\"text-align: left;\">\n",
       "                            <strong>Memory: </strong> 58.67 GiB\n",
       "                        </td>\n",
       "                    </tr>\n",
       "                    <tr>\n",
       "                        <td style=\"text-align: left;\">\n",
       "                            <strong>Nanny: </strong> tcp://127.0.0.1:43573\n",
       "                        </td>\n",
       "                        <td style=\"text-align: left;\"></td>\n",
       "                    </tr>\n",
       "                    <tr>\n",
       "                        <td colspan=\"2\" style=\"text-align: left;\">\n",
       "                            <strong>Local directory: </strong> /jobfs/142195440.gadi-pbs/tmpr53r6w40/dask-scratch-space/worker-8y3xz9vf\n",
       "                        </td>\n",
       "                    </tr>\n",
       "\n",
       "                    \n",
       "\n",
       "                    \n",
       "\n",
       "                </table>\n",
       "            </details>\n",
       "            </div>\n",
       "        </div>\n",
       "        \n",
       "        <div style=\"margin-bottom: 20px;\">\n",
       "            <div style=\"width: 24px; height: 24px; background-color: #DBF5FF; border: 3px solid #4CC9FF; border-radius: 5px; position: absolute;\"> </div>\n",
       "            <div style=\"margin-left: 48px;\">\n",
       "            <details>\n",
       "                <summary>\n",
       "                    <h4 style=\"margin-bottom: 0px; display: inline;\">Worker: 6</h4>\n",
       "                </summary>\n",
       "                <table style=\"width: 100%; text-align: left;\">\n",
       "                    <tr>\n",
       "                        <td style=\"text-align: left;\">\n",
       "                            <strong>Comm: </strong> tcp://127.0.0.1:39885\n",
       "                        </td>\n",
       "                        <td style=\"text-align: left;\">\n",
       "                            <strong>Total threads: </strong> 1\n",
       "                        </td>\n",
       "                    </tr>\n",
       "                    <tr>\n",
       "                        <td style=\"text-align: left;\">\n",
       "                            <strong>Dashboard: </strong> <a href=\"/proxy/41477/status\" target=\"_blank\">/proxy/41477/status</a>\n",
       "                        </td>\n",
       "                        <td style=\"text-align: left;\">\n",
       "                            <strong>Memory: </strong> 58.67 GiB\n",
       "                        </td>\n",
       "                    </tr>\n",
       "                    <tr>\n",
       "                        <td style=\"text-align: left;\">\n",
       "                            <strong>Nanny: </strong> tcp://127.0.0.1:42777\n",
       "                        </td>\n",
       "                        <td style=\"text-align: left;\"></td>\n",
       "                    </tr>\n",
       "                    <tr>\n",
       "                        <td colspan=\"2\" style=\"text-align: left;\">\n",
       "                            <strong>Local directory: </strong> /jobfs/142195440.gadi-pbs/tmpr53r6w40/dask-scratch-space/worker-gw8oy99f\n",
       "                        </td>\n",
       "                    </tr>\n",
       "\n",
       "                    \n",
       "\n",
       "                    \n",
       "\n",
       "                </table>\n",
       "            </details>\n",
       "            </div>\n",
       "        </div>\n",
       "        \n",
       "        <div style=\"margin-bottom: 20px;\">\n",
       "            <div style=\"width: 24px; height: 24px; background-color: #DBF5FF; border: 3px solid #4CC9FF; border-radius: 5px; position: absolute;\"> </div>\n",
       "            <div style=\"margin-left: 48px;\">\n",
       "            <details>\n",
       "                <summary>\n",
       "                    <h4 style=\"margin-bottom: 0px; display: inline;\">Worker: 7</h4>\n",
       "                </summary>\n",
       "                <table style=\"width: 100%; text-align: left;\">\n",
       "                    <tr>\n",
       "                        <td style=\"text-align: left;\">\n",
       "                            <strong>Comm: </strong> tcp://127.0.0.1:34801\n",
       "                        </td>\n",
       "                        <td style=\"text-align: left;\">\n",
       "                            <strong>Total threads: </strong> 1\n",
       "                        </td>\n",
       "                    </tr>\n",
       "                    <tr>\n",
       "                        <td style=\"text-align: left;\">\n",
       "                            <strong>Dashboard: </strong> <a href=\"/proxy/36039/status\" target=\"_blank\">/proxy/36039/status</a>\n",
       "                        </td>\n",
       "                        <td style=\"text-align: left;\">\n",
       "                            <strong>Memory: </strong> 58.67 GiB\n",
       "                        </td>\n",
       "                    </tr>\n",
       "                    <tr>\n",
       "                        <td style=\"text-align: left;\">\n",
       "                            <strong>Nanny: </strong> tcp://127.0.0.1:39251\n",
       "                        </td>\n",
       "                        <td style=\"text-align: left;\"></td>\n",
       "                    </tr>\n",
       "                    <tr>\n",
       "                        <td colspan=\"2\" style=\"text-align: left;\">\n",
       "                            <strong>Local directory: </strong> /jobfs/142195440.gadi-pbs/tmpr53r6w40/dask-scratch-space/worker-zr_iv4gx\n",
       "                        </td>\n",
       "                    </tr>\n",
       "\n",
       "                    \n",
       "\n",
       "                    \n",
       "\n",
       "                </table>\n",
       "            </details>\n",
       "            </div>\n",
       "        </div>\n",
       "        \n",
       "        <div style=\"margin-bottom: 20px;\">\n",
       "            <div style=\"width: 24px; height: 24px; background-color: #DBF5FF; border: 3px solid #4CC9FF; border-radius: 5px; position: absolute;\"> </div>\n",
       "            <div style=\"margin-left: 48px;\">\n",
       "            <details>\n",
       "                <summary>\n",
       "                    <h4 style=\"margin-bottom: 0px; display: inline;\">Worker: 8</h4>\n",
       "                </summary>\n",
       "                <table style=\"width: 100%; text-align: left;\">\n",
       "                    <tr>\n",
       "                        <td style=\"text-align: left;\">\n",
       "                            <strong>Comm: </strong> tcp://127.0.0.1:40331\n",
       "                        </td>\n",
       "                        <td style=\"text-align: left;\">\n",
       "                            <strong>Total threads: </strong> 1\n",
       "                        </td>\n",
       "                    </tr>\n",
       "                    <tr>\n",
       "                        <td style=\"text-align: left;\">\n",
       "                            <strong>Dashboard: </strong> <a href=\"/proxy/37011/status\" target=\"_blank\">/proxy/37011/status</a>\n",
       "                        </td>\n",
       "                        <td style=\"text-align: left;\">\n",
       "                            <strong>Memory: </strong> 58.67 GiB\n",
       "                        </td>\n",
       "                    </tr>\n",
       "                    <tr>\n",
       "                        <td style=\"text-align: left;\">\n",
       "                            <strong>Nanny: </strong> tcp://127.0.0.1:36037\n",
       "                        </td>\n",
       "                        <td style=\"text-align: left;\"></td>\n",
       "                    </tr>\n",
       "                    <tr>\n",
       "                        <td colspan=\"2\" style=\"text-align: left;\">\n",
       "                            <strong>Local directory: </strong> /jobfs/142195440.gadi-pbs/tmpr53r6w40/dask-scratch-space/worker-xr9zj9a8\n",
       "                        </td>\n",
       "                    </tr>\n",
       "\n",
       "                    \n",
       "\n",
       "                    \n",
       "\n",
       "                </table>\n",
       "            </details>\n",
       "            </div>\n",
       "        </div>\n",
       "        \n",
       "        <div style=\"margin-bottom: 20px;\">\n",
       "            <div style=\"width: 24px; height: 24px; background-color: #DBF5FF; border: 3px solid #4CC9FF; border-radius: 5px; position: absolute;\"> </div>\n",
       "            <div style=\"margin-left: 48px;\">\n",
       "            <details>\n",
       "                <summary>\n",
       "                    <h4 style=\"margin-bottom: 0px; display: inline;\">Worker: 9</h4>\n",
       "                </summary>\n",
       "                <table style=\"width: 100%; text-align: left;\">\n",
       "                    <tr>\n",
       "                        <td style=\"text-align: left;\">\n",
       "                            <strong>Comm: </strong> tcp://127.0.0.1:37735\n",
       "                        </td>\n",
       "                        <td style=\"text-align: left;\">\n",
       "                            <strong>Total threads: </strong> 1\n",
       "                        </td>\n",
       "                    </tr>\n",
       "                    <tr>\n",
       "                        <td style=\"text-align: left;\">\n",
       "                            <strong>Dashboard: </strong> <a href=\"/proxy/41027/status\" target=\"_blank\">/proxy/41027/status</a>\n",
       "                        </td>\n",
       "                        <td style=\"text-align: left;\">\n",
       "                            <strong>Memory: </strong> 58.67 GiB\n",
       "                        </td>\n",
       "                    </tr>\n",
       "                    <tr>\n",
       "                        <td style=\"text-align: left;\">\n",
       "                            <strong>Nanny: </strong> tcp://127.0.0.1:34161\n",
       "                        </td>\n",
       "                        <td style=\"text-align: left;\"></td>\n",
       "                    </tr>\n",
       "                    <tr>\n",
       "                        <td colspan=\"2\" style=\"text-align: left;\">\n",
       "                            <strong>Local directory: </strong> /jobfs/142195440.gadi-pbs/tmpr53r6w40/dask-scratch-space/worker-_8hcxhx3\n",
       "                        </td>\n",
       "                    </tr>\n",
       "\n",
       "                    \n",
       "\n",
       "                    \n",
       "\n",
       "                </table>\n",
       "            </details>\n",
       "            </div>\n",
       "        </div>\n",
       "        \n",
       "\n",
       "    </details>\n",
       "</div>\n",
       "\n",
       "        </details>\n",
       "    </div>\n",
       "</div>\n",
       "            </details>\n",
       "        \n",
       "\n",
       "    </div>\n",
       "</div>"
      ],
      "text/plain": [
       "<Client: 'tcp://127.0.0.1:38169' processes=10 threads=10, memory=586.73 GiB>"
      ]
     },
     "execution_count": 4,
     "metadata": {},
     "output_type": "execute_result"
    }
   ],
   "source": [
    "import dask\n",
    "import tempfile\n",
    "from dask.diagnostics import ProgressBar\n",
    "from dask.distributed import Client, LocalCluster\n",
    "\n",
    "dask.config.set({\n",
    "    'array.chunk-size': \"256 MiB\",\n",
    "    'array.slicing.split_large_chunks': True, #This can make AXIOM very slow\n",
    "    'distributed.comm.timeouts.connect': '120s',\n",
    "    'distributed.comm.timeouts.tcp': '120s',\n",
    "    'distributed.comm.retry.count': 10,\n",
    "    'distributed.scheduler.allowed-failures': 20,\n",
    "    \"distributed.scheduler.worker-saturation\": 1.1, #This should use the new behaviour which helps with memory pile up\n",
    "})\n",
    "\n",
    "# client = dask.distributed.Client()\n",
    "client = Client(n_workers=10, threads_per_worker=1, local_directory = tempfile.mkdtemp(), memory_limit = \"63000mb\")\n",
    "client"
   ]
  },
  {
   "cell_type": "markdown",
   "id": "016ce5d3-a5a7-41c8-8174-3dc9ac759ef9",
   "metadata": {
    "jp-MarkdownHeadingCollapsed": true
   },
   "source": [
    "### Step 1 -> Extract daily T, q, Rd, U10 and convert to 7-day running means \n",
    "Hourly MERRA2 files are very large - extract only relevant variables for domain of interest with dask and write locally (only need to do this step once)<br>\n",
    "<sub>Need to write locally as working with dask arrays using .compute crashes the session and takes a long time</sub>"
   ]
  },
  {
   "cell_type": "code",
   "execution_count": 5,
   "id": "edbf7722-fa75-4bc3-992c-1eaa87cc99f2",
   "metadata": {
    "execution": {
     "iopub.execute_input": "2025-02-27T00:16:54.442081Z",
     "iopub.status.busy": "2025-02-27T00:16:54.441803Z",
     "iopub.status.idle": "2025-02-27T02:31:56.243853Z",
     "shell.execute_reply": "2025-02-27T02:31:56.213131Z",
     "shell.execute_reply.started": "2025-02-27T00:16:54.442053Z"
    }
   },
   "outputs": [
    {
     "name": "stdout",
     "output_type": "stream",
     "text": [
      "CPU times: user 1h 33min 55s, sys: 6min 2s, total: 1h 39min 58s\n",
      "Wall time: 2h 15min 1s\n"
     ]
    },
    {
     "data": {
      "text/plain": [
       "15373"
      ]
     },
     "execution_count": 5,
     "metadata": {},
     "output_type": "execute_result"
    }
   ],
   "source": [
    "%%time\n",
    "#load in 2m air temperature (K), 2m eastward wind speed (m/s), 2m specific humidity (kg/kg) and aggregate to daily timescale\n",
    "T2M_U2M_QV2M_files = []\n",
    "for year in range(1980,2023):\n",
    "    for month in range(1,13):\n",
    "        T2M_U2M_QV2M_files.extend(sorted(glob.glob(f\"{MERRA2_T2M_U2M_QV2M_dir}/{year}/{str(month).zfill(2)}/*.nc4\")))\n",
    "\n",
    "def preprocess_T2M_U2M_QV2M(ds): #preprocess function to save memory and time\n",
    "    logging.getLogger('flox').setLevel(logging.WARNING)\n",
    "    return ds[['T2M', 'U2M', 'QV2M']].resample(time='1D').mean().sel(lat=slice(-45,-1), lon=slice(100,180))\n",
    "\n",
    "T2M_U2M_QV2M_cube = xr.open_mfdataset(T2M_U2M_QV2M_files,combine='nested', concat_dim='time',parallel=True, preprocess=preprocess_T2M_U2M_QV2M, engine='netcdf4').chunk({'time':-1, 'lat':'auto', 'lon':'auto'})\n",
    "\n",
    "#write to netcdf and clear up local memory, ok to store locally only takes ~1.5gb\n",
    "T2M_U2M_QV2M_cube.to_netcdf('/g/data/mn51/users/jb6465/MERRA2_daily_T2M_U2M_QV2M.nc', encoding={'T2M': {'zlib': True, 'complevel': 5, 'dtype':'float32'}, 'U2M': {'zlib': True, 'complevel': 5, 'dtype':'float32'}, 'QV2M': {'zlib': True, 'complevel': 5, 'dtype':'float32'}})\n",
    "del T2M_U2M_QV2M_cube\n",
    "gc.collect()"
   ]
  },
  {
   "cell_type": "code",
   "execution_count": 6,
   "id": "2c7b7f26-63d7-4b16-9017-4f2e9efea96c",
   "metadata": {
    "execution": {
     "iopub.execute_input": "2025-02-27T02:31:56.345975Z",
     "iopub.status.busy": "2025-02-27T02:31:56.339961Z",
     "iopub.status.idle": "2025-02-27T03:18:29.957169Z",
     "shell.execute_reply": "2025-02-27T03:18:29.955842Z",
     "shell.execute_reply.started": "2025-02-27T02:31:56.345920Z"
    }
   },
   "outputs": [
    {
     "name": "stdout",
     "output_type": "stream",
     "text": [
      "CPU times: user 34min 1s, sys: 1min 54s, total: 35min 56s\n",
      "Wall time: 46min 33s\n"
     ]
    },
    {
     "data": {
      "text/plain": [
       "13735"
      ]
     },
     "execution_count": 6,
     "metadata": {},
     "output_type": "execute_result"
    }
   ],
   "source": [
    "%%time\n",
    "#load in incoming surface solar radiation (W/m2) and aggregate to daily timescale\n",
    "SWGDN_files = []\n",
    "for year in range(1980,2023):\n",
    "    for month in range(1,13):\n",
    "        SWGDN_files.extend(sorted(glob.glob(f\"{MERRA2_SWGDN_dir}/{year}/{str(month).zfill(2)}/*.nc4\")))\n",
    "\n",
    "def preprocess_SWdn(ds): #preprocess function to save memory and time\n",
    "    logging.getLogger('flox').setLevel(logging.WARNING)\n",
    "    return ds['SWGDN'].resample(time='1D').mean().sel(lat=slice(-45,-1), lon=slice(100,180))\n",
    "\n",
    "SWGDN_cube = xr.open_mfdataset(SWGDN_files,combine='nested', concat_dim='time',parallel=True, preprocess=preprocess_SWdn, engine='netcdf4').chunk({'time':-1, 'lat':'auto', 'lon':'auto'})\n",
    "\n",
    "#write to netcdf and clear up local memory, ok to store locally only takes ~500mb\n",
    "SWGDN_cube.to_netcdf('/g/data/mn51/users/jb6465/MERRA2_daily_SWGDN.nc', encoding={'SWGDN': {'zlib': True, 'complevel': 5, 'dtype':'float32'}})\n",
    "del SWGDN_cube\n",
    "gc.collect()"
   ]
  },
  {
   "cell_type": "markdown",
   "id": "76561e92-e89b-45c1-b35c-27ca137628bb",
   "metadata": {},
   "source": [
    "<br> "
   ]
  },
  {
   "cell_type": "markdown",
   "id": "b8f3816a-b71d-41cd-a147-21960cf29031",
   "metadata": {},
   "source": [
    "### Step 2 -> Calculate daily reference ET and convert to 7-day running means"
   ]
  },
  {
   "cell_type": "markdown",
   "id": "3eb35c26-b778-4510-b116-cd6846f03df9",
   "metadata": {},
   "source": [
    "<br>Inputs"
   ]
  },
  {
   "cell_type": "code",
   "execution_count": 5,
   "id": "b5ea58e6-3be9-425e-9e58-0ff205d2c158",
   "metadata": {
    "execution": {
     "iopub.execute_input": "2025-06-02T05:12:28.773343Z",
     "iopub.status.busy": "2025-06-02T05:12:28.773138Z",
     "iopub.status.idle": "2025-06-02T05:12:50.013944Z",
     "shell.execute_reply": "2025-06-02T05:12:50.012939Z",
     "shell.execute_reply.started": "2025-06-02T05:12:28.773323Z"
    }
   },
   "outputs": [],
   "source": [
    "T2M_U2M_QV2M_cube = xr.open_dataset('/g/data/mn51/users/jb6465/data/MERRA2_data/MERRA2_daily_T2M_U2M_QV2M.nc')\n",
    "SWGDN_cube = xr.open_dataset('/g/data/mn51/users/jb6465/data/MERRA2_data/MERRA2_daily_SWGDN.nc')\n",
    "\n",
    "T2M = T2M_U2M_QV2M_cube['T2M'] #2-m daily mean air temperature [K]\n",
    "U2M = np.abs(T2M_U2M_QV2M_cube['U2M']) #2-m eastward wind speed [m/s]\n",
    "QV2M = T2M_U2M_QV2M_cube['QV2M'] #2-m specific humidity [kg/kg]\n",
    "SWGDN = SWGDN_cube['SWGDN'] #surface downwave shortwave radiation flux [W/m2]"
   ]
  },
  {
   "cell_type": "markdown",
   "id": "2e04ff6c-82c7-4d63-aad5-95eaf4387cf9",
   "metadata": {},
   "source": [
    "<br>Elevation - following approach from Mike's [MERRA2 paper code](https://www.sciencebase.gov/catalog/item/6515cb7ad34e469cabfcdccd), elev file not stored on gadi so downloaded locally from NASA earthdata"
   ]
  },
  {
   "cell_type": "code",
   "execution_count": 6,
   "id": "4d75e3c4-f4a7-430a-bd87-decdd384b7a2",
   "metadata": {
    "execution": {
     "iopub.execute_input": "2025-06-02T05:12:50.015887Z",
     "iopub.status.busy": "2025-06-02T05:12:50.015141Z",
     "iopub.status.idle": "2025-06-02T05:12:50.048891Z",
     "shell.execute_reply": "2025-06-02T05:12:50.047876Z",
     "shell.execute_reply.started": "2025-06-02T05:12:50.015860Z"
    }
   },
   "outputs": [],
   "source": [
    "elevfile = xr.open_dataset('/g/data/mn51/users/jb6465/data/MERRA2_data/MERRA2_101.const_2d_asm_Nx.nc4')\n",
    "\n",
    "geopot = elevfile['PHIS'].sel(lat=slice(-45,-1), lon=slice(100,180))[0]\n",
    "elev = geopot/9.81 #divide by 9.81m2/s to get elevation [m]"
   ]
  },
  {
   "cell_type": "markdown",
   "id": "e0786e02-d5ea-4bd8-a743-ff274a514fd7",
   "metadata": {},
   "source": [
    "<br>Switch for short crop (0.12m grass) or tall crop (0.50m alfafa)"
   ]
  },
  {
   "cell_type": "code",
   "execution_count": 7,
   "id": "939a52fd-ec0d-4bf1-b04f-27eae955f867",
   "metadata": {
    "execution": {
     "iopub.execute_input": "2025-06-02T05:12:50.051012Z",
     "iopub.status.busy": "2025-06-02T05:12:50.050753Z",
     "iopub.status.idle": "2025-06-02T05:12:50.055339Z",
     "shell.execute_reply": "2025-06-02T05:12:50.054437Z",
     "shell.execute_reply.started": "2025-06-02T05:12:50.050987Z"
    }
   },
   "outputs": [],
   "source": [
    "short_tall_crop_switch = 'short' #short (0.12m grass) or tall (0.50m alfafa)"
   ]
  },
  {
   "cell_type": "markdown",
   "id": "cb66e9eb-2001-4706-9444-5b1111e003e1",
   "metadata": {
    "execution": {
     "iopub.execute_input": "2025-03-16T23:46:20.494516Z",
     "iopub.status.busy": "2025-03-16T23:46:20.493438Z",
     "iopub.status.idle": "2025-03-16T23:46:20.508121Z",
     "shell.execute_reply": "2025-03-16T23:46:20.506030Z",
     "shell.execute_reply.started": "2025-03-16T23:46:20.494433Z"
    }
   },
   "source": [
    "### Ref ET using [FAO56](https://github.com/jb6465/flash-drought/blob/main/relevant_studies/FAO56.pdf) / Mike fortran code units"
   ]
  },
  {
   "cell_type": "markdown",
   "id": "30e35a85-64f3-4c04-b2fe-c5fa995da721",
   "metadata": {},
   "source": [
    "<br>Constants"
   ]
  },
  {
   "cell_type": "code",
   "execution_count": 208,
   "id": "cf8da519-4a13-46ba-83b2-3c0080fde91d",
   "metadata": {
    "execution": {
     "iopub.execute_input": "2025-06-02T06:24:51.031976Z",
     "iopub.status.busy": "2025-06-02T06:24:51.031457Z",
     "iopub.status.idle": "2025-06-02T06:24:51.040334Z",
     "shell.execute_reply": "2025-06-02T06:24:51.039029Z",
     "shell.execute_reply.started": "2025-06-02T06:24:51.031929Z"
    }
   },
   "outputs": [],
   "source": [
    "# Cn: numerator crop constant [K.m.s3/(kg.day)]\n",
    "Cn = 1.6 if short_tall_crop_switch == 'tall' else 0.9 "
   ]
  },
  {
   "cell_type": "code",
   "execution_count": 209,
   "id": "b15ea76b-a499-47d8-99fc-8e4e943374bb",
   "metadata": {
    "execution": {
     "iopub.execute_input": "2025-06-02T06:24:51.250722Z",
     "iopub.status.busy": "2025-06-02T06:24:51.250177Z",
     "iopub.status.idle": "2025-06-02T06:24:51.256945Z",
     "shell.execute_reply": "2025-06-02T06:24:51.255324Z",
     "shell.execute_reply.started": "2025-06-02T06:24:51.250679Z"
    }
   },
   "outputs": [],
   "source": [
    "# Cd: denominator crop constant [s/m]\n",
    "Cd = 0.38 if short_tall_crop_switch == 'tall' else 0.34"
   ]
  },
  {
   "cell_type": "code",
   "execution_count": 210,
   "id": "867e3833-c306-4a5d-b658-1e0c47d298cf",
   "metadata": {
    "execution": {
     "iopub.execute_input": "2025-06-02T06:24:51.409250Z",
     "iopub.status.busy": "2025-06-02T06:24:51.408787Z",
     "iopub.status.idle": "2025-06-02T06:24:51.415245Z",
     "shell.execute_reply": "2025-06-02T06:24:51.413868Z",
     "shell.execute_reply.started": "2025-06-02T06:24:51.409206Z"
    }
   },
   "outputs": [],
   "source": [
    "# Gsc: solar constant [J/(m2.hr)]\n",
    "Gsc = 4.92e6"
   ]
  },
  {
   "cell_type": "code",
   "execution_count": 211,
   "id": "4219d954-e95c-4a27-b37b-0d6754da0c56",
   "metadata": {
    "execution": {
     "iopub.execute_input": "2025-06-02T06:24:51.554138Z",
     "iopub.status.busy": "2025-06-02T06:24:51.553714Z",
     "iopub.status.idle": "2025-06-02T06:24:51.559820Z",
     "shell.execute_reply": "2025-06-02T06:24:51.558569Z",
     "shell.execute_reply.started": "2025-06-02T06:24:51.554098Z"
    }
   },
   "outputs": [],
   "source": [
    "# sigma: Stefan-Boltzmann constant [J/(K4.m2.day)]\n",
    "sigma = 4.901e-3"
   ]
  },
  {
   "cell_type": "code",
   "execution_count": 212,
   "id": "49e5cc7c-7f0b-49a4-b275-4482dbb27205",
   "metadata": {
    "execution": {
     "iopub.execute_input": "2025-06-02T06:24:51.696809Z",
     "iopub.status.busy": "2025-06-02T06:24:51.696002Z",
     "iopub.status.idle": "2025-06-02T06:24:51.701754Z",
     "shell.execute_reply": "2025-06-02T06:24:51.700477Z",
     "shell.execute_reply.started": "2025-06-02T06:24:51.696766Z"
    }
   },
   "outputs": [],
   "source": [
    "# albedo [unitless]\n",
    "albedo = 0.23"
   ]
  },
  {
   "cell_type": "markdown",
   "id": "a4da3e4f-3609-4259-b1fa-4fd5e5715a8b",
   "metadata": {},
   "source": [
    "<br>Input variables"
   ]
  },
  {
   "cell_type": "code",
   "execution_count": 213,
   "id": "25c6a461-bf5d-4eed-b61d-e40fcc20476e",
   "metadata": {
    "execution": {
     "iopub.execute_input": "2025-06-02T06:24:51.970365Z",
     "iopub.status.busy": "2025-06-02T06:24:51.969910Z",
     "iopub.status.idle": "2025-06-02T06:24:52.649598Z",
     "shell.execute_reply": "2025-06-02T06:24:52.648679Z",
     "shell.execute_reply.started": "2025-06-02T06:24:51.970321Z"
    }
   },
   "outputs": [],
   "source": [
    "# Rs: downwelling short wave radiation [J/(m2.day)]\n",
    "Rs = (SWGDN * 86400)"
   ]
  },
  {
   "cell_type": "code",
   "execution_count": 214,
   "id": "a6836398-e72e-4d92-8e38-5d124e2920dc",
   "metadata": {
    "execution": {
     "iopub.execute_input": "2025-06-02T06:24:52.650811Z",
     "iopub.status.busy": "2025-06-02T06:24:52.650619Z",
     "iopub.status.idle": "2025-06-02T06:24:52.910661Z",
     "shell.execute_reply": "2025-06-02T06:24:52.909681Z",
     "shell.execute_reply.started": "2025-06-02T06:24:52.650793Z"
    }
   },
   "outputs": [],
   "source": [
    "# T: daily mean temperature [°C]\n",
    "T = T2M-273.15"
   ]
  },
  {
   "cell_type": "code",
   "execution_count": 215,
   "id": "9f7f21c8-b789-4058-ae69-5cb05ad3d491",
   "metadata": {
    "execution": {
     "iopub.execute_input": "2025-06-02T06:24:52.911525Z",
     "iopub.status.busy": "2025-06-02T06:24:52.911349Z",
     "iopub.status.idle": "2025-06-02T06:24:52.916745Z",
     "shell.execute_reply": "2025-06-02T06:24:52.915878Z",
     "shell.execute_reply.started": "2025-06-02T06:24:52.911507Z"
    }
   },
   "outputs": [],
   "source": [
    "# Patm: surface pressure [Pa] = f(elev[m])                                                [FAO56 Eq. 7]\n",
    "Patm = 101300 * ((293. - 0.0065 * elev) / 293.)**5.26"
   ]
  },
  {
   "cell_type": "code",
   "execution_count": 216,
   "id": "efe10b6b-c6a0-4c3e-ad23-5a54717fcca1",
   "metadata": {
    "execution": {
     "iopub.execute_input": "2025-06-02T06:24:52.918400Z",
     "iopub.status.busy": "2025-06-02T06:24:52.918199Z",
     "iopub.status.idle": "2025-06-02T06:24:52.929397Z",
     "shell.execute_reply": "2025-06-02T06:24:52.928383Z",
     "shell.execute_reply.started": "2025-06-02T06:24:52.918384Z"
    }
   },
   "outputs": [],
   "source": [
    "# gamma: psychrometric constant [Pa/°C]                                                   [FAO56 Eq. 8]\n",
    "gamma = 0.665e-3 * Patm"
   ]
  },
  {
   "cell_type": "code",
   "execution_count": 217,
   "id": "e495c6a0-923c-4e8e-84ff-359c7486d13b",
   "metadata": {
    "execution": {
     "iopub.execute_input": "2025-06-02T06:24:52.930436Z",
     "iopub.status.busy": "2025-06-02T06:24:52.930160Z",
     "iopub.status.idle": "2025-06-02T06:24:54.581782Z",
     "shell.execute_reply": "2025-06-02T06:24:54.580874Z",
     "shell.execute_reply.started": "2025-06-02T06:24:52.930409Z"
    }
   },
   "outputs": [],
   "source": [
    "# esat: saturated vapor pressure [Pa] = f(T[°C])            ,                             [FAO56 Eq. 11]\n",
    "esat = 610.8 * np.exp((17.27*T/(T+237.3)))"
   ]
  },
  {
   "cell_type": "code",
   "execution_count": 218,
   "id": "2223746d-2836-4222-a980-9c01bcf59b91",
   "metadata": {
    "execution": {
     "iopub.execute_input": "2025-06-02T06:24:54.582669Z",
     "iopub.status.busy": "2025-06-02T06:24:54.582489Z",
     "iopub.status.idle": "2025-06-02T06:24:55.152496Z",
     "shell.execute_reply": "2025-06-02T06:24:55.151639Z",
     "shell.execute_reply.started": "2025-06-02T06:24:54.582651Z"
    }
   },
   "outputs": [],
   "source": [
    "# w: mixing ratio [kg/kg] = f(QV2M[kg/kg])                                                \n",
    "w = QV2M / (1. - QV2M)"
   ]
  },
  {
   "cell_type": "code",
   "execution_count": 219,
   "id": "a8885155-ee3e-4f78-aa00-a7268e191dbb",
   "metadata": {
    "execution": {
     "iopub.execute_input": "2025-06-02T06:24:55.153700Z",
     "iopub.status.busy": "2025-06-02T06:24:55.153513Z",
     "iopub.status.idle": "2025-06-02T06:24:57.295458Z",
     "shell.execute_reply": "2025-06-02T06:24:57.294287Z",
     "shell.execute_reply.started": "2025-06-02T06:24:55.153682Z"
    }
   },
   "outputs": [],
   "source": [
    "# eact: actual vapor pressure [Pa] = f(Patm[Pa], w[kg/kg])                                [FAO56 Eq. ???]\n",
    "eact = (Patm * w) / (0.622 + w)\n",
    "eact = eact.clip(max=esat) #clip eact ≤ esat"
   ]
  },
  {
   "cell_type": "code",
   "execution_count": 220,
   "id": "84592a42-0d61-4dee-81d4-f33d589c2565",
   "metadata": {
    "execution": {
     "iopub.execute_input": "2025-06-02T06:24:57.297428Z",
     "iopub.status.busy": "2025-06-02T06:24:57.297243Z",
     "iopub.status.idle": "2025-06-02T06:24:59.639265Z",
     "shell.execute_reply": "2025-06-02T06:24:59.638155Z",
     "shell.execute_reply.started": "2025-06-02T06:24:57.297410Z"
    }
   },
   "outputs": [],
   "source": [
    "# delta: slope of the saturated vapor pressure curve at T [Pa/K] = f(T[°C])               [FAO56 Eq. 13]\n",
    "delta = (4098. * 610.8 * np.exp(17.27 * T / (T + 237.3))) / (T + 237.3)**2 "
   ]
  },
  {
   "cell_type": "code",
   "execution_count": 221,
   "id": "bcc6a0f7-7822-40b8-8b45-ece0fa441ec0",
   "metadata": {
    "execution": {
     "iopub.execute_input": "2025-06-02T06:24:59.640128Z",
     "iopub.status.busy": "2025-06-02T06:24:59.639916Z",
     "iopub.status.idle": "2025-06-02T06:24:59.643983Z",
     "shell.execute_reply": "2025-06-02T06:24:59.643149Z",
     "shell.execute_reply.started": "2025-06-02T06:24:59.640095Z"
    }
   },
   "outputs": [],
   "source": [
    "# G: ground heat flux  [MJ/(m2.day)], on daily time scales, G ≈ 0                         [FAO56 Eq. 42]\n",
    "G = 0 "
   ]
  },
  {
   "cell_type": "code",
   "execution_count": 222,
   "id": "5cb8b428-7b82-4d11-a2f1-9b6d319bac88",
   "metadata": {
    "execution": {
     "iopub.execute_input": "2025-06-02T06:24:59.644798Z",
     "iopub.status.busy": "2025-06-02T06:24:59.644631Z",
     "iopub.status.idle": "2025-06-02T06:24:59.662796Z",
     "shell.execute_reply": "2025-06-02T06:24:59.661814Z",
     "shell.execute_reply.started": "2025-06-02T06:24:59.644782Z"
    }
   },
   "outputs": [],
   "source": [
    "# decl: declination [radians] = f(pi[unitless], jday[unitless])                           [FAO56 Eq. 42]\n",
    "jday = xr.DataArray(SWGDN.time.dt.dayofyear.values, coords=[('day', SWGDN.time.dt.dayofyear.values)], dims=[\"day\"])\n",
    "decl = 0.409 * np.sin((2. * np.pi * jday / 365) - 1.39)"
   ]
  },
  {
   "cell_type": "code",
   "execution_count": 223,
   "id": "2f7a0368-dc8d-4074-96a5-c3c93adf3402",
   "metadata": {
    "execution": {
     "iopub.execute_input": "2025-06-02T06:24:59.663759Z",
     "iopub.status.busy": "2025-06-02T06:24:59.663521Z",
     "iopub.status.idle": "2025-06-02T06:24:59.699042Z",
     "shell.execute_reply": "2025-06-02T06:24:59.696428Z",
     "shell.execute_reply.started": "2025-06-02T06:24:59.663736Z"
    }
   },
   "outputs": [],
   "source": [
    "# ws: sunset hour angle ws[radians] = f(latitude[rad], dec[rad])                          [FAO56 Eq. 25]\n",
    "Lat = SWGDN.lat\n",
    "ws = np.arccos(-1 * np.tan(np.deg2rad(Lat)) * np.tan(decl))"
   ]
  },
  {
   "cell_type": "code",
   "execution_count": 224,
   "id": "77f32dbe-e7eb-46e8-9d51-45fc5a3b8d8e",
   "metadata": {
    "execution": {
     "iopub.execute_input": "2025-06-02T06:24:59.700539Z",
     "iopub.status.busy": "2025-06-02T06:24:59.700135Z",
     "iopub.status.idle": "2025-06-02T06:24:59.706965Z",
     "shell.execute_reply": "2025-06-02T06:24:59.705746Z",
     "shell.execute_reply.started": "2025-06-02T06:24:59.700501Z"
    }
   },
   "outputs": [],
   "source": [
    "# dr: inverse relative distance of earth from sun [unitless]                              [FAO56 Eq. 23]\n",
    "dr = 1. + 0.033 * np.cos(2. * np.pi * jday / 365)"
   ]
  },
  {
   "cell_type": "code",
   "execution_count": 225,
   "id": "2b1e4906-9de4-4685-b56d-f5fd521a95a8",
   "metadata": {
    "execution": {
     "iopub.execute_input": "2025-06-02T06:24:59.708447Z",
     "iopub.status.busy": "2025-06-02T06:24:59.708018Z",
     "iopub.status.idle": "2025-06-02T06:24:59.763173Z",
     "shell.execute_reply": "2025-06-02T06:24:59.762304Z",
     "shell.execute_reply.started": "2025-06-02T06:24:59.708398Z"
    }
   },
   "outputs": [],
   "source": [
    "# Ra: extra-terrestrial (TOA) SW radiation [J/(m2.day)] = \n",
    "#f(Gsc [J/m2/hour], dr [unitless], ws [rad], Lat [rad], decl [rad])                       [FAO56 Eq. 21] \n",
    "Ra = (24. / np.pi) * Gsc * dr * (ws * np.sin(np.deg2rad(Lat)) * np.sin(decl) + np.cos(np.deg2rad(Lat)) * np.cos(decl) * np.sin(ws))"
   ]
  },
  {
   "cell_type": "code",
   "execution_count": 226,
   "id": "d3c1dbc4-e30d-46bd-9dba-49a85b205a69",
   "metadata": {
    "execution": {
     "iopub.execute_input": "2025-06-02T06:24:59.764141Z",
     "iopub.status.busy": "2025-06-02T06:24:59.763865Z",
     "iopub.status.idle": "2025-06-02T06:25:00.407614Z",
     "shell.execute_reply": "2025-06-02T06:25:00.406700Z",
     "shell.execute_reply.started": "2025-06-02T06:24:59.764121Z"
    }
   },
   "outputs": [],
   "source": [
    "# Rso: clear-sky SW radiation at surface [J/m2/day] = f(Ra[J/(m2.day)], elev[m])          [FAO56 Eq. 37]\n",
    "Rso = Ra * (0.75 + 2e-5 * elev)"
   ]
  },
  {
   "cell_type": "code",
   "execution_count": 227,
   "id": "dbb3d3a1-0244-4fba-82e7-eba79e9b01c8",
   "metadata": {
    "execution": {
     "iopub.execute_input": "2025-06-02T06:25:00.408486Z",
     "iopub.status.busy": "2025-06-02T06:25:00.408308Z",
     "iopub.status.idle": "2025-06-02T06:25:03.300660Z",
     "shell.execute_reply": "2025-06-02T06:25:03.299550Z",
     "shell.execute_reply.started": "2025-06-02T06:25:00.408467Z"
    }
   },
   "outputs": [],
   "source": [
    "# fcd: cloudiness function [unitless]                                                     [FAO56 pg. 79]\n",
    "RsRso = xr.DataArray((Rs.values)/(Rso.values), coords=[('time', Rs.time.values), ('lat', Rs.lat.values), ('lon', SWGDN.lon.values)], dims=[\"time\", \"lat\", \"lon\"])\n",
    "RsRso = RsRso.clip(min=0.3, max=1.0)\n",
    "fcd = 1.35 * RsRso - 0.35 \n",
    "fcd = fcd.clip(min=0.05, max=1.0) #clip values between 0.05 and 1.0"
   ]
  },
  {
   "cell_type": "code",
   "execution_count": 228,
   "id": "84aea2f7-8a0f-479a-aa13-3f6c664c10dd",
   "metadata": {
    "execution": {
     "iopub.execute_input": "2025-06-02T06:25:03.301564Z",
     "iopub.status.busy": "2025-06-02T06:25:03.301385Z",
     "iopub.status.idle": "2025-06-02T06:25:03.806008Z",
     "shell.execute_reply": "2025-06-02T06:25:03.804895Z",
     "shell.execute_reply.started": "2025-06-02T06:25:03.301546Z"
    }
   },
   "outputs": [],
   "source": [
    "# Rns: Net shortwave radiation  [J/(m2.day)]                                             [FAO56 Eq. 38]\n",
    "Rns = (1 - albedo) * Rs"
   ]
  },
  {
   "cell_type": "code",
   "execution_count": 229,
   "id": "1fcceba8-62a2-495c-a23a-a5ed374c26a4",
   "metadata": {
    "execution": {
     "iopub.execute_input": "2025-06-02T06:25:03.806871Z",
     "iopub.status.busy": "2025-06-02T06:25:03.806659Z",
     "iopub.status.idle": "2025-06-02T06:25:10.195037Z",
     "shell.execute_reply": "2025-06-02T06:25:10.194091Z",
     "shell.execute_reply.started": "2025-06-02T06:25:03.806852Z"
    }
   },
   "outputs": [],
   "source": [
    "# Rnl: net LW radiation upward[J/(m2.day)] = f(sigma [J/(K4.m2.day)], eact[Pa], T[°C])   [FAO56 Eq. 39]\n",
    "Rnl = sigma * fcd * (0.34 - 0.14 * (0.001 * eact)**0.5) * (T + 273.15)**4."
   ]
  },
  {
   "cell_type": "code",
   "execution_count": 230,
   "id": "ab0b2932-5f71-44fd-8793-21d3a9082392",
   "metadata": {
    "execution": {
     "iopub.execute_input": "2025-06-02T06:25:10.197575Z",
     "iopub.status.busy": "2025-06-02T06:25:10.197395Z",
     "iopub.status.idle": "2025-06-02T06:25:10.832624Z",
     "shell.execute_reply": "2025-06-02T06:25:10.831708Z",
     "shell.execute_reply.started": "2025-06-02T06:25:10.197557Z"
    }
   },
   "outputs": [],
   "source": [
    "# Rn: net radiation [J/(m2.day)]\n",
    "Rn = Rns - Rnl"
   ]
  },
  {
   "attachments": {
    "78fc84d0-7095-407e-96b8-c1d04f6966eb.png": {
     "image/png": "[encoded data removed]"
    }
   },
   "cell_type": "markdown",
   "id": "eb718359-f75c-49e1-b6ab-e3d826e942ed",
   "metadata": {},
   "source": [
    "<br><b>Split ET0 into 3 components: A, B, C</b><br>\n",
    "From FAO56, Equation 6, PM derivation of ET0\n",
    "![image.png](attachment:78fc84d0-7095-407e-96b8-c1d04f6966eb.png)"
   ]
  },
  {
   "cell_type": "code",
   "execution_count": 237,
   "id": "f87d2e3d-7ab1-4b68-8556-098555b85742",
   "metadata": {
    "execution": {
     "iopub.execute_input": "2025-06-02T06:26:26.309244Z",
     "iopub.status.busy": "2025-06-02T06:26:26.308117Z",
     "iopub.status.idle": "2025-06-02T06:26:34.045911Z",
     "shell.execute_reply": "2025-06-02T06:26:34.044995Z",
     "shell.execute_reply.started": "2025-06-02T06:26:26.309197Z"
    }
   },
   "outputs": [
    {
     "name": "stdout",
     "output_type": "stream",
     "text": [
      "CPU times: user 4.95 s, sys: 4.27 s, total: 9.22 s\n",
      "Wall time: 7.73 s\n"
     ]
    }
   ],
   "source": [
    "%%time\n",
    "# A left numerator\n",
    "A = (0.408*1e-6) * (delta) * (Rn - G)\n",
    "\n",
    "# B right numerator\n",
    "B = (gamma) * (Cn/(T+273)) * U2M * ((esat-eact))\n",
    "\n",
    "# C denominator\n",
    "C = ((delta) + (gamma) * (1+Cd*U2M))\n",
    "\n",
    "ET0 = (A+B)/C"
   ]
  },
  {
   "cell_type": "code",
   "execution_count": 238,
   "id": "67342703-210b-4699-ae92-295973ac9f36",
   "metadata": {
    "execution": {
     "iopub.execute_input": "2025-06-02T06:26:34.047385Z",
     "iopub.status.busy": "2025-06-02T06:26:34.047169Z",
     "iopub.status.idle": "2025-06-02T06:26:34.056709Z",
     "shell.execute_reply": "2025-06-02T06:26:34.055841Z",
     "shell.execute_reply.started": "2025-06-02T06:26:34.047367Z"
    }
   },
   "outputs": [],
   "source": [
    "ET0_xr = xr.DataArray(ET0, dims=['time', 'lat', 'lon'], coords={'time':T.time.values, 'lat': T.lat.values, 'lon': T.lon.values}).rename(f\"ET0_{short_tall_crop_switch}_crop\")"
   ]
  },
  {
   "cell_type": "code",
   "execution_count": 239,
   "id": "0707412e-46ed-4829-a2e7-3a9990acabc8",
   "metadata": {
    "execution": {
     "iopub.execute_input": "2025-06-02T06:26:34.057975Z",
     "iopub.status.busy": "2025-06-02T06:26:34.057669Z",
     "iopub.status.idle": "2025-06-02T06:26:34.403556Z",
     "shell.execute_reply": "2025-06-02T06:26:34.402675Z",
     "shell.execute_reply.started": "2025-06-02T06:26:34.057957Z"
    }
   },
   "outputs": [
    {
     "data": {
      "text/plain": [
       "<matplotlib.collections.QuadMesh at 0x14da89404210>"
      ]
     },
     "execution_count": 239,
     "metadata": {},
     "output_type": "execute_result"
    },
    {
     "data": {
      "image/png": "[encoded data removed]",
      "text/plain": [
       "<Figure size 640x480 with 2 Axes>"
      ]
     },
     "metadata": {},
     "output_type": "display_data"
    }
   ],
   "source": [
    "ET0_xr[5477].plot()"
   ]
  },
  {
   "cell_type": "code",
   "execution_count": null,
   "id": "d86c408a-5d48-4c77-9acd-2b717d62e053",
   "metadata": {},
   "outputs": [],
   "source": []
  },
  {
   "cell_type": "code",
   "execution_count": null,
   "id": "0e06cb9c-70c9-4832-9781-281d30edb704",
   "metadata": {},
   "outputs": [],
   "source": []
  },
  {
   "cell_type": "code",
   "execution_count": null,
   "id": "35496953-1a9b-4c87-8985-560c5b16f178",
   "metadata": {},
   "outputs": [],
   "source": []
  },
  {
   "cell_type": "markdown",
   "id": "44ac12c1-6978-49cd-a6c5-0adf7e4ec50f",
   "metadata": {},
   "source": [
    "<br>"
   ]
  },
  {
   "cell_type": "markdown",
   "id": "f056b1e9-79e5-44b4-9b4e-00f5d780dd1c",
   "metadata": {},
   "source": [
    "### Step 3 -> Calculate daily sensitivity expressions"
   ]
  },
  {
   "cell_type": "code",
   "execution_count": 243,
   "id": "44ae8dd7-aea8-4739-b1e9-2fab9aa27b4c",
   "metadata": {
    "execution": {
     "iopub.execute_input": "2025-06-02T06:27:43.892560Z",
     "iopub.status.busy": "2025-06-02T06:27:43.892045Z",
     "iopub.status.idle": "2025-06-02T06:28:12.649298Z",
     "shell.execute_reply": "2025-06-02T06:28:12.648193Z",
     "shell.execute_reply.started": "2025-06-02T06:27:43.892515Z"
    }
   },
   "outputs": [],
   "source": [
    "ATa = 0.408e-6 * (2.503e6 * np.exp(17.27 * T / (T + 237.3))/ (T + 237.3)**2.) \n",
    "ATb = (Rns - (sigma * fcd * (0.34 - 0.14 * (0.001 * (eact))**0.5)* (T + 273.15)**4.))\n",
    "dATadT = -(2.04245 * np.exp((17.27 * T) / (T + 237.3))* (T**2. * (T + 237.3)**2. - 2049.09 *(T + 237.3)**3 + 474.6 * T * (T + 237.3)**2. + 56311.3 * (T + 237.3)**2.))/ (T + 237.3)**7.\n",
    "dATbdT = 0.0177088 * fcd * (-76.7982 + (eact)**0.5) * sigma * (T + 273.15)**3."
   ]
  },
  {
   "cell_type": "code",
   "execution_count": 244,
   "id": "64ed1123-0573-4b24-9861-54170b889bd8",
   "metadata": {
    "execution": {
     "iopub.execute_input": "2025-06-02T06:28:12.650541Z",
     "iopub.status.busy": "2025-06-02T06:28:12.650359Z",
     "iopub.status.idle": "2025-06-02T06:28:26.169298Z",
     "shell.execute_reply": "2025-06-02T06:28:26.167323Z",
     "shell.execute_reply.started": "2025-06-02T06:28:12.650522Z"
    }
   },
   "outputs": [],
   "source": [
    "dAdT = ATa * dATbdT + ATb * dATadT\n",
    "dAdq = (2.41719e-9 * delta * fcd * Patm * (QV2M - 1.)* sigma * (273.15 + T)**4.)/ ((QV2M - 1.) * ((Patm * QV2M)/ (1.6455 + QV2M))**0.5 * (1.6455 + QV2M)**2.)"
   ]
  },
  {
   "cell_type": "code",
   "execution_count": 245,
   "id": "1a209278-ba0c-4f91-b07c-c457efdb36e4",
   "metadata": {
    "execution": {
     "iopub.execute_input": "2025-06-02T06:28:26.171641Z",
     "iopub.status.busy": "2025-06-02T06:28:26.171196Z",
     "iopub.status.idle": "2025-06-02T06:28:33.880590Z",
     "shell.execute_reply": "2025-06-02T06:28:33.879620Z",
     "shell.execute_reply.started": "2025-06-02T06:28:26.171599Z"
    }
   },
   "outputs": [],
   "source": [
    "dAdR = -0.0352512 * (albedo - 1.) * (delta) + (0.000210686 * (delta) * (-76.7982 + (eact)**0.5) * sigma * (273.15 + T)**4) / Rso.values"
   ]
  },
  {
   "cell_type": "code",
   "execution_count": 246,
   "id": "5c62c997-289f-4816-bcef-316f73fc6960",
   "metadata": {
    "execution": {
     "iopub.execute_input": "2025-06-02T06:28:33.882106Z",
     "iopub.status.busy": "2025-06-02T06:28:33.881916Z",
     "iopub.status.idle": "2025-06-02T06:29:03.882056Z",
     "shell.execute_reply": "2025-06-02T06:29:03.878731Z",
     "shell.execute_reply.started": "2025-06-02T06:28:33.882088Z"
    }
   },
   "outputs": [],
   "source": [
    "B = (0.000665 * 101300. * ((293. - 0.0065 * elev) / 293.)**5.26) * (Cn / (T + 273.15)) * U2M * ((610.8 * np.exp(17.27 * T / (T + 237.3)))- (Patm * (QV2M / (1. - QV2M)) / (0.622 + (QV2M / (1. -QV2M)))))\n",
    "dBdT = -1.*(67.3431 * Cn * (610.8 * np.exp((17.27 * T) / (237.3 + T)) - (Patm * QV2M) / ((1 - QV2M) * (0.622 + QV2M / (1 - QV2M)))) * U2M) / (273.15 + T)**2. + (41133.2 * Cn * np.exp((17.27 * T) / (237.3 + T)) * (-(17.27 * T) / (237.3 + T)**2. + 17.27 / (237.3 + T)) * U2M) / (273.15 + T)\n",
    "dBdq = (Cn * Patm * 293.157 * (1 - QV2M) * U2M)/ ((QV2M - 1.) * (1.6455 + QV2M)**2. * (273.15 + T))\n",
    "dBdU = (0.000665 * Cn * Patm * (610.8 * np.exp((17.27 * T)/(237.3 + T)) - (Patm * w)/(0.622 + w)))/(273.15 + T)"
   ]
  },
  {
   "cell_type": "code",
   "execution_count": 247,
   "id": "e06315fc-4aeb-49a4-9264-34be62d76e53",
   "metadata": {
    "execution": {
     "iopub.execute_input": "2025-06-02T06:29:03.887905Z",
     "iopub.status.busy": "2025-06-02T06:29:03.887499Z",
     "iopub.status.idle": "2025-06-02T06:29:13.317184Z",
     "shell.execute_reply": "2025-06-02T06:29:13.315815Z",
     "shell.execute_reply.started": "2025-06-02T06:29:03.887865Z"
    }
   },
   "outputs": [],
   "source": [
    "C = 2.503e6 * np.exp(17.27 * T / (T + 237.3)) / (T + 237.3)**2. + 0.000665 * Patm * (1. + Cd * U2M)\n",
    "dCdT = -(5006000. * np.exp((17.27 * T)/(237.3 + T)) * (-1811.79 + T))/ (237.3 + T)**4.\n",
    "dCdU = 0.000665 * Cd * Patm"
   ]
  },
  {
   "cell_type": "code",
   "execution_count": 248,
   "id": "feea7bba-14e0-4763-a282-ab2a6c0965af",
   "metadata": {
    "execution": {
     "iopub.execute_input": "2025-06-02T06:29:13.318364Z",
     "iopub.status.busy": "2025-06-02T06:29:13.318144Z",
     "iopub.status.idle": "2025-06-02T06:29:22.261586Z",
     "shell.execute_reply": "2025-06-02T06:29:22.260676Z",
     "shell.execute_reply.started": "2025-06-02T06:29:13.318344Z"
    }
   },
   "outputs": [],
   "source": [
    "sens_T = (dAdT + dBdT - (A + B) * dCdT / C) / C\n",
    "sens_R  = dAdR / C\n",
    "sens_q  = (dAdq + dBdq) / C\n",
    "sens_U  = ((C * dBdU) - (A + B) * dCdU) / C**2"
   ]
  },
  {
   "cell_type": "code",
   "execution_count": null,
   "id": "630581b1-9d7b-44bc-8b7d-131c8f8b4af6",
   "metadata": {},
   "outputs": [],
   "source": []
  },
  {
   "cell_type": "markdown",
   "id": "a2647170-cbd7-4e89-b3ff-926c96a19eb1",
   "metadata": {},
   "source": [
    "<br>"
   ]
  },
  {
   "cell_type": "markdown",
   "id": "52391178-fd86-4f6f-b8f8-787b7de03813",
   "metadata": {},
   "source": [
    "### Step 4 -> Case Study / Testing"
   ]
  },
  {
   "cell_type": "code",
   "execution_count": 249,
   "id": "9719bda4-3248-4202-8049-05795831d546",
   "metadata": {
    "execution": {
     "iopub.execute_input": "2025-06-02T06:29:22.262518Z",
     "iopub.status.busy": "2025-06-02T06:29:22.262313Z",
     "iopub.status.idle": "2025-06-02T06:29:22.267967Z",
     "shell.execute_reply": "2025-06-02T06:29:22.266814Z",
     "shell.execute_reply.started": "2025-06-02T06:29:22.262500Z"
    }
   },
   "outputs": [],
   "source": [
    "#function for 7-day rolling, climatology and anomalies\n",
    "def compute7day_rolling_climo_anom(input_daily_xr): \n",
    "    rolling_7d = input_daily_xr.rolling(time=7).mean()\n",
    "    rolling_7d_climo = rolling_7d.assign_coords(doy=rolling_7d['time'].dt.dayofyear).groupby('doy').mean('time')\n",
    "    rolling_7d_anom = rolling_7d.groupby('time.dayofyear') - rolling_7d_climo.rename({'doy': 'dayofyear'})\n",
    "    return rolling_7d, rolling_7d_climo, rolling_7d_anom"
   ]
  },
  {
   "cell_type": "code",
   "execution_count": 250,
   "id": "6cf529bc-5ccf-420c-9e17-77285ea214c3",
   "metadata": {
    "execution": {
     "iopub.execute_input": "2025-06-02T06:29:22.269900Z",
     "iopub.status.busy": "2025-06-02T06:29:22.269511Z",
     "iopub.status.idle": "2025-06-02T06:29:50.374294Z",
     "shell.execute_reply": "2025-06-02T06:29:50.373116Z",
     "shell.execute_reply.started": "2025-06-02T06:29:22.269862Z"
    }
   },
   "outputs": [],
   "source": [
    "#output\n",
    "ET0_7d, ET0_7d_climo, ET0_7d_anom = compute7day_rolling_climo_anom(ET0_xr)\n",
    " \n",
    "#drivers 7d means\n",
    "T, T_7d_climo, T_7d_anom = compute7day_rolling_climo_anom(T)\n",
    "Rs, Rs_7d_climo, Rs_7d_anom = compute7day_rolling_climo_anom(SWGDN)\n",
    "QV2M, Q_7d_climo, Q_7d_anom = compute7day_rolling_climo_anom(QV2M)\n",
    "U2M, U2M_7d_climo, U2M_7d_anom = compute7day_rolling_climo_anom(U2M)"
   ]
  },
  {
   "cell_type": "code",
   "execution_count": 197,
   "id": "1a2c536f-2580-453c-8bcf-e15bcf222e02",
   "metadata": {
    "execution": {
     "iopub.execute_input": "2025-06-02T06:21:30.059801Z",
     "iopub.status.busy": "2025-06-02T06:21:30.059620Z",
     "iopub.status.idle": "2025-06-02T06:21:30.993744Z",
     "shell.execute_reply": "2025-06-02T06:21:30.992969Z",
     "shell.execute_reply.started": "2025-06-02T06:21:30.059783Z"
    }
   },
   "outputs": [
    {
     "data": {
      "text/html": [
       "<div><svg style=\"position: absolute; width: 0; height: 0; overflow: hidden\">\n",
       "<defs>\n",
       "<symbol id=\"icon-database\" viewBox=\"0 0 32 32\">\n",
       "<path d=\"M16 0c-8.837 0-16 2.239-16 5v4c0 2.761 7.163 5 16 5s16-2.239 16-5v-4c0-2.761-7.163-5-16-5z\"></path>\n",
       "<path d=\"M16 17c-8.837 0-16-2.239-16-5v6c0 2.761 7.163 5 16 5s16-2.239 16-5v-6c0 2.761-7.163 5-16 5z\"></path>\n",
       "<path d=\"M16 26c-8.837 0-16-2.239-16-5v6c0 2.761 7.163 5 16 5s16-2.239 16-5v-6c0 2.761-7.163 5-16 5z\"></path>\n",
       "</symbol>\n",
       "<symbol id=\"icon-file-text2\" viewBox=\"0 0 32 32\">\n",
       "<path d=\"M28.681 7.159c-0.694-0.947-1.662-2.053-2.724-3.116s-2.169-2.030-3.116-2.724c-1.612-1.182-2.393-1.319-2.841-1.319h-15.5c-1.378 0-2.5 1.121-2.5 2.5v27c0 1.378 1.122 2.5 2.5 2.5h23c1.378 0 2.5-1.122 2.5-2.5v-19.5c0-0.448-0.137-1.23-1.319-2.841zM24.543 5.457c0.959 0.959 1.712 1.825 2.268 2.543h-4.811v-4.811c0.718 0.556 1.584 1.309 2.543 2.268zM28 29.5c0 0.271-0.229 0.5-0.5 0.5h-23c-0.271 0-0.5-0.229-0.5-0.5v-27c0-0.271 0.229-0.5 0.5-0.5 0 0 15.499-0 15.5 0v7c0 0.552 0.448 1 1 1h7v19.5z\"></path>\n",
       "<path d=\"M23 26h-14c-0.552 0-1-0.448-1-1s0.448-1 1-1h14c0.552 0 1 0.448 1 1s-0.448 1-1 1z\"></path>\n",
       "<path d=\"M23 22h-14c-0.552 0-1-0.448-1-1s0.448-1 1-1h14c0.552 0 1 0.448 1 1s-0.448 1-1 1z\"></path>\n",
       "<path d=\"M23 18h-14c-0.552 0-1-0.448-1-1s0.448-1 1-1h14c0.552 0 1 0.448 1 1s-0.448 1-1 1z\"></path>\n",
       "</symbol>\n",
       "</defs>\n",
       "</svg>\n",
       "<style>/* CSS stylesheet for displaying xarray objects in jupyterlab.\n",
       " *\n",
       " */\n",
       "\n",
       ":root {\n",
       "  --xr-font-color0: var(--jp-content-font-color0, rgba(0, 0, 0, 1));\n",
       "  --xr-font-color2: var(--jp-content-font-color2, rgba(0, 0, 0, 0.54));\n",
       "  --xr-font-color3: var(--jp-content-font-color3, rgba(0, 0, 0, 0.38));\n",
       "  --xr-border-color: var(--jp-border-color2, #e0e0e0);\n",
       "  --xr-disabled-color: var(--jp-layout-color3, #bdbdbd);\n",
       "  --xr-background-color: var(--jp-layout-color0, white);\n",
       "  --xr-background-color-row-even: var(--jp-layout-color1, white);\n",
       "  --xr-background-color-row-odd: var(--jp-layout-color2, #eeeeee);\n",
       "}\n",
       "\n",
       "html[theme=\"dark\"],\n",
       "html[data-theme=\"dark\"],\n",
       "body[data-theme=\"dark\"],\n",
       "body.vscode-dark {\n",
       "  --xr-font-color0: rgba(255, 255, 255, 1);\n",
       "  --xr-font-color2: rgba(255, 255, 255, 0.54);\n",
       "  --xr-font-color3: rgba(255, 255, 255, 0.38);\n",
       "  --xr-border-color: #1f1f1f;\n",
       "  --xr-disabled-color: #515151;\n",
       "  --xr-background-color: #111111;\n",
       "  --xr-background-color-row-even: #111111;\n",
       "  --xr-background-color-row-odd: #313131;\n",
       "}\n",
       "\n",
       ".xr-wrap {\n",
       "  display: block !important;\n",
       "  min-width: 300px;\n",
       "  max-width: 700px;\n",
       "}\n",
       "\n",
       ".xr-text-repr-fallback {\n",
       "  /* fallback to plain text repr when CSS is not injected (untrusted notebook) */\n",
       "  display: none;\n",
       "}\n",
       "\n",
       ".xr-header {\n",
       "  padding-top: 6px;\n",
       "  padding-bottom: 6px;\n",
       "  margin-bottom: 4px;\n",
       "  border-bottom: solid 1px var(--xr-border-color);\n",
       "}\n",
       "\n",
       ".xr-header > div,\n",
       ".xr-header > ul {\n",
       "  display: inline;\n",
       "  margin-top: 0;\n",
       "  margin-bottom: 0;\n",
       "}\n",
       "\n",
       ".xr-obj-type,\n",
       ".xr-array-name {\n",
       "  margin-left: 2px;\n",
       "  margin-right: 10px;\n",
       "}\n",
       "\n",
       ".xr-obj-type {\n",
       "  color: var(--xr-font-color2);\n",
       "}\n",
       "\n",
       ".xr-sections {\n",
       "  padding-left: 0 !important;\n",
       "  display: grid;\n",
       "  grid-template-columns: 150px auto auto 1fr 0 20px 0 20px;\n",
       "}\n",
       "\n",
       ".xr-section-item {\n",
       "  display: contents;\n",
       "}\n",
       "\n",
       ".xr-section-item input {\n",
       "  display: inline-block;\n",
       "  opacity: 0;\n",
       "  height: 0;\n",
       "}\n",
       "\n",
       ".xr-section-item input + label {\n",
       "  color: var(--xr-disabled-color);\n",
       "}\n",
       "\n",
       ".xr-section-item input:enabled + label {\n",
       "  cursor: pointer;\n",
       "  color: var(--xr-font-color2);\n",
       "}\n",
       "\n",
       ".xr-section-item input:focus + label {\n",
       "  border: 2px solid var(--xr-font-color0);\n",
       "}\n",
       "\n",
       ".xr-section-item input:enabled + label:hover {\n",
       "  color: var(--xr-font-color0);\n",
       "}\n",
       "\n",
       ".xr-section-summary {\n",
       "  grid-column: 1;\n",
       "  color: var(--xr-font-color2);\n",
       "  font-weight: 500;\n",
       "}\n",
       "\n",
       ".xr-section-summary > span {\n",
       "  display: inline-block;\n",
       "  padding-left: 0.5em;\n",
       "}\n",
       "\n",
       ".xr-section-summary-in:disabled + label {\n",
       "  color: var(--xr-font-color2);\n",
       "}\n",
       "\n",
       ".xr-section-summary-in + label:before {\n",
       "  display: inline-block;\n",
       "  content: \"►\";\n",
       "  font-size: 11px;\n",
       "  width: 15px;\n",
       "  text-align: center;\n",
       "}\n",
       "\n",
       ".xr-section-summary-in:disabled + label:before {\n",
       "  color: var(--xr-disabled-color);\n",
       "}\n",
       "\n",
       ".xr-section-summary-in:checked + label:before {\n",
       "  content: \"▼\";\n",
       "}\n",
       "\n",
       ".xr-section-summary-in:checked + label > span {\n",
       "  display: none;\n",
       "}\n",
       "\n",
       ".xr-section-summary,\n",
       ".xr-section-inline-details {\n",
       "  padding-top: 4px;\n",
       "  padding-bottom: 4px;\n",
       "}\n",
       "\n",
       ".xr-section-inline-details {\n",
       "  grid-column: 2 / -1;\n",
       "}\n",
       "\n",
       ".xr-section-details {\n",
       "  display: none;\n",
       "  grid-column: 1 / -1;\n",
       "  margin-bottom: 5px;\n",
       "}\n",
       "\n",
       ".xr-section-summary-in:checked ~ .xr-section-details {\n",
       "  display: contents;\n",
       "}\n",
       "\n",
       ".xr-array-wrap {\n",
       "  grid-column: 1 / -1;\n",
       "  display: grid;\n",
       "  grid-template-columns: 20px auto;\n",
       "}\n",
       "\n",
       ".xr-array-wrap > label {\n",
       "  grid-column: 1;\n",
       "  vertical-align: top;\n",
       "}\n",
       "\n",
       ".xr-preview {\n",
       "  color: var(--xr-font-color3);\n",
       "}\n",
       "\n",
       ".xr-array-preview,\n",
       ".xr-array-data {\n",
       "  padding: 0 5px !important;\n",
       "  grid-column: 2;\n",
       "}\n",
       "\n",
       ".xr-array-data,\n",
       ".xr-array-in:checked ~ .xr-array-preview {\n",
       "  display: none;\n",
       "}\n",
       "\n",
       ".xr-array-in:checked ~ .xr-array-data,\n",
       ".xr-array-preview {\n",
       "  display: inline-block;\n",
       "}\n",
       "\n",
       ".xr-dim-list {\n",
       "  display: inline-block !important;\n",
       "  list-style: none;\n",
       "  padding: 0 !important;\n",
       "  margin: 0;\n",
       "}\n",
       "\n",
       ".xr-dim-list li {\n",
       "  display: inline-block;\n",
       "  padding: 0;\n",
       "  margin: 0;\n",
       "}\n",
       "\n",
       ".xr-dim-list:before {\n",
       "  content: \"(\";\n",
       "}\n",
       "\n",
       ".xr-dim-list:after {\n",
       "  content: \")\";\n",
       "}\n",
       "\n",
       ".xr-dim-list li:not(:last-child):after {\n",
       "  content: \",\";\n",
       "  padding-right: 5px;\n",
       "}\n",
       "\n",
       ".xr-has-index {\n",
       "  font-weight: bold;\n",
       "}\n",
       "\n",
       ".xr-var-list,\n",
       ".xr-var-item {\n",
       "  display: contents;\n",
       "}\n",
       "\n",
       ".xr-var-item > div,\n",
       ".xr-var-item label,\n",
       ".xr-var-item > .xr-var-name span {\n",
       "  background-color: var(--xr-background-color-row-even);\n",
       "  margin-bottom: 0;\n",
       "}\n",
       "\n",
       ".xr-var-item > .xr-var-name:hover span {\n",
       "  padding-right: 5px;\n",
       "}\n",
       "\n",
       ".xr-var-list > li:nth-child(odd) > div,\n",
       ".xr-var-list > li:nth-child(odd) > label,\n",
       ".xr-var-list > li:nth-child(odd) > .xr-var-name span {\n",
       "  background-color: var(--xr-background-color-row-odd);\n",
       "}\n",
       "\n",
       ".xr-var-name {\n",
       "  grid-column: 1;\n",
       "}\n",
       "\n",
       ".xr-var-dims {\n",
       "  grid-column: 2;\n",
       "}\n",
       "\n",
       ".xr-var-dtype {\n",
       "  grid-column: 3;\n",
       "  text-align: right;\n",
       "  color: var(--xr-font-color2);\n",
       "}\n",
       "\n",
       ".xr-var-preview {\n",
       "  grid-column: 4;\n",
       "}\n",
       "\n",
       ".xr-index-preview {\n",
       "  grid-column: 2 / 5;\n",
       "  color: var(--xr-font-color2);\n",
       "}\n",
       "\n",
       ".xr-var-name,\n",
       ".xr-var-dims,\n",
       ".xr-var-dtype,\n",
       ".xr-preview,\n",
       ".xr-attrs dt {\n",
       "  white-space: nowrap;\n",
       "  overflow: hidden;\n",
       "  text-overflow: ellipsis;\n",
       "  padding-right: 10px;\n",
       "}\n",
       "\n",
       ".xr-var-name:hover,\n",
       ".xr-var-dims:hover,\n",
       ".xr-var-dtype:hover,\n",
       ".xr-attrs dt:hover {\n",
       "  overflow: visible;\n",
       "  width: auto;\n",
       "  z-index: 1;\n",
       "}\n",
       "\n",
       ".xr-var-attrs,\n",
       ".xr-var-data,\n",
       ".xr-index-data {\n",
       "  display: none;\n",
       "  background-color: var(--xr-background-color) !important;\n",
       "  padding-bottom: 5px !important;\n",
       "}\n",
       "\n",
       ".xr-var-attrs-in:checked ~ .xr-var-attrs,\n",
       ".xr-var-data-in:checked ~ .xr-var-data,\n",
       ".xr-index-data-in:checked ~ .xr-index-data {\n",
       "  display: block;\n",
       "}\n",
       "\n",
       ".xr-var-data > table {\n",
       "  float: right;\n",
       "}\n",
       "\n",
       ".xr-var-name span,\n",
       ".xr-var-data,\n",
       ".xr-index-name div,\n",
       ".xr-index-data,\n",
       ".xr-attrs {\n",
       "  padding-left: 25px !important;\n",
       "}\n",
       "\n",
       ".xr-attrs,\n",
       ".xr-var-attrs,\n",
       ".xr-var-data,\n",
       ".xr-index-data {\n",
       "  grid-column: 1 / -1;\n",
       "}\n",
       "\n",
       "dl.xr-attrs {\n",
       "  padding: 0;\n",
       "  margin: 0;\n",
       "  display: grid;\n",
       "  grid-template-columns: 125px auto;\n",
       "}\n",
       "\n",
       ".xr-attrs dt,\n",
       ".xr-attrs dd {\n",
       "  padding: 0;\n",
       "  margin: 0;\n",
       "  float: left;\n",
       "  padding-right: 10px;\n",
       "  width: auto;\n",
       "}\n",
       "\n",
       ".xr-attrs dt {\n",
       "  font-weight: normal;\n",
       "  grid-column: 1;\n",
       "}\n",
       "\n",
       ".xr-attrs dt:hover span {\n",
       "  display: inline-block;\n",
       "  background: var(--xr-background-color);\n",
       "  padding-right: 10px;\n",
       "}\n",
       "\n",
       ".xr-attrs dd {\n",
       "  grid-column: 2;\n",
       "  white-space: pre-wrap;\n",
       "  word-break: break-all;\n",
       "}\n",
       "\n",
       ".xr-icon-database,\n",
       ".xr-icon-file-text2,\n",
       ".xr-no-icon {\n",
       "  display: inline-block;\n",
       "  vertical-align: middle;\n",
       "  width: 1em;\n",
       "  height: 1.5em !important;\n",
       "  stroke-width: 0;\n",
       "  stroke: currentColor;\n",
       "  fill: currentColor;\n",
       "}\n",
       "</style><pre class='xr-text-repr-fallback'>&lt;xarray.DataArray &#x27;ET0_short_crop&#x27; ()&gt; Size: 8B\n",
       "array(1118)</pre><div class='xr-wrap' style='display:none'><div class='xr-header'><div class='xr-obj-type'>xarray.DataArray</div><div class='xr-array-name'>'ET0_short_crop'</div></div><ul class='xr-sections'><li class='xr-section-item'><div class='xr-array-wrap'><input id='section-41faca21-4d8e-4f3e-92a0-26301ed86180' class='xr-array-in' type='checkbox' checked><label for='section-41faca21-4d8e-4f3e-92a0-26301ed86180' title='Show/hide data repr'><svg class='icon xr-icon-database'><use xlink:href='#icon-database'></use></svg></label><div class='xr-array-preview xr-preview'><span>1118</span></div><div class='xr-array-data'><pre>array(1118)</pre></div></div></li><li class='xr-section-item'><input id='section-d834f8e1-e7b3-4166-8824-1daa193513b6' class='xr-section-summary-in' type='checkbox' disabled ><label for='section-d834f8e1-e7b3-4166-8824-1daa193513b6' class='xr-section-summary'  title='Expand/collapse section'>Coordinates: <span>(0)</span></label><div class='xr-section-inline-details'></div><div class='xr-section-details'><ul class='xr-var-list'></ul></div></li><li class='xr-section-item'><input id='section-1329af43-1af8-4644-922c-e0170126c644' class='xr-section-summary-in' type='checkbox' disabled ><label for='section-1329af43-1af8-4644-922c-e0170126c644' class='xr-section-summary'  title='Expand/collapse section'>Indexes: <span>(0)</span></label><div class='xr-section-inline-details'></div><div class='xr-section-details'><ul class='xr-var-list'></ul></div></li><li class='xr-section-item'><input id='section-25a2291c-75b3-4635-890c-92981be17059' class='xr-section-summary-in' type='checkbox' disabled ><label for='section-25a2291c-75b3-4635-890c-92981be17059' class='xr-section-summary'  title='Expand/collapse section'>Attributes: <span>(0)</span></label><div class='xr-section-inline-details'></div><div class='xr-section-details'><dl class='xr-attrs'></dl></div></li></ul></div></div>"
      ],
      "text/plain": [
       "<xarray.DataArray 'ET0_short_crop' ()> Size: 8B\n",
       "array(1118)"
      ]
     },
     "execution_count": 197,
     "metadata": {},
     "output_type": "execute_result"
    }
   ],
   "source": [
    "ET0_7d_anom.mean(dim=('lat', 'lon')).argmax()"
   ]
  },
  {
   "cell_type": "code",
   "execution_count": 253,
   "id": "60a0f8e2-f908-4e5b-a590-a2dcc481f39b",
   "metadata": {
    "execution": {
     "iopub.execute_input": "2025-06-02T07:00:16.366270Z",
     "iopub.status.busy": "2025-06-02T07:00:16.365472Z",
     "iopub.status.idle": "2025-06-02T07:00:16.683226Z",
     "shell.execute_reply": "2025-06-02T07:00:16.682199Z",
     "shell.execute_reply.started": "2025-06-02T07:00:16.366217Z"
    }
   },
   "outputs": [
    {
     "data": {
      "text/plain": [
       "<matplotlib.collections.QuadMesh at 0x14dadad72290>"
      ]
     },
     "execution_count": 253,
     "metadata": {},
     "output_type": "execute_result"
    },
    {
     "data": {
      "image/png": "[encoded data removed]",
      "text/plain": [
       "<Figure size 640x480 with 2 Axes>"
      ]
     },
     "metadata": {},
     "output_type": "display_data"
    }
   ],
   "source": [
    "ET0_7d_anom[1118].plot()"
   ]
  },
  {
   "cell_type": "code",
   "execution_count": 281,
   "id": "99e26e0b-0ee7-4ecc-861b-a6ee2ce56ab2",
   "metadata": {
    "execution": {
     "iopub.execute_input": "2025-06-02T07:12:35.667951Z",
     "iopub.status.busy": "2025-06-02T07:12:35.667095Z",
     "iopub.status.idle": "2025-06-02T07:12:36.226788Z",
     "shell.execute_reply": "2025-06-02T07:12:36.225990Z",
     "shell.execute_reply.started": "2025-06-02T07:12:35.667890Z"
    }
   },
   "outputs": [
    {
     "data": {
      "text/plain": [
       "<matplotlib.legend.Legend at 0x14da87fe9990>"
      ]
     },
     "execution_count": 281,
     "metadata": {},
     "output_type": "execute_result"
    },
    {
     "data": {
      "image/png": "[encoded data removed]",
      "text/plain": [
       "<Figure size 640x480 with 1 Axes>"
      ]
     },
     "metadata": {},
     "output_type": "display_data"
    }
   ],
   "source": [
    "ET0_7d_anom[720:1300].mean(dim=('lat','lon')).plot(color='black', label='$ET_{0}$')\n",
    "(T_7d_anom[720:1300]*sens_T[720:1300]).mean(dim=('lat','lon')).plot(color='firebrick', label='T')\n",
    "(Q_7d_anom[720:1300]*sens_q[720:1300]).mean(dim=('lat','lon')).plot(color='lightgreen', label='q')\n",
    "(U2M_7d_anom[720:1300]*sens_U[720:1300]).mean(dim=('lat','lon')).plot(color='blueviolet', label='$U_{2}$')\n",
    "(Rs_7d_anom[720:1300]*sens_R[720:1300]).mean(dim=('lat','lon')).plot(color='dodgerblue', label='$R_{d}$')\n",
    "plt.title('$ET_{0}$ attribution 1982 drought, spatially averaged over Australian domain')\n",
    "plt.legend()"
   ]
  },
  {
   "cell_type": "markdown",
   "id": "a10353e8-b025-4a5c-84c7-2b9bff4dec06",
   "metadata": {},
   "source": [
    "<br>"
   ]
  },
  {
   "cell_type": "code",
   "execution_count": null,
   "id": "f912a372-269e-48ff-a460-b8389e8665fa",
   "metadata": {},
   "outputs": [],
   "source": []
  }
 ],
 "metadata": {
  "kernelspec": {
   "display_name": "Python [conda env:analysis3]",
   "language": "python",
   "name": "conda-env-analysis3-py"
  },
  "language_info": {
   "codemirror_mode": {
    "name": "ipython",
    "version": 3
   },
   "file_extension": ".py",
   "mimetype": "text/x-python",
   "name": "python",
   "nbconvert_exporter": "python",
   "pygments_lexer": "ipython3",
   "version": "3.11.12"
  }
 },
 "nbformat": 4,
 "nbformat_minor": 5
}
