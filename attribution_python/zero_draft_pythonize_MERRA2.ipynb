{
 "cells": [
  {
   "cell_type": "markdown",
   "id": "cff9665f-696b-451c-a7e7-adf76a9d4de0",
   "metadata": {},
   "source": [
    "# First attempt to pythonise Mike's code and apply it to MERRA2"
   ]
  },
  {
   "cell_type": "code",
   "execution_count": 15,
   "id": "231a148f-33dd-4b69-ba08-7ff18f58b871",
   "metadata": {
    "execution": {
     "iopub.execute_input": "2025-02-27T03:39:42.582922Z",
     "iopub.status.busy": "2025-02-27T03:39:42.582345Z",
     "iopub.status.idle": "2025-02-27T03:39:42.589684Z",
     "shell.execute_reply": "2025-02-27T03:39:42.588299Z",
     "shell.execute_reply.started": "2025-02-27T03:39:42.582867Z"
    }
   },
   "outputs": [],
   "source": [
    "import sys\n",
    "import os\n",
    "import glob\n",
    "import xarray as xr\n",
    "import numpy as np\n",
    "import gc\n",
    "import logging\n",
    "import pandas as pd"
   ]
  },
  {
   "cell_type": "code",
   "execution_count": 2,
   "id": "8642792f-c405-4364-87de-a2157a240eba",
   "metadata": {
    "execution": {
     "iopub.execute_input": "2025-02-27T03:34:39.406702Z",
     "iopub.status.busy": "2025-02-27T03:34:39.406313Z",
     "iopub.status.idle": "2025-02-27T03:34:39.411928Z",
     "shell.execute_reply": "2025-02-27T03:34:39.410811Z",
     "shell.execute_reply.started": "2025-02-27T03:34:39.406674Z"
    }
   },
   "outputs": [],
   "source": [
    "#relevant directories (move to utils.py eventually)\n",
    "MERRA2_T2M_U2M_QV2M_dir = '/g/data/rr7/MERRA2/raw/M2T1NXSLV.5.12.4'\n",
    "MERRA2_SWNETSRF_dir = '/g/data/rr7/MERRA2/raw/M2T1NXINT.5.12.4'\n",
    "MERRA2_SWGDN_dir = '/g/data/rr7/MERRA2/raw/M2T1NXRAD.5.12.4/'"
   ]
  },
  {
   "cell_type": "markdown",
   "id": "6d8b6b54-fac5-469c-87ca-60d12fcc983f",
   "metadata": {},
   "source": [
    "#### Dask + warning setup"
   ]
  },
  {
   "cell_type": "code",
   "execution_count": 3,
   "id": "700cabfc-ade6-41bc-b2e5-6b983362e1f6",
   "metadata": {
    "execution": {
     "iopub.execute_input": "2025-02-27T00:16:49.073321Z",
     "iopub.status.busy": "2025-02-27T00:16:49.072986Z",
     "iopub.status.idle": "2025-02-27T00:16:49.078944Z",
     "shell.execute_reply": "2025-02-27T00:16:49.077663Z",
     "shell.execute_reply.started": "2025-02-27T00:16:49.073286Z"
    }
   },
   "outputs": [],
   "source": [
    "import warnings\n",
    "import logging\n",
    "warnings.filterwarnings('ignore') \n",
    "logging.getLogger(\"distributed.worker.memory\").setLevel(logging.ERROR)\n",
    "logging.getLogger('flox').setLevel(logging.WARNING)"
   ]
  },
  {
   "cell_type": "code",
   "execution_count": 4,
   "id": "f1f65c97-4031-4cce-b4cb-2b633c3280f6",
   "metadata": {
    "execution": {
     "iopub.execute_input": "2025-02-27T00:16:50.228015Z",
     "iopub.status.busy": "2025-02-27T00:16:50.227486Z",
     "iopub.status.idle": "2025-02-27T00:16:54.440177Z",
     "shell.execute_reply": "2025-02-27T00:16:54.438946Z",
     "shell.execute_reply.started": "2025-02-27T00:16:50.227959Z"
    },
    "scrolled": true
   },
   "outputs": [
    {
     "data": {
      "text/html": [
       "<div>\n",
       "    <div style=\"width: 24px; height: 24px; background-color: #e1e1e1; border: 3px solid #9D9D9D; border-radius: 5px; position: absolute;\"> </div>\n",
       "    <div style=\"margin-left: 48px;\">\n",
       "        <h3 style=\"margin-bottom: 0px;\">Client</h3>\n",
       "        <p style=\"color: #9D9D9D; margin-bottom: 0px;\">Client-24242dc3-f4a0-11ef-81e3-000007c2fe80</p>\n",
       "        <table style=\"width: 100%; text-align: left;\">\n",
       "\n",
       "        <tr>\n",
       "        \n",
       "            <td style=\"text-align: left;\"><strong>Connection method:</strong> Cluster object</td>\n",
       "            <td style=\"text-align: left;\"><strong>Cluster type:</strong> distributed.LocalCluster</td>\n",
       "        \n",
       "        </tr>\n",
       "\n",
       "        \n",
       "            <tr>\n",
       "                <td style=\"text-align: left;\">\n",
       "                    <strong>Dashboard: </strong> <a href=\"/proxy/45707/status\" target=\"_blank\">/proxy/45707/status</a>\n",
       "                </td>\n",
       "                <td style=\"text-align: left;\"></td>\n",
       "            </tr>\n",
       "        \n",
       "\n",
       "        </table>\n",
       "\n",
       "        \n",
       "            <button style=\"margin-bottom: 12px;\" data-commandlinker-command=\"dask:populate-and-launch-layout\" data-commandlinker-args='{\"url\": \"/proxy/45707/status\" }'>\n",
       "                Launch dashboard in JupyterLab\n",
       "            </button>\n",
       "        \n",
       "\n",
       "        \n",
       "            <details>\n",
       "            <summary style=\"margin-bottom: 20px;\"><h3 style=\"display: inline;\">Cluster Info</h3></summary>\n",
       "            <div class=\"jp-RenderedHTMLCommon jp-RenderedHTML jp-mod-trusted jp-OutputArea-output\">\n",
       "    <div style=\"width: 24px; height: 24px; background-color: #e1e1e1; border: 3px solid #9D9D9D; border-radius: 5px; position: absolute;\">\n",
       "    </div>\n",
       "    <div style=\"margin-left: 48px;\">\n",
       "        <h3 style=\"margin-bottom: 0px; margin-top: 0px;\">LocalCluster</h3>\n",
       "        <p style=\"color: #9D9D9D; margin-bottom: 0px;\">3e413d56</p>\n",
       "        <table style=\"width: 100%; text-align: left;\">\n",
       "            <tr>\n",
       "                <td style=\"text-align: left;\">\n",
       "                    <strong>Dashboard:</strong> <a href=\"/proxy/45707/status\" target=\"_blank\">/proxy/45707/status</a>\n",
       "                </td>\n",
       "                <td style=\"text-align: left;\">\n",
       "                    <strong>Workers:</strong> 10\n",
       "                </td>\n",
       "            </tr>\n",
       "            <tr>\n",
       "                <td style=\"text-align: left;\">\n",
       "                    <strong>Total threads:</strong> 10\n",
       "                </td>\n",
       "                <td style=\"text-align: left;\">\n",
       "                    <strong>Total memory:</strong> 586.73 GiB\n",
       "                </td>\n",
       "            </tr>\n",
       "            \n",
       "            <tr>\n",
       "    <td style=\"text-align: left;\"><strong>Status:</strong> running</td>\n",
       "    <td style=\"text-align: left;\"><strong>Using processes:</strong> True</td>\n",
       "</tr>\n",
       "\n",
       "            \n",
       "        </table>\n",
       "\n",
       "        <details>\n",
       "            <summary style=\"margin-bottom: 20px;\">\n",
       "                <h3 style=\"display: inline;\">Scheduler Info</h3>\n",
       "            </summary>\n",
       "\n",
       "            <div style=\"\">\n",
       "    <div>\n",
       "        <div style=\"width: 24px; height: 24px; background-color: #FFF7E5; border: 3px solid #FF6132; border-radius: 5px; position: absolute;\"> </div>\n",
       "        <div style=\"margin-left: 48px;\">\n",
       "            <h3 style=\"margin-bottom: 0px;\">Scheduler</h3>\n",
       "            <p style=\"color: #9D9D9D; margin-bottom: 0px;\">Scheduler-904a0801-f228-4dd7-a9f2-556465155d98</p>\n",
       "            <table style=\"width: 100%; text-align: left;\">\n",
       "                <tr>\n",
       "                    <td style=\"text-align: left;\">\n",
       "                        <strong>Comm:</strong> tcp://127.0.0.1:37437\n",
       "                    </td>\n",
       "                    <td style=\"text-align: left;\">\n",
       "                        <strong>Workers:</strong> 10\n",
       "                    </td>\n",
       "                </tr>\n",
       "                <tr>\n",
       "                    <td style=\"text-align: left;\">\n",
       "                        <strong>Dashboard:</strong> <a href=\"/proxy/45707/status\" target=\"_blank\">/proxy/45707/status</a>\n",
       "                    </td>\n",
       "                    <td style=\"text-align: left;\">\n",
       "                        <strong>Total threads:</strong> 10\n",
       "                    </td>\n",
       "                </tr>\n",
       "                <tr>\n",
       "                    <td style=\"text-align: left;\">\n",
       "                        <strong>Started:</strong> Just now\n",
       "                    </td>\n",
       "                    <td style=\"text-align: left;\">\n",
       "                        <strong>Total memory:</strong> 586.73 GiB\n",
       "                    </td>\n",
       "                </tr>\n",
       "            </table>\n",
       "        </div>\n",
       "    </div>\n",
       "\n",
       "    <details style=\"margin-left: 48px;\">\n",
       "        <summary style=\"margin-bottom: 20px;\">\n",
       "            <h3 style=\"display: inline;\">Workers</h3>\n",
       "        </summary>\n",
       "\n",
       "        \n",
       "        <div style=\"margin-bottom: 20px;\">\n",
       "            <div style=\"width: 24px; height: 24px; background-color: #DBF5FF; border: 3px solid #4CC9FF; border-radius: 5px; position: absolute;\"> </div>\n",
       "            <div style=\"margin-left: 48px;\">\n",
       "            <details>\n",
       "                <summary>\n",
       "                    <h4 style=\"margin-bottom: 0px; display: inline;\">Worker: 0</h4>\n",
       "                </summary>\n",
       "                <table style=\"width: 100%; text-align: left;\">\n",
       "                    <tr>\n",
       "                        <td style=\"text-align: left;\">\n",
       "                            <strong>Comm: </strong> tcp://127.0.0.1:46103\n",
       "                        </td>\n",
       "                        <td style=\"text-align: left;\">\n",
       "                            <strong>Total threads: </strong> 1\n",
       "                        </td>\n",
       "                    </tr>\n",
       "                    <tr>\n",
       "                        <td style=\"text-align: left;\">\n",
       "                            <strong>Dashboard: </strong> <a href=\"/proxy/45755/status\" target=\"_blank\">/proxy/45755/status</a>\n",
       "                        </td>\n",
       "                        <td style=\"text-align: left;\">\n",
       "                            <strong>Memory: </strong> 58.67 GiB\n",
       "                        </td>\n",
       "                    </tr>\n",
       "                    <tr>\n",
       "                        <td style=\"text-align: left;\">\n",
       "                            <strong>Nanny: </strong> tcp://127.0.0.1:43217\n",
       "                        </td>\n",
       "                        <td style=\"text-align: left;\"></td>\n",
       "                    </tr>\n",
       "                    <tr>\n",
       "                        <td colspan=\"2\" style=\"text-align: left;\">\n",
       "                            <strong>Local directory: </strong> /jobfs/136014989.gadi-pbs/tmpoqeeu85f/dask-scratch-space/worker-3t4et4yt\n",
       "                        </td>\n",
       "                    </tr>\n",
       "\n",
       "                    \n",
       "\n",
       "                    \n",
       "\n",
       "                </table>\n",
       "            </details>\n",
       "            </div>\n",
       "        </div>\n",
       "        \n",
       "        <div style=\"margin-bottom: 20px;\">\n",
       "            <div style=\"width: 24px; height: 24px; background-color: #DBF5FF; border: 3px solid #4CC9FF; border-radius: 5px; position: absolute;\"> </div>\n",
       "            <div style=\"margin-left: 48px;\">\n",
       "            <details>\n",
       "                <summary>\n",
       "                    <h4 style=\"margin-bottom: 0px; display: inline;\">Worker: 1</h4>\n",
       "                </summary>\n",
       "                <table style=\"width: 100%; text-align: left;\">\n",
       "                    <tr>\n",
       "                        <td style=\"text-align: left;\">\n",
       "                            <strong>Comm: </strong> tcp://127.0.0.1:35521\n",
       "                        </td>\n",
       "                        <td style=\"text-align: left;\">\n",
       "                            <strong>Total threads: </strong> 1\n",
       "                        </td>\n",
       "                    </tr>\n",
       "                    <tr>\n",
       "                        <td style=\"text-align: left;\">\n",
       "                            <strong>Dashboard: </strong> <a href=\"/proxy/43569/status\" target=\"_blank\">/proxy/43569/status</a>\n",
       "                        </td>\n",
       "                        <td style=\"text-align: left;\">\n",
       "                            <strong>Memory: </strong> 58.67 GiB\n",
       "                        </td>\n",
       "                    </tr>\n",
       "                    <tr>\n",
       "                        <td style=\"text-align: left;\">\n",
       "                            <strong>Nanny: </strong> tcp://127.0.0.1:33067\n",
       "                        </td>\n",
       "                        <td style=\"text-align: left;\"></td>\n",
       "                    </tr>\n",
       "                    <tr>\n",
       "                        <td colspan=\"2\" style=\"text-align: left;\">\n",
       "                            <strong>Local directory: </strong> /jobfs/136014989.gadi-pbs/tmpoqeeu85f/dask-scratch-space/worker-t4nw9tfm\n",
       "                        </td>\n",
       "                    </tr>\n",
       "\n",
       "                    \n",
       "\n",
       "                    \n",
       "\n",
       "                </table>\n",
       "            </details>\n",
       "            </div>\n",
       "        </div>\n",
       "        \n",
       "        <div style=\"margin-bottom: 20px;\">\n",
       "            <div style=\"width: 24px; height: 24px; background-color: #DBF5FF; border: 3px solid #4CC9FF; border-radius: 5px; position: absolute;\"> </div>\n",
       "            <div style=\"margin-left: 48px;\">\n",
       "            <details>\n",
       "                <summary>\n",
       "                    <h4 style=\"margin-bottom: 0px; display: inline;\">Worker: 2</h4>\n",
       "                </summary>\n",
       "                <table style=\"width: 100%; text-align: left;\">\n",
       "                    <tr>\n",
       "                        <td style=\"text-align: left;\">\n",
       "                            <strong>Comm: </strong> tcp://127.0.0.1:46073\n",
       "                        </td>\n",
       "                        <td style=\"text-align: left;\">\n",
       "                            <strong>Total threads: </strong> 1\n",
       "                        </td>\n",
       "                    </tr>\n",
       "                    <tr>\n",
       "                        <td style=\"text-align: left;\">\n",
       "                            <strong>Dashboard: </strong> <a href=\"/proxy/40497/status\" target=\"_blank\">/proxy/40497/status</a>\n",
       "                        </td>\n",
       "                        <td style=\"text-align: left;\">\n",
       "                            <strong>Memory: </strong> 58.67 GiB\n",
       "                        </td>\n",
       "                    </tr>\n",
       "                    <tr>\n",
       "                        <td style=\"text-align: left;\">\n",
       "                            <strong>Nanny: </strong> tcp://127.0.0.1:43039\n",
       "                        </td>\n",
       "                        <td style=\"text-align: left;\"></td>\n",
       "                    </tr>\n",
       "                    <tr>\n",
       "                        <td colspan=\"2\" style=\"text-align: left;\">\n",
       "                            <strong>Local directory: </strong> /jobfs/136014989.gadi-pbs/tmpoqeeu85f/dask-scratch-space/worker-5pczj2gi\n",
       "                        </td>\n",
       "                    </tr>\n",
       "\n",
       "                    \n",
       "\n",
       "                    \n",
       "\n",
       "                </table>\n",
       "            </details>\n",
       "            </div>\n",
       "        </div>\n",
       "        \n",
       "        <div style=\"margin-bottom: 20px;\">\n",
       "            <div style=\"width: 24px; height: 24px; background-color: #DBF5FF; border: 3px solid #4CC9FF; border-radius: 5px; position: absolute;\"> </div>\n",
       "            <div style=\"margin-left: 48px;\">\n",
       "            <details>\n",
       "                <summary>\n",
       "                    <h4 style=\"margin-bottom: 0px; display: inline;\">Worker: 3</h4>\n",
       "                </summary>\n",
       "                <table style=\"width: 100%; text-align: left;\">\n",
       "                    <tr>\n",
       "                        <td style=\"text-align: left;\">\n",
       "                            <strong>Comm: </strong> tcp://127.0.0.1:42337\n",
       "                        </td>\n",
       "                        <td style=\"text-align: left;\">\n",
       "                            <strong>Total threads: </strong> 1\n",
       "                        </td>\n",
       "                    </tr>\n",
       "                    <tr>\n",
       "                        <td style=\"text-align: left;\">\n",
       "                            <strong>Dashboard: </strong> <a href=\"/proxy/45041/status\" target=\"_blank\">/proxy/45041/status</a>\n",
       "                        </td>\n",
       "                        <td style=\"text-align: left;\">\n",
       "                            <strong>Memory: </strong> 58.67 GiB\n",
       "                        </td>\n",
       "                    </tr>\n",
       "                    <tr>\n",
       "                        <td style=\"text-align: left;\">\n",
       "                            <strong>Nanny: </strong> tcp://127.0.0.1:38127\n",
       "                        </td>\n",
       "                        <td style=\"text-align: left;\"></td>\n",
       "                    </tr>\n",
       "                    <tr>\n",
       "                        <td colspan=\"2\" style=\"text-align: left;\">\n",
       "                            <strong>Local directory: </strong> /jobfs/136014989.gadi-pbs/tmpoqeeu85f/dask-scratch-space/worker-91yr1_4e\n",
       "                        </td>\n",
       "                    </tr>\n",
       "\n",
       "                    \n",
       "\n",
       "                    \n",
       "\n",
       "                </table>\n",
       "            </details>\n",
       "            </div>\n",
       "        </div>\n",
       "        \n",
       "        <div style=\"margin-bottom: 20px;\">\n",
       "            <div style=\"width: 24px; height: 24px; background-color: #DBF5FF; border: 3px solid #4CC9FF; border-radius: 5px; position: absolute;\"> </div>\n",
       "            <div style=\"margin-left: 48px;\">\n",
       "            <details>\n",
       "                <summary>\n",
       "                    <h4 style=\"margin-bottom: 0px; display: inline;\">Worker: 4</h4>\n",
       "                </summary>\n",
       "                <table style=\"width: 100%; text-align: left;\">\n",
       "                    <tr>\n",
       "                        <td style=\"text-align: left;\">\n",
       "                            <strong>Comm: </strong> tcp://127.0.0.1:43409\n",
       "                        </td>\n",
       "                        <td style=\"text-align: left;\">\n",
       "                            <strong>Total threads: </strong> 1\n",
       "                        </td>\n",
       "                    </tr>\n",
       "                    <tr>\n",
       "                        <td style=\"text-align: left;\">\n",
       "                            <strong>Dashboard: </strong> <a href=\"/proxy/37643/status\" target=\"_blank\">/proxy/37643/status</a>\n",
       "                        </td>\n",
       "                        <td style=\"text-align: left;\">\n",
       "                            <strong>Memory: </strong> 58.67 GiB\n",
       "                        </td>\n",
       "                    </tr>\n",
       "                    <tr>\n",
       "                        <td style=\"text-align: left;\">\n",
       "                            <strong>Nanny: </strong> tcp://127.0.0.1:42623\n",
       "                        </td>\n",
       "                        <td style=\"text-align: left;\"></td>\n",
       "                    </tr>\n",
       "                    <tr>\n",
       "                        <td colspan=\"2\" style=\"text-align: left;\">\n",
       "                            <strong>Local directory: </strong> /jobfs/136014989.gadi-pbs/tmpoqeeu85f/dask-scratch-space/worker-hhs3haui\n",
       "                        </td>\n",
       "                    </tr>\n",
       "\n",
       "                    \n",
       "\n",
       "                    \n",
       "\n",
       "                </table>\n",
       "            </details>\n",
       "            </div>\n",
       "        </div>\n",
       "        \n",
       "        <div style=\"margin-bottom: 20px;\">\n",
       "            <div style=\"width: 24px; height: 24px; background-color: #DBF5FF; border: 3px solid #4CC9FF; border-radius: 5px; position: absolute;\"> </div>\n",
       "            <div style=\"margin-left: 48px;\">\n",
       "            <details>\n",
       "                <summary>\n",
       "                    <h4 style=\"margin-bottom: 0px; display: inline;\">Worker: 5</h4>\n",
       "                </summary>\n",
       "                <table style=\"width: 100%; text-align: left;\">\n",
       "                    <tr>\n",
       "                        <td style=\"text-align: left;\">\n",
       "                            <strong>Comm: </strong> tcp://127.0.0.1:46011\n",
       "                        </td>\n",
       "                        <td style=\"text-align: left;\">\n",
       "                            <strong>Total threads: </strong> 1\n",
       "                        </td>\n",
       "                    </tr>\n",
       "                    <tr>\n",
       "                        <td style=\"text-align: left;\">\n",
       "                            <strong>Dashboard: </strong> <a href=\"/proxy/42437/status\" target=\"_blank\">/proxy/42437/status</a>\n",
       "                        </td>\n",
       "                        <td style=\"text-align: left;\">\n",
       "                            <strong>Memory: </strong> 58.67 GiB\n",
       "                        </td>\n",
       "                    </tr>\n",
       "                    <tr>\n",
       "                        <td style=\"text-align: left;\">\n",
       "                            <strong>Nanny: </strong> tcp://127.0.0.1:46837\n",
       "                        </td>\n",
       "                        <td style=\"text-align: left;\"></td>\n",
       "                    </tr>\n",
       "                    <tr>\n",
       "                        <td colspan=\"2\" style=\"text-align: left;\">\n",
       "                            <strong>Local directory: </strong> /jobfs/136014989.gadi-pbs/tmpoqeeu85f/dask-scratch-space/worker-iccq2w51\n",
       "                        </td>\n",
       "                    </tr>\n",
       "\n",
       "                    \n",
       "\n",
       "                    \n",
       "\n",
       "                </table>\n",
       "            </details>\n",
       "            </div>\n",
       "        </div>\n",
       "        \n",
       "        <div style=\"margin-bottom: 20px;\">\n",
       "            <div style=\"width: 24px; height: 24px; background-color: #DBF5FF; border: 3px solid #4CC9FF; border-radius: 5px; position: absolute;\"> </div>\n",
       "            <div style=\"margin-left: 48px;\">\n",
       "            <details>\n",
       "                <summary>\n",
       "                    <h4 style=\"margin-bottom: 0px; display: inline;\">Worker: 6</h4>\n",
       "                </summary>\n",
       "                <table style=\"width: 100%; text-align: left;\">\n",
       "                    <tr>\n",
       "                        <td style=\"text-align: left;\">\n",
       "                            <strong>Comm: </strong> tcp://127.0.0.1:33557\n",
       "                        </td>\n",
       "                        <td style=\"text-align: left;\">\n",
       "                            <strong>Total threads: </strong> 1\n",
       "                        </td>\n",
       "                    </tr>\n",
       "                    <tr>\n",
       "                        <td style=\"text-align: left;\">\n",
       "                            <strong>Dashboard: </strong> <a href=\"/proxy/34979/status\" target=\"_blank\">/proxy/34979/status</a>\n",
       "                        </td>\n",
       "                        <td style=\"text-align: left;\">\n",
       "                            <strong>Memory: </strong> 58.67 GiB\n",
       "                        </td>\n",
       "                    </tr>\n",
       "                    <tr>\n",
       "                        <td style=\"text-align: left;\">\n",
       "                            <strong>Nanny: </strong> tcp://127.0.0.1:44001\n",
       "                        </td>\n",
       "                        <td style=\"text-align: left;\"></td>\n",
       "                    </tr>\n",
       "                    <tr>\n",
       "                        <td colspan=\"2\" style=\"text-align: left;\">\n",
       "                            <strong>Local directory: </strong> /jobfs/136014989.gadi-pbs/tmpoqeeu85f/dask-scratch-space/worker-gwptihkc\n",
       "                        </td>\n",
       "                    </tr>\n",
       "\n",
       "                    \n",
       "\n",
       "                    \n",
       "\n",
       "                </table>\n",
       "            </details>\n",
       "            </div>\n",
       "        </div>\n",
       "        \n",
       "        <div style=\"margin-bottom: 20px;\">\n",
       "            <div style=\"width: 24px; height: 24px; background-color: #DBF5FF; border: 3px solid #4CC9FF; border-radius: 5px; position: absolute;\"> </div>\n",
       "            <div style=\"margin-left: 48px;\">\n",
       "            <details>\n",
       "                <summary>\n",
       "                    <h4 style=\"margin-bottom: 0px; display: inline;\">Worker: 7</h4>\n",
       "                </summary>\n",
       "                <table style=\"width: 100%; text-align: left;\">\n",
       "                    <tr>\n",
       "                        <td style=\"text-align: left;\">\n",
       "                            <strong>Comm: </strong> tcp://127.0.0.1:43585\n",
       "                        </td>\n",
       "                        <td style=\"text-align: left;\">\n",
       "                            <strong>Total threads: </strong> 1\n",
       "                        </td>\n",
       "                    </tr>\n",
       "                    <tr>\n",
       "                        <td style=\"text-align: left;\">\n",
       "                            <strong>Dashboard: </strong> <a href=\"/proxy/37927/status\" target=\"_blank\">/proxy/37927/status</a>\n",
       "                        </td>\n",
       "                        <td style=\"text-align: left;\">\n",
       "                            <strong>Memory: </strong> 58.67 GiB\n",
       "                        </td>\n",
       "                    </tr>\n",
       "                    <tr>\n",
       "                        <td style=\"text-align: left;\">\n",
       "                            <strong>Nanny: </strong> tcp://127.0.0.1:35713\n",
       "                        </td>\n",
       "                        <td style=\"text-align: left;\"></td>\n",
       "                    </tr>\n",
       "                    <tr>\n",
       "                        <td colspan=\"2\" style=\"text-align: left;\">\n",
       "                            <strong>Local directory: </strong> /jobfs/136014989.gadi-pbs/tmpoqeeu85f/dask-scratch-space/worker-8q4q74nr\n",
       "                        </td>\n",
       "                    </tr>\n",
       "\n",
       "                    \n",
       "\n",
       "                    \n",
       "\n",
       "                </table>\n",
       "            </details>\n",
       "            </div>\n",
       "        </div>\n",
       "        \n",
       "        <div style=\"margin-bottom: 20px;\">\n",
       "            <div style=\"width: 24px; height: 24px; background-color: #DBF5FF; border: 3px solid #4CC9FF; border-radius: 5px; position: absolute;\"> </div>\n",
       "            <div style=\"margin-left: 48px;\">\n",
       "            <details>\n",
       "                <summary>\n",
       "                    <h4 style=\"margin-bottom: 0px; display: inline;\">Worker: 8</h4>\n",
       "                </summary>\n",
       "                <table style=\"width: 100%; text-align: left;\">\n",
       "                    <tr>\n",
       "                        <td style=\"text-align: left;\">\n",
       "                            <strong>Comm: </strong> tcp://127.0.0.1:35793\n",
       "                        </td>\n",
       "                        <td style=\"text-align: left;\">\n",
       "                            <strong>Total threads: </strong> 1\n",
       "                        </td>\n",
       "                    </tr>\n",
       "                    <tr>\n",
       "                        <td style=\"text-align: left;\">\n",
       "                            <strong>Dashboard: </strong> <a href=\"/proxy/41897/status\" target=\"_blank\">/proxy/41897/status</a>\n",
       "                        </td>\n",
       "                        <td style=\"text-align: left;\">\n",
       "                            <strong>Memory: </strong> 58.67 GiB\n",
       "                        </td>\n",
       "                    </tr>\n",
       "                    <tr>\n",
       "                        <td style=\"text-align: left;\">\n",
       "                            <strong>Nanny: </strong> tcp://127.0.0.1:38943\n",
       "                        </td>\n",
       "                        <td style=\"text-align: left;\"></td>\n",
       "                    </tr>\n",
       "                    <tr>\n",
       "                        <td colspan=\"2\" style=\"text-align: left;\">\n",
       "                            <strong>Local directory: </strong> /jobfs/136014989.gadi-pbs/tmpoqeeu85f/dask-scratch-space/worker-ar0qo4mp\n",
       "                        </td>\n",
       "                    </tr>\n",
       "\n",
       "                    \n",
       "\n",
       "                    \n",
       "\n",
       "                </table>\n",
       "            </details>\n",
       "            </div>\n",
       "        </div>\n",
       "        \n",
       "        <div style=\"margin-bottom: 20px;\">\n",
       "            <div style=\"width: 24px; height: 24px; background-color: #DBF5FF; border: 3px solid #4CC9FF; border-radius: 5px; position: absolute;\"> </div>\n",
       "            <div style=\"margin-left: 48px;\">\n",
       "            <details>\n",
       "                <summary>\n",
       "                    <h4 style=\"margin-bottom: 0px; display: inline;\">Worker: 9</h4>\n",
       "                </summary>\n",
       "                <table style=\"width: 100%; text-align: left;\">\n",
       "                    <tr>\n",
       "                        <td style=\"text-align: left;\">\n",
       "                            <strong>Comm: </strong> tcp://127.0.0.1:40533\n",
       "                        </td>\n",
       "                        <td style=\"text-align: left;\">\n",
       "                            <strong>Total threads: </strong> 1\n",
       "                        </td>\n",
       "                    </tr>\n",
       "                    <tr>\n",
       "                        <td style=\"text-align: left;\">\n",
       "                            <strong>Dashboard: </strong> <a href=\"/proxy/43683/status\" target=\"_blank\">/proxy/43683/status</a>\n",
       "                        </td>\n",
       "                        <td style=\"text-align: left;\">\n",
       "                            <strong>Memory: </strong> 58.67 GiB\n",
       "                        </td>\n",
       "                    </tr>\n",
       "                    <tr>\n",
       "                        <td style=\"text-align: left;\">\n",
       "                            <strong>Nanny: </strong> tcp://127.0.0.1:39227\n",
       "                        </td>\n",
       "                        <td style=\"text-align: left;\"></td>\n",
       "                    </tr>\n",
       "                    <tr>\n",
       "                        <td colspan=\"2\" style=\"text-align: left;\">\n",
       "                            <strong>Local directory: </strong> /jobfs/136014989.gadi-pbs/tmpoqeeu85f/dask-scratch-space/worker-mdomkasl\n",
       "                        </td>\n",
       "                    </tr>\n",
       "\n",
       "                    \n",
       "\n",
       "                    \n",
       "\n",
       "                </table>\n",
       "            </details>\n",
       "            </div>\n",
       "        </div>\n",
       "        \n",
       "\n",
       "    </details>\n",
       "</div>\n",
       "\n",
       "        </details>\n",
       "    </div>\n",
       "</div>\n",
       "            </details>\n",
       "        \n",
       "\n",
       "    </div>\n",
       "</div>"
      ],
      "text/plain": [
       "<Client: 'tcp://127.0.0.1:37437' processes=10 threads=10, memory=586.73 GiB>"
      ]
     },
     "execution_count": 4,
     "metadata": {},
     "output_type": "execute_result"
    }
   ],
   "source": [
    "import dask\n",
    "import tempfile\n",
    "from dask.diagnostics import ProgressBar\n",
    "from dask.distributed import Client, LocalCluster\n",
    "\n",
    "dask.config.set({\n",
    "    'array.chunk-size': \"256 MiB\",\n",
    "    'array.slicing.split_large_chunks': True, #This can make AXIOM very slow\n",
    "    'distributed.comm.timeouts.connect': '120s',\n",
    "    'distributed.comm.timeouts.tcp': '120s',\n",
    "    'distributed.comm.retry.count': 10,\n",
    "    'distributed.scheduler.allowed-failures': 20,\n",
    "    \"distributed.scheduler.worker-saturation\": 1.1, #This should use the new behaviour which helps with memory pile up\n",
    "})\n",
    "\n",
    "# client = dask.distributed.Client()\n",
    "client = Client(n_workers=10, threads_per_worker=1, local_directory = tempfile.mkdtemp(), memory_limit = \"63000mb\")\n",
    "client"
   ]
  },
  {
   "cell_type": "markdown",
   "id": "016ce5d3-a5a7-41c8-8174-3dc9ac759ef9",
   "metadata": {},
   "source": [
    "### Step 1 -> Extract daily T, q, Rd, U10 and convert to 7-day running means "
   ]
  },
  {
   "cell_type": "markdown",
   "id": "820560c3-f144-44e2-936b-a635615c87af",
   "metadata": {},
   "source": [
    "Hourly MERRA2 files are very large - extract only relevant variables for domain of interest with dask and write locally (only need to do this step once)<br>\n",
    "<sub>Need to write locally as working with dask arrays using .compute crashes the session and takes a long time</sub>"
   ]
  },
  {
   "cell_type": "code",
   "execution_count": 5,
   "id": "edbf7722-fa75-4bc3-992c-1eaa87cc99f2",
   "metadata": {
    "execution": {
     "iopub.execute_input": "2025-02-27T00:16:54.442081Z",
     "iopub.status.busy": "2025-02-27T00:16:54.441803Z",
     "iopub.status.idle": "2025-02-27T02:31:56.243853Z",
     "shell.execute_reply": "2025-02-27T02:31:56.213131Z",
     "shell.execute_reply.started": "2025-02-27T00:16:54.442053Z"
    }
   },
   "outputs": [
    {
     "name": "stdout",
     "output_type": "stream",
     "text": [
      "CPU times: user 1h 33min 55s, sys: 6min 2s, total: 1h 39min 58s\n",
      "Wall time: 2h 15min 1s\n"
     ]
    },
    {
     "data": {
      "text/plain": [
       "15373"
      ]
     },
     "execution_count": 5,
     "metadata": {},
     "output_type": "execute_result"
    }
   ],
   "source": [
    "%%time\n",
    "#load in 2m air temperature (K), 2m eastward wind speed (m/s), 2m specific humidity (kg/kg) and aggregate to daily timescale\n",
    "T2M_U2M_QV2M_files = []\n",
    "for year in range(1980,2023):\n",
    "    for month in range(1,13):\n",
    "        T2M_U2M_QV2M_files.extend(sorted(glob.glob(f\"{MERRA2_T2M_U2M_QV2M_dir}/{year}/{str(month).zfill(2)}/*.nc4\")))\n",
    "\n",
    "def preprocess_T2M_U2M_QV2M(ds): #preprocess function to save memory and time\n",
    "    logging.getLogger('flox').setLevel(logging.WARNING)\n",
    "    return ds[['T2M', 'U2M', 'QV2M']].resample(time='1D').mean().sel(lat=slice(-45,-1), lon=slice(100,180))\n",
    "\n",
    "T2M_U2M_QV2M_cube = xr.open_mfdataset(T2M_U2M_QV2M_files,combine='nested', concat_dim='time',parallel=True, preprocess=preprocess_T2M_U2M_QV2M, engine='netcdf4').chunk({'time':-1, 'lat':'auto', 'lon':'auto'})\n",
    "\n",
    "#write to netcdf and clear up local memory, ok to store locally only takes ~1.5gb\n",
    "T2M_U2M_QV2M_cube.to_netcdf('/g/data/mn51/users/jb6465/MERRA2_daily_T2M_U2M_QV2M.nc', encoding={'T2M': {'zlib': True, 'complevel': 5, 'dtype':'float32'}, 'U2M': {'zlib': True, 'complevel': 5, 'dtype':'float32'}, 'QV2M': {'zlib': True, 'complevel': 5, 'dtype':'float32'}})\n",
    "del T2M_U2M_QV2M_cube\n",
    "gc.collect()"
   ]
  },
  {
   "cell_type": "code",
   "execution_count": 6,
   "id": "2c7b7f26-63d7-4b16-9017-4f2e9efea96c",
   "metadata": {
    "execution": {
     "iopub.execute_input": "2025-02-27T02:31:56.345975Z",
     "iopub.status.busy": "2025-02-27T02:31:56.339961Z",
     "iopub.status.idle": "2025-02-27T03:18:29.957169Z",
     "shell.execute_reply": "2025-02-27T03:18:29.955842Z",
     "shell.execute_reply.started": "2025-02-27T02:31:56.345920Z"
    }
   },
   "outputs": [
    {
     "name": "stdout",
     "output_type": "stream",
     "text": [
      "CPU times: user 34min 1s, sys: 1min 54s, total: 35min 56s\n",
      "Wall time: 46min 33s\n"
     ]
    },
    {
     "data": {
      "text/plain": [
       "13735"
      ]
     },
     "execution_count": 6,
     "metadata": {},
     "output_type": "execute_result"
    }
   ],
   "source": [
    "%%time\n",
    "#load in incoming surface solar radiation (W/m2) and aggregate to daily timescale\n",
    "SWGDN_files = []\n",
    "for year in range(1980,2023):\n",
    "    for month in range(1,13):\n",
    "        SWGDN_files.extend(sorted(glob.glob(f\"{MERRA2_SWGDN_dir}/{year}/{str(month).zfill(2)}/*.nc4\")))\n",
    "\n",
    "def preprocess_SWdn(ds): #preprocess function to save memory and time\n",
    "    logging.getLogger('flox').setLevel(logging.WARNING)\n",
    "    return ds['SWGDN'].resample(time='1D').mean().sel(lat=slice(-45,-1), lon=slice(100,180))\n",
    "\n",
    "SWGDN_cube = xr.open_mfdataset(SWGDN_files,combine='nested', concat_dim='time',parallel=True, preprocess=preprocess_SWdn, engine='netcdf4').chunk({'time':-1, 'lat':'auto', 'lon':'auto'})\n",
    "\n",
    "#write to netcdf and clear up local memory, ok to store locally only takes ~500mb\n",
    "SWGDN_cube.to_netcdf('/g/data/mn51/users/jb6465/MERRA2_daily_SWGDN.nc', encoding={'SWGDN': {'zlib': True, 'complevel': 5, 'dtype':'float32'}})\n",
    "del SWGDN_cube\n",
    "gc.collect()"
   ]
  },
  {
   "cell_type": "markdown",
   "id": "8d715ba1-dec8-438e-b275-eb8682838a60",
   "metadata": {},
   "source": [
    "<b> Convert daily to 7-day running means </b>"
   ]
  },
  {
   "cell_type": "code",
   "execution_count": 41,
   "id": "2bb575b3-f18f-4b0d-9d88-209078f63806",
   "metadata": {
    "execution": {
     "iopub.execute_input": "2025-02-27T03:56:40.393801Z",
     "iopub.status.busy": "2025-02-27T03:56:40.393199Z",
     "iopub.status.idle": "2025-02-27T03:56:58.035544Z",
     "shell.execute_reply": "2025-02-27T03:56:58.034571Z",
     "shell.execute_reply.started": "2025-02-27T03:56:40.393741Z"
    }
   },
   "outputs": [
    {
     "name": "stdout",
     "output_type": "stream",
     "text": [
      "CPU times: user 15.9 s, sys: 1.72 s, total: 17.6 s\n",
      "Wall time: 17.6 s\n"
     ]
    }
   ],
   "source": [
    "%%time\n",
    "T2M_U2M_QV2M_cube = xr.open_dataset('/g/data/mn51/users/jb6465/MERRA2_daily_T2M_U2M_QV2M.nc')\n",
    "SWGDN_cube = xr.open_dataset('/g/data/mn51/users/jb6465/MERRA2_daily_SWGDN.nc')\n",
    "\n",
    "T2M_7d_mean = T2M_U2M_QV2M_cube['T2M'].rolling(time=7).mean()\n",
    "U2M_7d_mean = T2M_U2M_QV2M_cube['U2M'].rolling(time=7).mean()\n",
    "QV2M_7d_mean = T2M_U2M_QV2M_cube['QV2M'].rolling(time=7).mean()\n",
    "SWGDN_7d_mean = SWGDN_cube['SWGDN'].rolling(time=7).mean()"
   ]
  },
  {
   "cell_type": "markdown",
   "id": "76561e92-e89b-45c1-b35c-27ca137628bb",
   "metadata": {},
   "source": [
    "<br> "
   ]
  },
  {
   "cell_type": "markdown",
   "id": "b8f3816a-b71d-41cd-a147-21960cf29031",
   "metadata": {},
   "source": [
    "### Step 2 -> Calculate daily reference ET and convert to 7-day running means"
   ]
  },
  {
   "cell_type": "markdown",
   "id": "2e04ff6c-82c7-4d63-aad5-95eaf4387cf9",
   "metadata": {},
   "source": [
    "<b>MERRA2 elev</b><br>\n",
    "Following approach from Mike's [MERRA2 paper code](https://www.sciencebase.gov/catalog/item/6515cb7ad34e469cabfcdccd), elev file not stored on gadi so downloaded locally from NASA earthdata"
   ]
  },
  {
   "cell_type": "code",
   "execution_count": 63,
   "id": "4d75e3c4-f4a7-430a-bd87-decdd384b7a2",
   "metadata": {
    "execution": {
     "iopub.execute_input": "2025-02-27T04:31:46.817347Z",
     "iopub.status.busy": "2025-02-27T04:31:46.816763Z",
     "iopub.status.idle": "2025-02-27T04:31:46.846159Z",
     "shell.execute_reply": "2025-02-27T04:31:46.845184Z",
     "shell.execute_reply.started": "2025-02-27T04:31:46.817289Z"
    }
   },
   "outputs": [],
   "source": [
    "elevfile = xr.open_dataset('/g/data/mn51/users/jb6465/MERRA2_101.const_2d_asm_Nx.nc4')\n",
    "\n",
    "#MERRA2 elevation derived from PHIS (surface geopotenial height in m2/m2)\n",
    "geopot = elevfile['PHIS'].sel(lat=slice(-45,-1), lon=slice(100,180)).values\n",
    "elev = geopot/9.81 #divide by 9.81m2/s to get elevation in m"
   ]
  },
  {
   "attachments": {
    "f7791682-0d88-48d6-8257-6c696ce36f39.png": {
     "image/png": "[encoded data removed]"
    }
   },
   "cell_type": "markdown",
   "id": "d2919319-aaad-44ed-81ac-9b9ee9de8972",
   "metadata": {},
   "source": [
    "Calculate Ref ET using approximations<br>\n",
    "[FAO56 ASCE05 constants and equations](http://www.climasouth.eu/sites/default/files/FAO%2056.pdf)<br>\n",
    "![image.png](attachment:f7791682-0d88-48d6-8257-6c696ce36f39.png)"
   ]
  },
  {
   "cell_type": "markdown",
   "id": "dd5b711e-8394-4ffb-91bc-81a2b596cbf9",
   "metadata": {},
   "source": [
    "<b>Switch for short/tall crop<b>"
   ]
  },
  {
   "cell_type": "code",
   "execution_count": 50,
   "id": "4998bcee-c278-42e6-9261-343445adf5c2",
   "metadata": {
    "execution": {
     "iopub.execute_input": "2025-02-27T03:59:25.416831Z",
     "iopub.status.busy": "2025-02-27T03:59:25.416479Z",
     "iopub.status.idle": "2025-02-27T03:59:25.421893Z",
     "shell.execute_reply": "2025-02-27T03:59:25.420813Z",
     "shell.execute_reply.started": "2025-02-27T03:59:25.416801Z"
    }
   },
   "outputs": [],
   "source": [
    "short_tall_crop_switch = 'short' #short (0.12m grass) or tall (0.50m alfafa)"
   ]
  },
  {
   "cell_type": "code",
   "execution_count": null,
   "id": "bb3ea9b4-b738-4cc5-a086-b93b6b778336",
   "metadata": {},
   "outputs": [],
   "source": []
  },
  {
   "cell_type": "markdown",
   "id": "be6af663-9f8b-438e-a0bf-e06315d05ef2",
   "metadata": {},
   "source": [
    "<b>Input variables</b>"
   ]
  },
  {
   "cell_type": "code",
   "execution_count": 173,
   "id": "93575c47-d0d5-44f5-b349-ca05336a6830",
   "metadata": {
    "execution": {
     "iopub.execute_input": "2025-02-27T05:09:16.057836Z",
     "iopub.status.busy": "2025-02-27T05:09:16.057269Z",
     "iopub.status.idle": "2025-02-27T05:09:41.712416Z",
     "shell.execute_reply": "2025-02-27T05:09:41.710962Z",
     "shell.execute_reply.started": "2025-02-27T05:09:16.057783Z"
    }
   },
   "outputs": [
    {
     "name": "stdout",
     "output_type": "stream",
     "text": [
      "CPU times: user 22.9 s, sys: 2.74 s, total: 25.6 s\n",
      "Wall time: 25.6 s\n"
     ]
    }
   ],
   "source": [
    "%%time\n",
    "from math import pi\n",
    "\n",
    "T2M = T2M_7d_mean.values\n",
    "U2M = U2M_7d_mean.values\n",
    "QV2M = QV2M_7d_mean.values\n",
    "SWGDN = SWGDN_7d_mean.values \n",
    "\n",
    "# delta: slope of saturation vapor pressure curve (Pa/K) \n",
    "delta = 4098 * 610.8 * np.exp((17.27*(T2M-273.15))/(T2M-35.85)) / (T2M-35.85)**2 \n",
    "\n",
    "# psyc: psychrometric constant (Pa/K)\n",
    "patm = 101300 * ((293. - 0.0065 * elev) / 293.)**5.26\n",
    "psyc = 0.000665 * patm\n",
    "\n",
    "# Cn: numerator crop constant (K.mm.sec3/kg/day)\n",
    "Cn = 1600 if short_tall_crop_switch == 'tall' else 900 \n",
    "\n",
    "# Cd: denominator crop constant (sec/m)\n",
    "Cd = 0.38 if short_tall_crop_switch == 'tall' else 0.34\n",
    "\n",
    "# esat: saturation vapor pressure (Pa)\n",
    "esat = 610.8 * np.exp((17.27*(T2M-273.15)) / (T2M - 35.85))\n",
    "\n",
    "# eact: vapor pressure (Pa) \n",
    "eact = patm * (QV2M/(1-QV2M)) / (0.622+(QV2M/(1-QV2M)))\n",
    "\n",
    "# albedo (unitless)\n",
    "albedo = 0.23\n",
    "\n",
    "# sigma: Stefan-Boltzmann constant (MJ/K4/m2/day)\n",
    "sigma = 4.901e-9\n",
    "\n",
    "# Rn: downward net radiation (W/m^2)\n",
    "Rn = np.ma.empty_like(SWGDN)\n",
    "for day_idx, day in enumerate(np.array(SWGDN_7d_mean.time.values)):\n",
    "    doy = pd.Timestamp(day).dayofyear\n",
    "    decl = 0.409 * np. sin((2. * pi * doy / 365) - 1.39) #declination (rad)\n",
    "    \n",
    "    lonrad, latrad = np.meshgrid(np.radians(SWGDN_7d_mean.lon.values),np.radians(SWGDN_7d_mean.lat.values)) #convert latitude array to radians (rad)\n",
    "    ws = -1. * np.tan(latrad) * np.tan(decl) #sunset hour angle (rad)\n",
    "    dr = 1. + 0.033 * np.cos(2. * pi * doy / 365) #inverse relative distance of earth from sun (unitless)\n",
    "    Gsc = 4.92 #solar constant (MJ/m2/hour)\n",
    "\n",
    "    Ra = (24. / pi) * Gsc * dr * (ws * np.sin(latrad) * np.sin(decl) + np.cos(latrad) * np.cos(decl) * np.sin(ws)) #extra-terrestrial (TOA) SW radiation (MJ/m2/day)\n",
    "    Rs = SWGDN[day_idx] #MERRA2 incoming surface solar radiation (W/m2)\n",
    "    Rso = Ra * (0.75 + 2.e-5 * elev[0]) #clear-sky SW radiation at surface (MJ/m2/day)\n",
    "    RsRso = (Rs * 86400. / 1.e6) / Rso #relative shortwave radiation (unitless)\n",
    "    fcd = 1.35 * RsRso - 0.35 #cloudiness function (unitless)\n",
    "    Rnsw = Rs * (1 - albedo) #downward net shortwave radiation (W/m^2)\n",
    "    Rnl = sigma * fcd * (0.34 - 0.14 * (0.001 * eact[day_idx])**0.5) * (T2M[day_idx] - 35.85)**4. #upward net longwave radiation (W/m^2)\n",
    "    Rn[day_idx,:,:] = Rnsw - (Rnl * 1000000 / 86400) #downward net radiation (W/m^2)\n",
    "\n",
    "#ground heat flux (J/m2/day)\n",
    "G = 0 #on daily time scales, G is too small relative to Rn and is considered null\n"
   ]
  },
  {
   "cell_type": "markdown",
   "id": "eb718359-f75c-49e1-b6ab-e3d826e942ed",
   "metadata": {},
   "source": [
    "<b>Split ETr into 3 components: A, B, C,<b>"
   ]
  },
  {
   "cell_type": "code",
   "execution_count": 174,
   "id": "f87d2e3d-7ab1-4b68-8556-098555b85742",
   "metadata": {
    "execution": {
     "iopub.execute_input": "2025-02-27T05:09:41.714657Z",
     "iopub.status.busy": "2025-02-27T05:09:41.714398Z",
     "iopub.status.idle": "2025-02-27T05:09:50.602226Z",
     "shell.execute_reply": "2025-02-27T05:09:50.601037Z",
     "shell.execute_reply.started": "2025-02-27T05:09:41.714630Z"
    }
   },
   "outputs": [
    {
     "name": "stdout",
     "output_type": "stream",
     "text": [
      "CPU times: user 4.91 s, sys: 3.98 s, total: 8.89 s\n",
      "Wall time: 8.88 s\n"
     ]
    }
   ],
   "source": [
    "%%time\n",
    "# A left numerator\n",
    "A = 0.408e-6 * delta * Rn - G\n",
    "\n",
    "# B right numerator\n",
    "B = psyc * (Cn/T2M) * U2M * (esat-eact)\n",
    "\n",
    "# C denominator\n",
    "C = delta + psyc * (1+Cd*U2M)\n",
    "\n",
    "ETr = (A+B)/C"
   ]
  },
  {
   "cell_type": "code",
   "execution_count": 175,
   "id": "67342703-210b-4699-ae92-295973ac9f36",
   "metadata": {
    "execution": {
     "iopub.execute_input": "2025-02-27T05:09:50.603305Z",
     "iopub.status.busy": "2025-02-27T05:09:50.603095Z",
     "iopub.status.idle": "2025-02-27T05:09:51.284044Z",
     "shell.execute_reply": "2025-02-27T05:09:51.282863Z",
     "shell.execute_reply.started": "2025-02-27T05:09:50.603283Z"
    }
   },
   "outputs": [],
   "source": [
    "ETr_xr = xr.DataArray(ETr, dims=['time', 'lat', 'lon'], coords={'time':T2M_7d_mean.time.values, 'lat': T2M_7d_mean.lat.values, 'lon': T2M_7d_mean.lon.values}).rename(f\"ETr_{short_tall_crop_switch}_crop\")"
   ]
  },
  {
   "cell_type": "markdown",
   "id": "a904f639-ba44-4818-9018-610253bf9a4f",
   "metadata": {},
   "source": [
    "Convert daily to 7-day running means"
   ]
  },
  {
   "cell_type": "code",
   "execution_count": 176,
   "id": "d9727f0c-cd3b-4d21-a273-af994b070ee1",
   "metadata": {
    "execution": {
     "iopub.execute_input": "2025-02-27T05:09:51.285869Z",
     "iopub.status.busy": "2025-02-27T05:09:51.285638Z",
     "iopub.status.idle": "2025-02-27T05:09:53.316984Z",
     "shell.execute_reply": "2025-02-27T05:09:53.315641Z",
     "shell.execute_reply.started": "2025-02-27T05:09:51.285846Z"
    }
   },
   "outputs": [],
   "source": [
    "ETr_7d_mean = ETr_xr.rolling(time=7).mean()"
   ]
  },
  {
   "cell_type": "code",
   "execution_count": 177,
   "id": "3efe913a-58e5-41dd-bb7e-3fd413c5a382",
   "metadata": {
    "execution": {
     "iopub.execute_input": "2025-02-27T05:09:53.318299Z",
     "iopub.status.busy": "2025-02-27T05:09:53.318067Z",
     "iopub.status.idle": "2025-02-27T05:09:53.829796Z",
     "shell.execute_reply": "2025-02-27T05:09:53.828674Z",
     "shell.execute_reply.started": "2025-02-27T05:09:53.318276Z"
    }
   },
   "outputs": [
    {
     "data": {
      "text/plain": [
       "<matplotlib.collections.QuadMesh at 0x14df03b80790>"
      ]
     },
     "execution_count": 177,
     "metadata": {},
     "output_type": "execute_result"
    },
    {
     "data": {
      "image/png": "[encoded data removed]",
      "text/plain": [
       "<Figure size 640x480 with 2 Axes>"
      ]
     },
     "metadata": {},
     "output_type": "display_data"
    }
   ],
   "source": [
    "ETr_7d_mean[4321].plot()"
   ]
  },
  {
   "cell_type": "markdown",
   "id": "44ac12c1-6978-49cd-a6c5-0adf7e4ec50f",
   "metadata": {},
   "source": [
    "<br>"
   ]
  },
  {
   "cell_type": "markdown",
   "id": "f056b1e9-79e5-44b4-9b4e-00f5d780dd1c",
   "metadata": {},
   "source": [
    "### Step 3 -> Calculate daily sensitivity expressions"
   ]
  },
  {
   "cell_type": "markdown",
   "id": "026b04a8-74f5-41be-8952-ab5a214d1ba8",
   "metadata": {},
   "source": [
    "Relevant Equations"
   ]
  },
  {
   "cell_type": "code",
   "execution_count": null,
   "id": "da6fbcd3-ef79-4adc-9a28-18cd3c643e91",
   "metadata": {},
   "outputs": [],
   "source": []
  },
  {
   "cell_type": "markdown",
   "id": "f1dc0bf5-2f30-427c-8388-1e9093220bce",
   "metadata": {},
   "source": [
    "<br>"
   ]
  },
  {
   "cell_type": "markdown",
   "id": "52391178-fd86-4f6f-b8f8-787b7de03813",
   "metadata": {},
   "source": [
    "### Step 4 -> Calculate relative contribution from each driver"
   ]
  },
  {
   "cell_type": "code",
   "execution_count": null,
   "id": "9719bda4-3248-4202-8049-05795831d546",
   "metadata": {},
   "outputs": [],
   "source": []
  },
  {
   "cell_type": "markdown",
   "id": "a10353e8-b025-4a5c-84c7-2b9bff4dec06",
   "metadata": {},
   "source": [
    "<br>"
   ]
  },
  {
   "cell_type": "markdown",
   "id": "99c2ae46-30bd-454d-b9b5-84b76fba3ebb",
   "metadata": {},
   "source": [
    "### Step 5 -> Plot and visualise "
   ]
  },
  {
   "cell_type": "code",
   "execution_count": null,
   "id": "d382b164-7538-406e-8580-4a4579efdd5a",
   "metadata": {},
   "outputs": [],
   "source": []
  }
 ],
 "metadata": {
  "kernelspec": {
   "display_name": "Python [conda env:analysis3]",
   "language": "python",
   "name": "conda-env-analysis3-py"
  },
  "language_info": {
   "codemirror_mode": {
    "name": "ipython",
    "version": 3
   },
   "file_extension": ".py",
   "mimetype": "text/x-python",
   "name": "python",
   "nbconvert_exporter": "python",
   "pygments_lexer": "ipython3",
   "version": "3.10.14"
  }
 },
 "nbformat": 4,
 "nbformat_minor": 5
}
