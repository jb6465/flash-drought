{
 "cells": [
  {
   "cell_type": "markdown",
   "id": "cff9665f-696b-451c-a7e7-adf76a9d4de0",
   "metadata": {},
   "source": [
    "# First attempt to pythonise Mike's code and apply it to MERRA2"
   ]
  },
  {
   "cell_type": "code",
   "execution_count": 1,
   "id": "231a148f-33dd-4b69-ba08-7ff18f58b871",
   "metadata": {
    "execution": {
     "iopub.execute_input": "2025-03-27T05:36:21.097621Z",
     "iopub.status.busy": "2025-03-27T05:36:21.097059Z",
     "iopub.status.idle": "2025-03-27T05:36:23.507625Z",
     "shell.execute_reply": "2025-03-27T05:36:23.506517Z",
     "shell.execute_reply.started": "2025-03-27T05:36:21.097560Z"
    }
   },
   "outputs": [],
   "source": [
    "import sys\n",
    "import os\n",
    "import glob\n",
    "import xarray as xr\n",
    "import numpy as np\n",
    "import gc\n",
    "import logging\n",
    "import pandas as pd\n",
    "from math import pi"
   ]
  },
  {
   "cell_type": "code",
   "execution_count": 2,
   "id": "8642792f-c405-4364-87de-a2157a240eba",
   "metadata": {
    "execution": {
     "iopub.execute_input": "2025-03-27T05:36:23.509275Z",
     "iopub.status.busy": "2025-03-27T05:36:23.508944Z",
     "iopub.status.idle": "2025-03-27T05:36:23.513890Z",
     "shell.execute_reply": "2025-03-27T05:36:23.512875Z",
     "shell.execute_reply.started": "2025-03-27T05:36:23.509251Z"
    }
   },
   "outputs": [],
   "source": [
    "#relevant directories (move to utils.py eventually)\n",
    "MERRA2_T2M_U2M_QV2M_dir = '/g/data/rr7/MERRA2/raw/M2T1NXSLV.5.12.4'\n",
    "MERRA2_SWNETSRF_dir = '/g/data/rr7/MERRA2/raw/M2T1NXINT.5.12.4'\n",
    "MERRA2_SWGDN_dir = '/g/data/rr7/MERRA2/raw/M2T1NXRAD.5.12.4/'"
   ]
  },
  {
   "cell_type": "markdown",
   "id": "6d8b6b54-fac5-469c-87ca-60d12fcc983f",
   "metadata": {
    "jp-MarkdownHeadingCollapsed": true
   },
   "source": [
    "#### Dask + warning setup"
   ]
  },
  {
   "cell_type": "code",
   "execution_count": 3,
   "id": "700cabfc-ade6-41bc-b2e5-6b983362e1f6",
   "metadata": {
    "execution": {
     "iopub.execute_input": "2025-03-26T23:05:14.423868Z",
     "iopub.status.busy": "2025-03-26T23:05:14.423631Z",
     "iopub.status.idle": "2025-03-26T23:05:14.438098Z",
     "shell.execute_reply": "2025-03-26T23:05:14.437360Z",
     "shell.execute_reply.started": "2025-03-26T23:05:14.423843Z"
    }
   },
   "outputs": [],
   "source": [
    "import warnings\n",
    "import logging\n",
    "warnings.filterwarnings('ignore') \n",
    "logging.getLogger(\"distributed.worker.memory\").setLevel(logging.ERROR)\n",
    "logging.getLogger('flox').setLevel(logging.WARNING)"
   ]
  },
  {
   "cell_type": "code",
   "execution_count": 4,
   "id": "f1f65c97-4031-4cce-b4cb-2b633c3280f6",
   "metadata": {
    "execution": {
     "iopub.execute_input": "2025-03-26T23:05:20.556204Z",
     "iopub.status.busy": "2025-03-26T23:05:20.555636Z",
     "iopub.status.idle": "2025-03-26T23:05:24.285916Z",
     "shell.execute_reply": "2025-03-26T23:05:24.285082Z",
     "shell.execute_reply.started": "2025-03-26T23:05:20.556149Z"
    },
    "scrolled": true
   },
   "outputs": [
    {
     "data": {
      "text/html": [
       "<div>\n",
       "    <div style=\"width: 24px; height: 24px; background-color: #e1e1e1; border: 3px solid #9D9D9D; border-radius: 5px; position: absolute;\"> </div>\n",
       "    <div style=\"margin-left: 48px;\">\n",
       "        <h3 style=\"margin-bottom: 0px;\">Client</h3>\n",
       "        <p style=\"color: #9D9D9D; margin-bottom: 0px;\">Client-caafe4c3-0a96-11f0-9ae7-00000820fe80</p>\n",
       "        <table style=\"width: 100%; text-align: left;\">\n",
       "\n",
       "        <tr>\n",
       "        \n",
       "            <td style=\"text-align: left;\"><strong>Connection method:</strong> Cluster object</td>\n",
       "            <td style=\"text-align: left;\"><strong>Cluster type:</strong> distributed.LocalCluster</td>\n",
       "        \n",
       "        </tr>\n",
       "\n",
       "        \n",
       "            <tr>\n",
       "                <td style=\"text-align: left;\">\n",
       "                    <strong>Dashboard: </strong> <a href=\"/proxy/8787/status\" target=\"_blank\">/proxy/8787/status</a>\n",
       "                </td>\n",
       "                <td style=\"text-align: left;\"></td>\n",
       "            </tr>\n",
       "        \n",
       "\n",
       "        </table>\n",
       "\n",
       "        \n",
       "            <button style=\"margin-bottom: 12px;\" data-commandlinker-command=\"dask:populate-and-launch-layout\" data-commandlinker-args='{\"url\": \"/proxy/8787/status\" }'>\n",
       "                Launch dashboard in JupyterLab\n",
       "            </button>\n",
       "        \n",
       "\n",
       "        \n",
       "            <details>\n",
       "            <summary style=\"margin-bottom: 20px;\"><h3 style=\"display: inline;\">Cluster Info</h3></summary>\n",
       "            <div class=\"jp-RenderedHTMLCommon jp-RenderedHTML jp-mod-trusted jp-OutputArea-output\">\n",
       "    <div style=\"width: 24px; height: 24px; background-color: #e1e1e1; border: 3px solid #9D9D9D; border-radius: 5px; position: absolute;\">\n",
       "    </div>\n",
       "    <div style=\"margin-left: 48px;\">\n",
       "        <h3 style=\"margin-bottom: 0px; margin-top: 0px;\">LocalCluster</h3>\n",
       "        <p style=\"color: #9D9D9D; margin-bottom: 0px;\">67f27551</p>\n",
       "        <table style=\"width: 100%; text-align: left;\">\n",
       "            <tr>\n",
       "                <td style=\"text-align: left;\">\n",
       "                    <strong>Dashboard:</strong> <a href=\"/proxy/8787/status\" target=\"_blank\">/proxy/8787/status</a>\n",
       "                </td>\n",
       "                <td style=\"text-align: left;\">\n",
       "                    <strong>Workers:</strong> 10\n",
       "                </td>\n",
       "            </tr>\n",
       "            <tr>\n",
       "                <td style=\"text-align: left;\">\n",
       "                    <strong>Total threads:</strong> 10\n",
       "                </td>\n",
       "                <td style=\"text-align: left;\">\n",
       "                    <strong>Total memory:</strong> 586.73 GiB\n",
       "                </td>\n",
       "            </tr>\n",
       "            \n",
       "            <tr>\n",
       "    <td style=\"text-align: left;\"><strong>Status:</strong> running</td>\n",
       "    <td style=\"text-align: left;\"><strong>Using processes:</strong> True</td>\n",
       "</tr>\n",
       "\n",
       "            \n",
       "        </table>\n",
       "\n",
       "        <details>\n",
       "            <summary style=\"margin-bottom: 20px;\">\n",
       "                <h3 style=\"display: inline;\">Scheduler Info</h3>\n",
       "            </summary>\n",
       "\n",
       "            <div style=\"\">\n",
       "    <div>\n",
       "        <div style=\"width: 24px; height: 24px; background-color: #FFF7E5; border: 3px solid #FF6132; border-radius: 5px; position: absolute;\"> </div>\n",
       "        <div style=\"margin-left: 48px;\">\n",
       "            <h3 style=\"margin-bottom: 0px;\">Scheduler</h3>\n",
       "            <p style=\"color: #9D9D9D; margin-bottom: 0px;\">Scheduler-c8242c1d-4172-4f27-922b-5e05c0ceb735</p>\n",
       "            <table style=\"width: 100%; text-align: left;\">\n",
       "                <tr>\n",
       "                    <td style=\"text-align: left;\">\n",
       "                        <strong>Comm:</strong> tcp://127.0.0.1:40861\n",
       "                    </td>\n",
       "                    <td style=\"text-align: left;\">\n",
       "                        <strong>Workers:</strong> 10\n",
       "                    </td>\n",
       "                </tr>\n",
       "                <tr>\n",
       "                    <td style=\"text-align: left;\">\n",
       "                        <strong>Dashboard:</strong> <a href=\"/proxy/8787/status\" target=\"_blank\">/proxy/8787/status</a>\n",
       "                    </td>\n",
       "                    <td style=\"text-align: left;\">\n",
       "                        <strong>Total threads:</strong> 10\n",
       "                    </td>\n",
       "                </tr>\n",
       "                <tr>\n",
       "                    <td style=\"text-align: left;\">\n",
       "                        <strong>Started:</strong> Just now\n",
       "                    </td>\n",
       "                    <td style=\"text-align: left;\">\n",
       "                        <strong>Total memory:</strong> 586.73 GiB\n",
       "                    </td>\n",
       "                </tr>\n",
       "            </table>\n",
       "        </div>\n",
       "    </div>\n",
       "\n",
       "    <details style=\"margin-left: 48px;\">\n",
       "        <summary style=\"margin-bottom: 20px;\">\n",
       "            <h3 style=\"display: inline;\">Workers</h3>\n",
       "        </summary>\n",
       "\n",
       "        \n",
       "        <div style=\"margin-bottom: 20px;\">\n",
       "            <div style=\"width: 24px; height: 24px; background-color: #DBF5FF; border: 3px solid #4CC9FF; border-radius: 5px; position: absolute;\"> </div>\n",
       "            <div style=\"margin-left: 48px;\">\n",
       "            <details>\n",
       "                <summary>\n",
       "                    <h4 style=\"margin-bottom: 0px; display: inline;\">Worker: 0</h4>\n",
       "                </summary>\n",
       "                <table style=\"width: 100%; text-align: left;\">\n",
       "                    <tr>\n",
       "                        <td style=\"text-align: left;\">\n",
       "                            <strong>Comm: </strong> tcp://127.0.0.1:38923\n",
       "                        </td>\n",
       "                        <td style=\"text-align: left;\">\n",
       "                            <strong>Total threads: </strong> 1\n",
       "                        </td>\n",
       "                    </tr>\n",
       "                    <tr>\n",
       "                        <td style=\"text-align: left;\">\n",
       "                            <strong>Dashboard: </strong> <a href=\"/proxy/46005/status\" target=\"_blank\">/proxy/46005/status</a>\n",
       "                        </td>\n",
       "                        <td style=\"text-align: left;\">\n",
       "                            <strong>Memory: </strong> 58.67 GiB\n",
       "                        </td>\n",
       "                    </tr>\n",
       "                    <tr>\n",
       "                        <td style=\"text-align: left;\">\n",
       "                            <strong>Nanny: </strong> tcp://127.0.0.1:42103\n",
       "                        </td>\n",
       "                        <td style=\"text-align: left;\"></td>\n",
       "                    </tr>\n",
       "                    <tr>\n",
       "                        <td colspan=\"2\" style=\"text-align: left;\">\n",
       "                            <strong>Local directory: </strong> /jobfs/137642206.gadi-pbs/tmpd8q_v8y6/dask-scratch-space/worker-agga4eo3\n",
       "                        </td>\n",
       "                    </tr>\n",
       "\n",
       "                    \n",
       "\n",
       "                    \n",
       "\n",
       "                </table>\n",
       "            </details>\n",
       "            </div>\n",
       "        </div>\n",
       "        \n",
       "        <div style=\"margin-bottom: 20px;\">\n",
       "            <div style=\"width: 24px; height: 24px; background-color: #DBF5FF; border: 3px solid #4CC9FF; border-radius: 5px; position: absolute;\"> </div>\n",
       "            <div style=\"margin-left: 48px;\">\n",
       "            <details>\n",
       "                <summary>\n",
       "                    <h4 style=\"margin-bottom: 0px; display: inline;\">Worker: 1</h4>\n",
       "                </summary>\n",
       "                <table style=\"width: 100%; text-align: left;\">\n",
       "                    <tr>\n",
       "                        <td style=\"text-align: left;\">\n",
       "                            <strong>Comm: </strong> tcp://127.0.0.1:39943\n",
       "                        </td>\n",
       "                        <td style=\"text-align: left;\">\n",
       "                            <strong>Total threads: </strong> 1\n",
       "                        </td>\n",
       "                    </tr>\n",
       "                    <tr>\n",
       "                        <td style=\"text-align: left;\">\n",
       "                            <strong>Dashboard: </strong> <a href=\"/proxy/33495/status\" target=\"_blank\">/proxy/33495/status</a>\n",
       "                        </td>\n",
       "                        <td style=\"text-align: left;\">\n",
       "                            <strong>Memory: </strong> 58.67 GiB\n",
       "                        </td>\n",
       "                    </tr>\n",
       "                    <tr>\n",
       "                        <td style=\"text-align: left;\">\n",
       "                            <strong>Nanny: </strong> tcp://127.0.0.1:36963\n",
       "                        </td>\n",
       "                        <td style=\"text-align: left;\"></td>\n",
       "                    </tr>\n",
       "                    <tr>\n",
       "                        <td colspan=\"2\" style=\"text-align: left;\">\n",
       "                            <strong>Local directory: </strong> /jobfs/137642206.gadi-pbs/tmpd8q_v8y6/dask-scratch-space/worker-z5nnk6ve\n",
       "                        </td>\n",
       "                    </tr>\n",
       "\n",
       "                    \n",
       "\n",
       "                    \n",
       "\n",
       "                </table>\n",
       "            </details>\n",
       "            </div>\n",
       "        </div>\n",
       "        \n",
       "        <div style=\"margin-bottom: 20px;\">\n",
       "            <div style=\"width: 24px; height: 24px; background-color: #DBF5FF; border: 3px solid #4CC9FF; border-radius: 5px; position: absolute;\"> </div>\n",
       "            <div style=\"margin-left: 48px;\">\n",
       "            <details>\n",
       "                <summary>\n",
       "                    <h4 style=\"margin-bottom: 0px; display: inline;\">Worker: 2</h4>\n",
       "                </summary>\n",
       "                <table style=\"width: 100%; text-align: left;\">\n",
       "                    <tr>\n",
       "                        <td style=\"text-align: left;\">\n",
       "                            <strong>Comm: </strong> tcp://127.0.0.1:45055\n",
       "                        </td>\n",
       "                        <td style=\"text-align: left;\">\n",
       "                            <strong>Total threads: </strong> 1\n",
       "                        </td>\n",
       "                    </tr>\n",
       "                    <tr>\n",
       "                        <td style=\"text-align: left;\">\n",
       "                            <strong>Dashboard: </strong> <a href=\"/proxy/34371/status\" target=\"_blank\">/proxy/34371/status</a>\n",
       "                        </td>\n",
       "                        <td style=\"text-align: left;\">\n",
       "                            <strong>Memory: </strong> 58.67 GiB\n",
       "                        </td>\n",
       "                    </tr>\n",
       "                    <tr>\n",
       "                        <td style=\"text-align: left;\">\n",
       "                            <strong>Nanny: </strong> tcp://127.0.0.1:34241\n",
       "                        </td>\n",
       "                        <td style=\"text-align: left;\"></td>\n",
       "                    </tr>\n",
       "                    <tr>\n",
       "                        <td colspan=\"2\" style=\"text-align: left;\">\n",
       "                            <strong>Local directory: </strong> /jobfs/137642206.gadi-pbs/tmpd8q_v8y6/dask-scratch-space/worker-dvvlw3m5\n",
       "                        </td>\n",
       "                    </tr>\n",
       "\n",
       "                    \n",
       "\n",
       "                    \n",
       "\n",
       "                </table>\n",
       "            </details>\n",
       "            </div>\n",
       "        </div>\n",
       "        \n",
       "        <div style=\"margin-bottom: 20px;\">\n",
       "            <div style=\"width: 24px; height: 24px; background-color: #DBF5FF; border: 3px solid #4CC9FF; border-radius: 5px; position: absolute;\"> </div>\n",
       "            <div style=\"margin-left: 48px;\">\n",
       "            <details>\n",
       "                <summary>\n",
       "                    <h4 style=\"margin-bottom: 0px; display: inline;\">Worker: 3</h4>\n",
       "                </summary>\n",
       "                <table style=\"width: 100%; text-align: left;\">\n",
       "                    <tr>\n",
       "                        <td style=\"text-align: left;\">\n",
       "                            <strong>Comm: </strong> tcp://127.0.0.1:33033\n",
       "                        </td>\n",
       "                        <td style=\"text-align: left;\">\n",
       "                            <strong>Total threads: </strong> 1\n",
       "                        </td>\n",
       "                    </tr>\n",
       "                    <tr>\n",
       "                        <td style=\"text-align: left;\">\n",
       "                            <strong>Dashboard: </strong> <a href=\"/proxy/37525/status\" target=\"_blank\">/proxy/37525/status</a>\n",
       "                        </td>\n",
       "                        <td style=\"text-align: left;\">\n",
       "                            <strong>Memory: </strong> 58.67 GiB\n",
       "                        </td>\n",
       "                    </tr>\n",
       "                    <tr>\n",
       "                        <td style=\"text-align: left;\">\n",
       "                            <strong>Nanny: </strong> tcp://127.0.0.1:41099\n",
       "                        </td>\n",
       "                        <td style=\"text-align: left;\"></td>\n",
       "                    </tr>\n",
       "                    <tr>\n",
       "                        <td colspan=\"2\" style=\"text-align: left;\">\n",
       "                            <strong>Local directory: </strong> /jobfs/137642206.gadi-pbs/tmpd8q_v8y6/dask-scratch-space/worker-11phcz73\n",
       "                        </td>\n",
       "                    </tr>\n",
       "\n",
       "                    \n",
       "\n",
       "                    \n",
       "\n",
       "                </table>\n",
       "            </details>\n",
       "            </div>\n",
       "        </div>\n",
       "        \n",
       "        <div style=\"margin-bottom: 20px;\">\n",
       "            <div style=\"width: 24px; height: 24px; background-color: #DBF5FF; border: 3px solid #4CC9FF; border-radius: 5px; position: absolute;\"> </div>\n",
       "            <div style=\"margin-left: 48px;\">\n",
       "            <details>\n",
       "                <summary>\n",
       "                    <h4 style=\"margin-bottom: 0px; display: inline;\">Worker: 4</h4>\n",
       "                </summary>\n",
       "                <table style=\"width: 100%; text-align: left;\">\n",
       "                    <tr>\n",
       "                        <td style=\"text-align: left;\">\n",
       "                            <strong>Comm: </strong> tcp://127.0.0.1:43165\n",
       "                        </td>\n",
       "                        <td style=\"text-align: left;\">\n",
       "                            <strong>Total threads: </strong> 1\n",
       "                        </td>\n",
       "                    </tr>\n",
       "                    <tr>\n",
       "                        <td style=\"text-align: left;\">\n",
       "                            <strong>Dashboard: </strong> <a href=\"/proxy/36535/status\" target=\"_blank\">/proxy/36535/status</a>\n",
       "                        </td>\n",
       "                        <td style=\"text-align: left;\">\n",
       "                            <strong>Memory: </strong> 58.67 GiB\n",
       "                        </td>\n",
       "                    </tr>\n",
       "                    <tr>\n",
       "                        <td style=\"text-align: left;\">\n",
       "                            <strong>Nanny: </strong> tcp://127.0.0.1:45121\n",
       "                        </td>\n",
       "                        <td style=\"text-align: left;\"></td>\n",
       "                    </tr>\n",
       "                    <tr>\n",
       "                        <td colspan=\"2\" style=\"text-align: left;\">\n",
       "                            <strong>Local directory: </strong> /jobfs/137642206.gadi-pbs/tmpd8q_v8y6/dask-scratch-space/worker-v6hrlvuq\n",
       "                        </td>\n",
       "                    </tr>\n",
       "\n",
       "                    \n",
       "\n",
       "                    \n",
       "\n",
       "                </table>\n",
       "            </details>\n",
       "            </div>\n",
       "        </div>\n",
       "        \n",
       "        <div style=\"margin-bottom: 20px;\">\n",
       "            <div style=\"width: 24px; height: 24px; background-color: #DBF5FF; border: 3px solid #4CC9FF; border-radius: 5px; position: absolute;\"> </div>\n",
       "            <div style=\"margin-left: 48px;\">\n",
       "            <details>\n",
       "                <summary>\n",
       "                    <h4 style=\"margin-bottom: 0px; display: inline;\">Worker: 5</h4>\n",
       "                </summary>\n",
       "                <table style=\"width: 100%; text-align: left;\">\n",
       "                    <tr>\n",
       "                        <td style=\"text-align: left;\">\n",
       "                            <strong>Comm: </strong> tcp://127.0.0.1:35853\n",
       "                        </td>\n",
       "                        <td style=\"text-align: left;\">\n",
       "                            <strong>Total threads: </strong> 1\n",
       "                        </td>\n",
       "                    </tr>\n",
       "                    <tr>\n",
       "                        <td style=\"text-align: left;\">\n",
       "                            <strong>Dashboard: </strong> <a href=\"/proxy/33327/status\" target=\"_blank\">/proxy/33327/status</a>\n",
       "                        </td>\n",
       "                        <td style=\"text-align: left;\">\n",
       "                            <strong>Memory: </strong> 58.67 GiB\n",
       "                        </td>\n",
       "                    </tr>\n",
       "                    <tr>\n",
       "                        <td style=\"text-align: left;\">\n",
       "                            <strong>Nanny: </strong> tcp://127.0.0.1:34561\n",
       "                        </td>\n",
       "                        <td style=\"text-align: left;\"></td>\n",
       "                    </tr>\n",
       "                    <tr>\n",
       "                        <td colspan=\"2\" style=\"text-align: left;\">\n",
       "                            <strong>Local directory: </strong> /jobfs/137642206.gadi-pbs/tmpd8q_v8y6/dask-scratch-space/worker-epux3xv2\n",
       "                        </td>\n",
       "                    </tr>\n",
       "\n",
       "                    \n",
       "\n",
       "                    \n",
       "\n",
       "                </table>\n",
       "            </details>\n",
       "            </div>\n",
       "        </div>\n",
       "        \n",
       "        <div style=\"margin-bottom: 20px;\">\n",
       "            <div style=\"width: 24px; height: 24px; background-color: #DBF5FF; border: 3px solid #4CC9FF; border-radius: 5px; position: absolute;\"> </div>\n",
       "            <div style=\"margin-left: 48px;\">\n",
       "            <details>\n",
       "                <summary>\n",
       "                    <h4 style=\"margin-bottom: 0px; display: inline;\">Worker: 6</h4>\n",
       "                </summary>\n",
       "                <table style=\"width: 100%; text-align: left;\">\n",
       "                    <tr>\n",
       "                        <td style=\"text-align: left;\">\n",
       "                            <strong>Comm: </strong> tcp://127.0.0.1:37489\n",
       "                        </td>\n",
       "                        <td style=\"text-align: left;\">\n",
       "                            <strong>Total threads: </strong> 1\n",
       "                        </td>\n",
       "                    </tr>\n",
       "                    <tr>\n",
       "                        <td style=\"text-align: left;\">\n",
       "                            <strong>Dashboard: </strong> <a href=\"/proxy/43819/status\" target=\"_blank\">/proxy/43819/status</a>\n",
       "                        </td>\n",
       "                        <td style=\"text-align: left;\">\n",
       "                            <strong>Memory: </strong> 58.67 GiB\n",
       "                        </td>\n",
       "                    </tr>\n",
       "                    <tr>\n",
       "                        <td style=\"text-align: left;\">\n",
       "                            <strong>Nanny: </strong> tcp://127.0.0.1:44285\n",
       "                        </td>\n",
       "                        <td style=\"text-align: left;\"></td>\n",
       "                    </tr>\n",
       "                    <tr>\n",
       "                        <td colspan=\"2\" style=\"text-align: left;\">\n",
       "                            <strong>Local directory: </strong> /jobfs/137642206.gadi-pbs/tmpd8q_v8y6/dask-scratch-space/worker-h55qk2q6\n",
       "                        </td>\n",
       "                    </tr>\n",
       "\n",
       "                    \n",
       "\n",
       "                    \n",
       "\n",
       "                </table>\n",
       "            </details>\n",
       "            </div>\n",
       "        </div>\n",
       "        \n",
       "        <div style=\"margin-bottom: 20px;\">\n",
       "            <div style=\"width: 24px; height: 24px; background-color: #DBF5FF; border: 3px solid #4CC9FF; border-radius: 5px; position: absolute;\"> </div>\n",
       "            <div style=\"margin-left: 48px;\">\n",
       "            <details>\n",
       "                <summary>\n",
       "                    <h4 style=\"margin-bottom: 0px; display: inline;\">Worker: 7</h4>\n",
       "                </summary>\n",
       "                <table style=\"width: 100%; text-align: left;\">\n",
       "                    <tr>\n",
       "                        <td style=\"text-align: left;\">\n",
       "                            <strong>Comm: </strong> tcp://127.0.0.1:42585\n",
       "                        </td>\n",
       "                        <td style=\"text-align: left;\">\n",
       "                            <strong>Total threads: </strong> 1\n",
       "                        </td>\n",
       "                    </tr>\n",
       "                    <tr>\n",
       "                        <td style=\"text-align: left;\">\n",
       "                            <strong>Dashboard: </strong> <a href=\"/proxy/46335/status\" target=\"_blank\">/proxy/46335/status</a>\n",
       "                        </td>\n",
       "                        <td style=\"text-align: left;\">\n",
       "                            <strong>Memory: </strong> 58.67 GiB\n",
       "                        </td>\n",
       "                    </tr>\n",
       "                    <tr>\n",
       "                        <td style=\"text-align: left;\">\n",
       "                            <strong>Nanny: </strong> tcp://127.0.0.1:38631\n",
       "                        </td>\n",
       "                        <td style=\"text-align: left;\"></td>\n",
       "                    </tr>\n",
       "                    <tr>\n",
       "                        <td colspan=\"2\" style=\"text-align: left;\">\n",
       "                            <strong>Local directory: </strong> /jobfs/137642206.gadi-pbs/tmpd8q_v8y6/dask-scratch-space/worker-1h1waa7m\n",
       "                        </td>\n",
       "                    </tr>\n",
       "\n",
       "                    \n",
       "\n",
       "                    \n",
       "\n",
       "                </table>\n",
       "            </details>\n",
       "            </div>\n",
       "        </div>\n",
       "        \n",
       "        <div style=\"margin-bottom: 20px;\">\n",
       "            <div style=\"width: 24px; height: 24px; background-color: #DBF5FF; border: 3px solid #4CC9FF; border-radius: 5px; position: absolute;\"> </div>\n",
       "            <div style=\"margin-left: 48px;\">\n",
       "            <details>\n",
       "                <summary>\n",
       "                    <h4 style=\"margin-bottom: 0px; display: inline;\">Worker: 8</h4>\n",
       "                </summary>\n",
       "                <table style=\"width: 100%; text-align: left;\">\n",
       "                    <tr>\n",
       "                        <td style=\"text-align: left;\">\n",
       "                            <strong>Comm: </strong> tcp://127.0.0.1:44023\n",
       "                        </td>\n",
       "                        <td style=\"text-align: left;\">\n",
       "                            <strong>Total threads: </strong> 1\n",
       "                        </td>\n",
       "                    </tr>\n",
       "                    <tr>\n",
       "                        <td style=\"text-align: left;\">\n",
       "                            <strong>Dashboard: </strong> <a href=\"/proxy/38739/status\" target=\"_blank\">/proxy/38739/status</a>\n",
       "                        </td>\n",
       "                        <td style=\"text-align: left;\">\n",
       "                            <strong>Memory: </strong> 58.67 GiB\n",
       "                        </td>\n",
       "                    </tr>\n",
       "                    <tr>\n",
       "                        <td style=\"text-align: left;\">\n",
       "                            <strong>Nanny: </strong> tcp://127.0.0.1:36501\n",
       "                        </td>\n",
       "                        <td style=\"text-align: left;\"></td>\n",
       "                    </tr>\n",
       "                    <tr>\n",
       "                        <td colspan=\"2\" style=\"text-align: left;\">\n",
       "                            <strong>Local directory: </strong> /jobfs/137642206.gadi-pbs/tmpd8q_v8y6/dask-scratch-space/worker-zcoqthrt\n",
       "                        </td>\n",
       "                    </tr>\n",
       "\n",
       "                    \n",
       "\n",
       "                    \n",
       "\n",
       "                </table>\n",
       "            </details>\n",
       "            </div>\n",
       "        </div>\n",
       "        \n",
       "        <div style=\"margin-bottom: 20px;\">\n",
       "            <div style=\"width: 24px; height: 24px; background-color: #DBF5FF; border: 3px solid #4CC9FF; border-radius: 5px; position: absolute;\"> </div>\n",
       "            <div style=\"margin-left: 48px;\">\n",
       "            <details>\n",
       "                <summary>\n",
       "                    <h4 style=\"margin-bottom: 0px; display: inline;\">Worker: 9</h4>\n",
       "                </summary>\n",
       "                <table style=\"width: 100%; text-align: left;\">\n",
       "                    <tr>\n",
       "                        <td style=\"text-align: left;\">\n",
       "                            <strong>Comm: </strong> tcp://127.0.0.1:34543\n",
       "                        </td>\n",
       "                        <td style=\"text-align: left;\">\n",
       "                            <strong>Total threads: </strong> 1\n",
       "                        </td>\n",
       "                    </tr>\n",
       "                    <tr>\n",
       "                        <td style=\"text-align: left;\">\n",
       "                            <strong>Dashboard: </strong> <a href=\"/proxy/34579/status\" target=\"_blank\">/proxy/34579/status</a>\n",
       "                        </td>\n",
       "                        <td style=\"text-align: left;\">\n",
       "                            <strong>Memory: </strong> 58.67 GiB\n",
       "                        </td>\n",
       "                    </tr>\n",
       "                    <tr>\n",
       "                        <td style=\"text-align: left;\">\n",
       "                            <strong>Nanny: </strong> tcp://127.0.0.1:45691\n",
       "                        </td>\n",
       "                        <td style=\"text-align: left;\"></td>\n",
       "                    </tr>\n",
       "                    <tr>\n",
       "                        <td colspan=\"2\" style=\"text-align: left;\">\n",
       "                            <strong>Local directory: </strong> /jobfs/137642206.gadi-pbs/tmpd8q_v8y6/dask-scratch-space/worker-nwrcydx8\n",
       "                        </td>\n",
       "                    </tr>\n",
       "\n",
       "                    \n",
       "\n",
       "                    \n",
       "\n",
       "                </table>\n",
       "            </details>\n",
       "            </div>\n",
       "        </div>\n",
       "        \n",
       "\n",
       "    </details>\n",
       "</div>\n",
       "\n",
       "        </details>\n",
       "    </div>\n",
       "</div>\n",
       "            </details>\n",
       "        \n",
       "\n",
       "    </div>\n",
       "</div>"
      ],
      "text/plain": [
       "<Client: 'tcp://127.0.0.1:40861' processes=10 threads=10, memory=586.73 GiB>"
      ]
     },
     "execution_count": 4,
     "metadata": {},
     "output_type": "execute_result"
    }
   ],
   "source": [
    "import dask\n",
    "import tempfile\n",
    "from dask.diagnostics import ProgressBar\n",
    "from dask.distributed import Client, LocalCluster\n",
    "\n",
    "dask.config.set({\n",
    "    'array.chunk-size': \"256 MiB\",\n",
    "    'array.slicing.split_large_chunks': True, #This can make AXIOM very slow\n",
    "    'distributed.comm.timeouts.connect': '120s',\n",
    "    'distributed.comm.timeouts.tcp': '120s',\n",
    "    'distributed.comm.retry.count': 10,\n",
    "    'distributed.scheduler.allowed-failures': 20,\n",
    "    \"distributed.scheduler.worker-saturation\": 1.1, #This should use the new behaviour which helps with memory pile up\n",
    "})\n",
    "\n",
    "# client = dask.distributed.Client()\n",
    "client = Client(n_workers=10, threads_per_worker=1, local_directory = tempfile.mkdtemp(), memory_limit = \"63000mb\")\n",
    "client"
   ]
  },
  {
   "cell_type": "markdown",
   "id": "016ce5d3-a5a7-41c8-8174-3dc9ac759ef9",
   "metadata": {
    "jp-MarkdownHeadingCollapsed": true
   },
   "source": [
    "### Step 1 -> Extract daily T, q, Rd, U10 and convert to 7-day running means "
   ]
  },
  {
   "cell_type": "markdown",
   "id": "820560c3-f144-44e2-936b-a635615c87af",
   "metadata": {},
   "source": [
    "Hourly MERRA2 files are very large - extract only relevant variables for domain of interest with dask and write locally (only need to do this step once)<br>\n",
    "<sub>Need to write locally as working with dask arrays using .compute crashes the session and takes a long time</sub>"
   ]
  },
  {
   "cell_type": "code",
   "execution_count": 5,
   "id": "edbf7722-fa75-4bc3-992c-1eaa87cc99f2",
   "metadata": {
    "execution": {
     "iopub.execute_input": "2025-02-27T00:16:54.442081Z",
     "iopub.status.busy": "2025-02-27T00:16:54.441803Z",
     "iopub.status.idle": "2025-02-27T02:31:56.243853Z",
     "shell.execute_reply": "2025-02-27T02:31:56.213131Z",
     "shell.execute_reply.started": "2025-02-27T00:16:54.442053Z"
    }
   },
   "outputs": [
    {
     "name": "stdout",
     "output_type": "stream",
     "text": [
      "CPU times: user 1h 33min 55s, sys: 6min 2s, total: 1h 39min 58s\n",
      "Wall time: 2h 15min 1s\n"
     ]
    },
    {
     "data": {
      "text/plain": [
       "15373"
      ]
     },
     "execution_count": 5,
     "metadata": {},
     "output_type": "execute_result"
    }
   ],
   "source": [
    "%%time\n",
    "#load in 2m air temperature (K), 2m eastward wind speed (m/s), 2m specific humidity (kg/kg) and aggregate to daily timescale\n",
    "T2M_U2M_QV2M_files = []\n",
    "for year in range(1980,2023):\n",
    "    for month in range(1,13):\n",
    "        T2M_U2M_QV2M_files.extend(sorted(glob.glob(f\"{MERRA2_T2M_U2M_QV2M_dir}/{year}/{str(month).zfill(2)}/*.nc4\")))\n",
    "\n",
    "def preprocess_T2M_U2M_QV2M(ds): #preprocess function to save memory and time\n",
    "    logging.getLogger('flox').setLevel(logging.WARNING)\n",
    "    return ds[['T2M', 'U2M', 'QV2M']].resample(time='1D').mean().sel(lat=slice(-45,-1), lon=slice(100,180))\n",
    "\n",
    "T2M_U2M_QV2M_cube = xr.open_mfdataset(T2M_U2M_QV2M_files,combine='nested', concat_dim='time',parallel=True, preprocess=preprocess_T2M_U2M_QV2M, engine='netcdf4').chunk({'time':-1, 'lat':'auto', 'lon':'auto'})\n",
    "\n",
    "#write to netcdf and clear up local memory, ok to store locally only takes ~1.5gb\n",
    "T2M_U2M_QV2M_cube.to_netcdf('/g/data/mn51/users/jb6465/MERRA2_daily_T2M_U2M_QV2M.nc', encoding={'T2M': {'zlib': True, 'complevel': 5, 'dtype':'float32'}, 'U2M': {'zlib': True, 'complevel': 5, 'dtype':'float32'}, 'QV2M': {'zlib': True, 'complevel': 5, 'dtype':'float32'}})\n",
    "del T2M_U2M_QV2M_cube\n",
    "gc.collect()"
   ]
  },
  {
   "cell_type": "code",
   "execution_count": 6,
   "id": "2c7b7f26-63d7-4b16-9017-4f2e9efea96c",
   "metadata": {
    "execution": {
     "iopub.execute_input": "2025-02-27T02:31:56.345975Z",
     "iopub.status.busy": "2025-02-27T02:31:56.339961Z",
     "iopub.status.idle": "2025-02-27T03:18:29.957169Z",
     "shell.execute_reply": "2025-02-27T03:18:29.955842Z",
     "shell.execute_reply.started": "2025-02-27T02:31:56.345920Z"
    }
   },
   "outputs": [
    {
     "name": "stdout",
     "output_type": "stream",
     "text": [
      "CPU times: user 34min 1s, sys: 1min 54s, total: 35min 56s\n",
      "Wall time: 46min 33s\n"
     ]
    },
    {
     "data": {
      "text/plain": [
       "13735"
      ]
     },
     "execution_count": 6,
     "metadata": {},
     "output_type": "execute_result"
    }
   ],
   "source": [
    "%%time\n",
    "#load in incoming surface solar radiation (W/m2) and aggregate to daily timescale\n",
    "SWGDN_files = []\n",
    "for year in range(1980,2023):\n",
    "    for month in range(1,13):\n",
    "        SWGDN_files.extend(sorted(glob.glob(f\"{MERRA2_SWGDN_dir}/{year}/{str(month).zfill(2)}/*.nc4\")))\n",
    "\n",
    "def preprocess_SWdn(ds): #preprocess function to save memory and time\n",
    "    logging.getLogger('flox').setLevel(logging.WARNING)\n",
    "    return ds['SWGDN'].resample(time='1D').mean().sel(lat=slice(-45,-1), lon=slice(100,180))\n",
    "\n",
    "SWGDN_cube = xr.open_mfdataset(SWGDN_files,combine='nested', concat_dim='time',parallel=True, preprocess=preprocess_SWdn, engine='netcdf4').chunk({'time':-1, 'lat':'auto', 'lon':'auto'})\n",
    "\n",
    "#write to netcdf and clear up local memory, ok to store locally only takes ~500mb\n",
    "SWGDN_cube.to_netcdf('/g/data/mn51/users/jb6465/MERRA2_daily_SWGDN.nc', encoding={'SWGDN': {'zlib': True, 'complevel': 5, 'dtype':'float32'}})\n",
    "del SWGDN_cube\n",
    "gc.collect()"
   ]
  },
  {
   "cell_type": "markdown",
   "id": "76561e92-e89b-45c1-b35c-27ca137628bb",
   "metadata": {},
   "source": [
    "<br> "
   ]
  },
  {
   "cell_type": "markdown",
   "id": "b8f3816a-b71d-41cd-a147-21960cf29031",
   "metadata": {},
   "source": [
    "### Step 2 -> Calculate daily reference ET and convert to 7-day running means"
   ]
  },
  {
   "cell_type": "markdown",
   "id": "3eb35c26-b778-4510-b116-cd6846f03df9",
   "metadata": {},
   "source": [
    "<br>Inputs"
   ]
  },
  {
   "cell_type": "code",
   "execution_count": 3,
   "id": "b5ea58e6-3be9-425e-9e58-0ff205d2c158",
   "metadata": {
    "execution": {
     "iopub.execute_input": "2025-03-27T05:36:23.644620Z",
     "iopub.status.busy": "2025-03-27T05:36:23.644400Z",
     "iopub.status.idle": "2025-03-27T05:36:39.866384Z",
     "shell.execute_reply": "2025-03-27T05:36:39.865296Z",
     "shell.execute_reply.started": "2025-03-27T05:36:23.644598Z"
    }
   },
   "outputs": [],
   "source": [
    "T2M_U2M_QV2M_cube = xr.open_dataset('/g/data/mn51/users/jb6465/MERRA2_daily_T2M_U2M_QV2M.nc')\n",
    "SWGDN_cube = xr.open_dataset('/g/data/mn51/users/jb6465/MERRA2_daily_SWGDN.nc')\n",
    "\n",
    "T2M = T2M_U2M_QV2M_cube['T2M'] #2-m daily mean air temperature [K]\n",
    "U2M = np.abs(T2M_U2M_QV2M_cube['U2M']) #2-m eastward wind speed [m/s]\n",
    "QV2M = T2M_U2M_QV2M_cube['QV2M'] #2-m specific humidity [kg/kg]\n",
    "SWGDN = SWGDN_cube['SWGDN'] #surface downware shortwave radiation flux [W/m2]"
   ]
  },
  {
   "cell_type": "markdown",
   "id": "2e04ff6c-82c7-4d63-aad5-95eaf4387cf9",
   "metadata": {},
   "source": [
    "<br>Elevation - following approach from Mike's [MERRA2 paper code](https://www.sciencebase.gov/catalog/item/6515cb7ad34e469cabfcdccd), elev file not stored on gadi so downloaded locally from NASA earthdata"
   ]
  },
  {
   "cell_type": "code",
   "execution_count": 4,
   "id": "4d75e3c4-f4a7-430a-bd87-decdd384b7a2",
   "metadata": {
    "execution": {
     "iopub.execute_input": "2025-03-27T05:36:39.869891Z",
     "iopub.status.busy": "2025-03-27T05:36:39.868732Z",
     "iopub.status.idle": "2025-03-27T05:36:39.900045Z",
     "shell.execute_reply": "2025-03-27T05:36:39.899262Z",
     "shell.execute_reply.started": "2025-03-27T05:36:39.869835Z"
    }
   },
   "outputs": [],
   "source": [
    "elevfile = xr.open_dataset('/g/data/mn51/users/jb6465/MERRA2_101.const_2d_asm_Nx.nc4')\n",
    "\n",
    "geopot = elevfile['PHIS'].sel(lat=slice(-45,-1), lon=slice(100,180))[0]\n",
    "elev = geopot/9.81 #divide by 9.81m2/s to get elevation [m]"
   ]
  },
  {
   "cell_type": "markdown",
   "id": "e0786e02-d5ea-4bd8-a743-ff274a514fd7",
   "metadata": {},
   "source": [
    "<br>Switch for short crop (0.12m grass) or tall crop (0.50m alfafa)"
   ]
  },
  {
   "cell_type": "code",
   "execution_count": 5,
   "id": "939a52fd-ec0d-4bf1-b04f-27eae955f867",
   "metadata": {
    "execution": {
     "iopub.execute_input": "2025-03-27T05:36:39.901048Z",
     "iopub.status.busy": "2025-03-27T05:36:39.900834Z",
     "iopub.status.idle": "2025-03-27T05:36:39.905121Z",
     "shell.execute_reply": "2025-03-27T05:36:39.904174Z",
     "shell.execute_reply.started": "2025-03-27T05:36:39.901027Z"
    }
   },
   "outputs": [],
   "source": [
    "short_tall_crop_switch = 'short' #short (0.12m grass) or tall (0.50m alfafa)"
   ]
  },
  {
   "cell_type": "markdown",
   "id": "cb66e9eb-2001-4706-9444-5b1111e003e1",
   "metadata": {
    "execution": {
     "iopub.execute_input": "2025-03-16T23:46:20.494516Z",
     "iopub.status.busy": "2025-03-16T23:46:20.493438Z",
     "iopub.status.idle": "2025-03-16T23:46:20.508121Z",
     "shell.execute_reply": "2025-03-16T23:46:20.506030Z",
     "shell.execute_reply.started": "2025-03-16T23:46:20.494433Z"
    }
   },
   "source": [
    "### Ref ET using [FAO56](https://github.com/jb6465/flash-drought/blob/main/relevant_studies/FAO56.pdf) units"
   ]
  },
  {
   "cell_type": "markdown",
   "id": "30e35a85-64f3-4c04-b2fe-c5fa995da721",
   "metadata": {},
   "source": [
    "<br>Constants"
   ]
  },
  {
   "cell_type": "code",
   "execution_count": 6,
   "id": "cf8da519-4a13-46ba-83b2-3c0080fde91d",
   "metadata": {
    "execution": {
     "iopub.execute_input": "2025-03-27T05:36:39.906838Z",
     "iopub.status.busy": "2025-03-27T05:36:39.906610Z",
     "iopub.status.idle": "2025-03-27T05:36:39.921694Z",
     "shell.execute_reply": "2025-03-27T05:36:39.920974Z",
     "shell.execute_reply.started": "2025-03-27T05:36:39.906816Z"
    }
   },
   "outputs": [],
   "source": [
    "# Cn: numerator crop constant [K.mm.s3/(kg.day)]\n",
    "Cn = 1600 if short_tall_crop_switch == 'tall' else 900 "
   ]
  },
  {
   "cell_type": "code",
   "execution_count": 7,
   "id": "b15ea76b-a499-47d8-99fc-8e4e943374bb",
   "metadata": {
    "execution": {
     "iopub.execute_input": "2025-03-27T05:36:39.922591Z",
     "iopub.status.busy": "2025-03-27T05:36:39.922379Z",
     "iopub.status.idle": "2025-03-27T05:36:39.949970Z",
     "shell.execute_reply": "2025-03-27T05:36:39.948880Z",
     "shell.execute_reply.started": "2025-03-27T05:36:39.922569Z"
    }
   },
   "outputs": [],
   "source": [
    "# Cd: denominator crop constant [s/m]\n",
    "Cd = 0.38 if short_tall_crop_switch == 'tall' else 0.34"
   ]
  },
  {
   "cell_type": "code",
   "execution_count": 8,
   "id": "867e3833-c306-4a5d-b658-1e0c47d298cf",
   "metadata": {
    "execution": {
     "iopub.execute_input": "2025-03-27T05:36:39.951739Z",
     "iopub.status.busy": "2025-03-27T05:36:39.951305Z",
     "iopub.status.idle": "2025-03-27T05:36:39.971814Z",
     "shell.execute_reply": "2025-03-27T05:36:39.970549Z",
     "shell.execute_reply.started": "2025-03-27T05:36:39.951692Z"
    }
   },
   "outputs": [],
   "source": [
    "# Gsc: solar constant [J/(m2.hr)]\n",
    "Gsc = 4.92e6"
   ]
  },
  {
   "cell_type": "code",
   "execution_count": 9,
   "id": "4219d954-e95c-4a27-b37b-0d6754da0c56",
   "metadata": {
    "execution": {
     "iopub.execute_input": "2025-03-27T05:36:39.973511Z",
     "iopub.status.busy": "2025-03-27T05:36:39.973008Z",
     "iopub.status.idle": "2025-03-27T05:36:39.999006Z",
     "shell.execute_reply": "2025-03-27T05:36:39.997951Z",
     "shell.execute_reply.started": "2025-03-27T05:36:39.973470Z"
    }
   },
   "outputs": [],
   "source": [
    "# sigma: Stefan-Boltzmann constant [J/(K4.m2.day)]\n",
    "sigma = 4.901e-3"
   ]
  },
  {
   "cell_type": "code",
   "execution_count": 10,
   "id": "49e5cc7c-7f0b-49a4-b275-4482dbb27205",
   "metadata": {
    "execution": {
     "iopub.execute_input": "2025-03-27T05:36:40.000683Z",
     "iopub.status.busy": "2025-03-27T05:36:40.000290Z",
     "iopub.status.idle": "2025-03-27T05:36:40.022008Z",
     "shell.execute_reply": "2025-03-27T05:36:40.020893Z",
     "shell.execute_reply.started": "2025-03-27T05:36:40.000640Z"
    }
   },
   "outputs": [],
   "source": [
    "# albedo [unitless]\n",
    "albedo = 0.23"
   ]
  },
  {
   "cell_type": "markdown",
   "id": "a4da3e4f-3609-4259-b1fa-4fd5e5715a8b",
   "metadata": {},
   "source": [
    "<br>Input variables"
   ]
  },
  {
   "cell_type": "code",
   "execution_count": 11,
   "id": "25c6a461-bf5d-4eed-b61d-e40fcc20476e",
   "metadata": {
    "execution": {
     "iopub.execute_input": "2025-03-27T05:36:40.023812Z",
     "iopub.status.busy": "2025-03-27T05:36:40.023427Z",
     "iopub.status.idle": "2025-03-27T05:36:44.973727Z",
     "shell.execute_reply": "2025-03-27T05:36:44.972716Z",
     "shell.execute_reply.started": "2025-03-27T05:36:40.023772Z"
    }
   },
   "outputs": [],
   "source": [
    "# Rs: downwelling short wave radiation [J/(m2.day)]\n",
    "Rs = (SWGDN * 86400)"
   ]
  },
  {
   "cell_type": "code",
   "execution_count": 12,
   "id": "a6836398-e72e-4d92-8e38-5d124e2920dc",
   "metadata": {
    "execution": {
     "iopub.execute_input": "2025-03-27T05:36:44.976619Z",
     "iopub.status.busy": "2025-03-27T05:36:44.976377Z",
     "iopub.status.idle": "2025-03-27T05:36:48.626793Z",
     "shell.execute_reply": "2025-03-27T05:36:48.625738Z",
     "shell.execute_reply.started": "2025-03-27T05:36:44.976596Z"
    }
   },
   "outputs": [],
   "source": [
    "# T: daily mean temperature [°C]\n",
    "T = T2M-273.15"
   ]
  },
  {
   "cell_type": "code",
   "execution_count": 13,
   "id": "9f7f21c8-b789-4058-ae69-5cb05ad3d491",
   "metadata": {
    "execution": {
     "iopub.execute_input": "2025-03-27T05:36:48.628053Z",
     "iopub.status.busy": "2025-03-27T05:36:48.627810Z",
     "iopub.status.idle": "2025-03-27T05:36:48.632924Z",
     "shell.execute_reply": "2025-03-27T05:36:48.632027Z",
     "shell.execute_reply.started": "2025-03-27T05:36:48.628030Z"
    }
   },
   "outputs": [],
   "source": [
    "# Patm: surface pressure [Pa] = f(elev[m])                                                [FAO56 Eq. 7]\n",
    "Patm = 101300 * ((293. - 0.0065 * elev) / 293.)**5.26"
   ]
  },
  {
   "cell_type": "code",
   "execution_count": 14,
   "id": "efe10b6b-c6a0-4c3e-ad23-5a54717fcca1",
   "metadata": {
    "execution": {
     "iopub.execute_input": "2025-03-27T05:36:48.633936Z",
     "iopub.status.busy": "2025-03-27T05:36:48.633722Z",
     "iopub.status.idle": "2025-03-27T05:36:48.656348Z",
     "shell.execute_reply": "2025-03-27T05:36:48.655390Z",
     "shell.execute_reply.started": "2025-03-27T05:36:48.633915Z"
    }
   },
   "outputs": [],
   "source": [
    "# gamma: psychrometric constant [Pa/°C]                                                   [FAO56 Eq. 8]\n",
    "gamma = 0.665e-3 * Patm"
   ]
  },
  {
   "cell_type": "code",
   "execution_count": 15,
   "id": "e495c6a0-923c-4e8e-84ff-359c7486d13b",
   "metadata": {
    "execution": {
     "iopub.execute_input": "2025-03-27T05:36:48.657859Z",
     "iopub.status.busy": "2025-03-27T05:36:48.657497Z",
     "iopub.status.idle": "2025-03-27T05:36:50.991997Z",
     "shell.execute_reply": "2025-03-27T05:36:50.991037Z",
     "shell.execute_reply.started": "2025-03-27T05:36:48.657821Z"
    }
   },
   "outputs": [],
   "source": [
    "# esat: saturated vapor pressure [Pa] = f(T[°C])            ,                             [FAO56 Eq. 11]\n",
    "esat = 610.8 * np.exp((17.27*T/(T+237.3)))"
   ]
  },
  {
   "cell_type": "code",
   "execution_count": 16,
   "id": "2223746d-2836-4222-a980-9c01bcf59b91",
   "metadata": {
    "execution": {
     "iopub.execute_input": "2025-03-27T05:36:50.993994Z",
     "iopub.status.busy": "2025-03-27T05:36:50.993505Z",
     "iopub.status.idle": "2025-03-27T05:36:55.794609Z",
     "shell.execute_reply": "2025-03-27T05:36:55.793569Z",
     "shell.execute_reply.started": "2025-03-27T05:36:50.993942Z"
    }
   },
   "outputs": [],
   "source": [
    "# w: mixing ratio [kg/kg] = f(QV2M[kg/kg])                                                \n",
    "w = QV2M / (1. - QV2M)"
   ]
  },
  {
   "cell_type": "code",
   "execution_count": 17,
   "id": "a8885155-ee3e-4f78-aa00-a7268e191dbb",
   "metadata": {
    "execution": {
     "iopub.execute_input": "2025-03-27T05:36:55.796044Z",
     "iopub.status.busy": "2025-03-27T05:36:55.795797Z",
     "iopub.status.idle": "2025-03-27T05:36:57.846721Z",
     "shell.execute_reply": "2025-03-27T05:36:57.845511Z",
     "shell.execute_reply.started": "2025-03-27T05:36:55.796020Z"
    }
   },
   "outputs": [],
   "source": [
    "# eact: actual vapor pressure [Pa] = f(Patm[Pa], w[kg/kg])                                [FAO56 Eq. ???]\n",
    "eact = (Patm * w) / (0.622 + w)\n",
    "eact = eact.clip(max=esat) #clip eact ≤ esat"
   ]
  },
  {
   "cell_type": "code",
   "execution_count": 18,
   "id": "84592a42-0d61-4dee-81d4-f33d589c2565",
   "metadata": {
    "execution": {
     "iopub.execute_input": "2025-03-27T05:36:57.847960Z",
     "iopub.status.busy": "2025-03-27T05:36:57.847721Z",
     "iopub.status.idle": "2025-03-27T05:37:00.146408Z",
     "shell.execute_reply": "2025-03-27T05:37:00.145308Z",
     "shell.execute_reply.started": "2025-03-27T05:36:57.847936Z"
    }
   },
   "outputs": [],
   "source": [
    "# delta: slope of the saturated vapor pressure curve at T [Pa/K] = f(T[°C])               [FAO56 Eq. 13]\n",
    "delta = (4098. * 610.8 * np.exp(17.27 * T / (T + 237.3))) / (T + 237.3)**2 "
   ]
  },
  {
   "cell_type": "code",
   "execution_count": 19,
   "id": "bcc6a0f7-7822-40b8-8b45-ece0fa441ec0",
   "metadata": {
    "execution": {
     "iopub.execute_input": "2025-03-27T05:37:00.147574Z",
     "iopub.status.busy": "2025-03-27T05:37:00.147324Z",
     "iopub.status.idle": "2025-03-27T05:37:00.151941Z",
     "shell.execute_reply": "2025-03-27T05:37:00.150769Z",
     "shell.execute_reply.started": "2025-03-27T05:37:00.147551Z"
    }
   },
   "outputs": [],
   "source": [
    "# G: ground heat flux  [MJ/(m2.day)], on daily time scales, G ≈ 0                         [FAO56 Eq. 42]\n",
    "G = 0 "
   ]
  },
  {
   "cell_type": "code",
   "execution_count": 20,
   "id": "5cb8b428-7b82-4d11-a2f1-9b6d319bac88",
   "metadata": {
    "execution": {
     "iopub.execute_input": "2025-03-27T05:37:00.152935Z",
     "iopub.status.busy": "2025-03-27T05:37:00.152736Z",
     "iopub.status.idle": "2025-03-27T05:37:00.166896Z",
     "shell.execute_reply": "2025-03-27T05:37:00.166052Z",
     "shell.execute_reply.started": "2025-03-27T05:37:00.152914Z"
    }
   },
   "outputs": [],
   "source": [
    "# decl: declination [radians] = f(pi[unitless], jday[unitless])                           [FAO56 Eq. 42]\n",
    "jday = xr.DataArray(SWGDN.time.dt.dayofyear.values, coords=[('day', SWGDN.time.dt.dayofyear.values)], dims=[\"day\"])\n",
    "decl = 0.409 * np.sin((2. * np.pi * jday / 365) - 1.39)"
   ]
  },
  {
   "cell_type": "code",
   "execution_count": 21,
   "id": "2f7a0368-dc8d-4074-96a5-c3c93adf3402",
   "metadata": {
    "execution": {
     "iopub.execute_input": "2025-03-27T05:37:00.168203Z",
     "iopub.status.busy": "2025-03-27T05:37:00.167796Z",
     "iopub.status.idle": "2025-03-27T05:37:00.193398Z",
     "shell.execute_reply": "2025-03-27T05:37:00.192437Z",
     "shell.execute_reply.started": "2025-03-27T05:37:00.168173Z"
    }
   },
   "outputs": [],
   "source": [
    "# ws: sunset hour angle ws[radians] = f(latitude[rad], dec[rad])                          [FAO56 Eq. 25]\n",
    "Lat = SWGDN.lat\n",
    "ws = np.arccos(-1 * np.tan(np.deg2rad(Lat)) * np.tan(decl))"
   ]
  },
  {
   "cell_type": "code",
   "execution_count": 22,
   "id": "77f32dbe-e7eb-46e8-9d51-45fc5a3b8d8e",
   "metadata": {
    "execution": {
     "iopub.execute_input": "2025-03-27T05:37:00.194466Z",
     "iopub.status.busy": "2025-03-27T05:37:00.194218Z",
     "iopub.status.idle": "2025-03-27T05:37:00.199356Z",
     "shell.execute_reply": "2025-03-27T05:37:00.198488Z",
     "shell.execute_reply.started": "2025-03-27T05:37:00.194444Z"
    }
   },
   "outputs": [],
   "source": [
    "# dr: inverse relative distance of earth from sun [unitless]                              [FAO56 Eq. 23]\n",
    "dr = 1. + 0.033 * np.cos(2. * np.pi * jday / 365)"
   ]
  },
  {
   "cell_type": "code",
   "execution_count": 23,
   "id": "2b1e4906-9de4-4685-b56d-f5fd521a95a8",
   "metadata": {
    "execution": {
     "iopub.execute_input": "2025-03-27T05:37:00.200235Z",
     "iopub.status.busy": "2025-03-27T05:37:00.199982Z",
     "iopub.status.idle": "2025-03-27T05:37:00.245291Z",
     "shell.execute_reply": "2025-03-27T05:37:00.244348Z",
     "shell.execute_reply.started": "2025-03-27T05:37:00.200199Z"
    }
   },
   "outputs": [],
   "source": [
    "# Ra: extra-terrestrial (TOA) SW radiation [J/(m2.day)] = \n",
    "#f(Gsc [J/m2/hour], dr [unitless], ws [rad], Lat [rad], decl [rad])                       [FAO56 Eq. 21] \n",
    "Ra = (24. / np.pi) * Gsc * dr * (ws * np.sin(np.deg2rad(Lat)) * np.sin(decl) + np.cos(np.deg2rad(Lat)) * np.cos(decl) * np.sin(ws))"
   ]
  },
  {
   "cell_type": "code",
   "execution_count": 24,
   "id": "d3c1dbc4-e30d-46bd-9dba-49a85b205a69",
   "metadata": {
    "execution": {
     "iopub.execute_input": "2025-03-27T05:37:00.247308Z",
     "iopub.status.busy": "2025-03-27T05:37:00.246819Z",
     "iopub.status.idle": "2025-03-27T05:37:01.443713Z",
     "shell.execute_reply": "2025-03-27T05:37:01.442593Z",
     "shell.execute_reply.started": "2025-03-27T05:37:00.247255Z"
    }
   },
   "outputs": [],
   "source": [
    "# Rso: clear-sky SW radiation at surface [J/m2/day] = f(Ra[J/(m2.day)], elev[m])          [FAO56 Eq. 37]\n",
    "Rso = Ra * (0.75 + 2e-5 * elev)"
   ]
  },
  {
   "cell_type": "code",
   "execution_count": 25,
   "id": "dbb3d3a1-0244-4fba-82e7-eba79e9b01c8",
   "metadata": {
    "execution": {
     "iopub.execute_input": "2025-03-27T05:37:01.445186Z",
     "iopub.status.busy": "2025-03-27T05:37:01.444878Z",
     "iopub.status.idle": "2025-03-27T05:37:04.229454Z",
     "shell.execute_reply": "2025-03-27T05:37:04.228456Z",
     "shell.execute_reply.started": "2025-03-27T05:37:01.445155Z"
    }
   },
   "outputs": [],
   "source": [
    "# fcd: cloudiness function [unitless]                                                     [FAO56 pg. 79]\n",
    "RsRso = xr.DataArray((Rs.values)/(Rso.values), coords=[('time', Rs.time.values), ('lat', Rs.lat.values), ('lon', SWGDN.lon.values)], dims=[\"time\", \"lat\", \"lon\"])\n",
    "RsRso = RsRso.clip(min=0.3, max=1.0)\n",
    "fcd = 1.35 * RsRso - 0.35 \n",
    "fcd = fcd.clip(min=0.05, max=1.0) #clip values between 0.05 and 1.0"
   ]
  },
  {
   "cell_type": "code",
   "execution_count": 26,
   "id": "84aea2f7-8a0f-479a-aa13-3f6c664c10dd",
   "metadata": {
    "execution": {
     "iopub.execute_input": "2025-03-27T05:37:04.230641Z",
     "iopub.status.busy": "2025-03-27T05:37:04.230422Z",
     "iopub.status.idle": "2025-03-27T05:37:04.718474Z",
     "shell.execute_reply": "2025-03-27T05:37:04.717270Z",
     "shell.execute_reply.started": "2025-03-27T05:37:04.230618Z"
    }
   },
   "outputs": [],
   "source": [
    "# Rns: Net shortwave radiation  [J/(m2.day)]                                             [FAO56 Eq. 38]\n",
    "Rns = (1 - albedo) * Rs"
   ]
  },
  {
   "cell_type": "code",
   "execution_count": 27,
   "id": "1fcceba8-62a2-495c-a23a-a5ed374c26a4",
   "metadata": {
    "execution": {
     "iopub.execute_input": "2025-03-27T05:37:04.719712Z",
     "iopub.status.busy": "2025-03-27T05:37:04.719476Z",
     "iopub.status.idle": "2025-03-27T05:37:10.926578Z",
     "shell.execute_reply": "2025-03-27T05:37:10.925652Z",
     "shell.execute_reply.started": "2025-03-27T05:37:04.719689Z"
    }
   },
   "outputs": [],
   "source": [
    "# Rnl: net LW radiation upward[J/(m2.day)] = f(sigma [J/(K4.m2.day)], eact[Pa], T[°C])   [FAO56 Eq. 39]\n",
    "Rnl = sigma * fcd * (0.34 - 0.14 * (0.001 * eact)**0.5) * (T + 273.15)**4."
   ]
  },
  {
   "cell_type": "code",
   "execution_count": 28,
   "id": "ab0b2932-5f71-44fd-8793-21d3a9082392",
   "metadata": {
    "execution": {
     "iopub.execute_input": "2025-03-27T05:37:10.928034Z",
     "iopub.status.busy": "2025-03-27T05:37:10.927820Z",
     "iopub.status.idle": "2025-03-27T05:37:11.527043Z",
     "shell.execute_reply": "2025-03-27T05:37:11.526039Z",
     "shell.execute_reply.started": "2025-03-27T05:37:10.928011Z"
    }
   },
   "outputs": [],
   "source": [
    "# Rn: net radiation [J/(m2.day)]\n",
    "Rn = Rns - Rnl"
   ]
  },
  {
   "attachments": {
    "7112a71d-1423-4066-ab58-3df48532e24b.png": {
     "image/png": "[encoded data removed]"
    }
   },
   "cell_type": "markdown",
   "id": "eb718359-f75c-49e1-b6ab-e3d826e942ed",
   "metadata": {},
   "source": [
    "<br><b>Split ET0 into 3 components: A, B, C</b><br>\n",
    "From FAO56, Equation 6, PM derivation of ET0\n",
    "![image.png](attachment:7112a71d-1423-4066-ab58-3df48532e24b.png)"
   ]
  },
  {
   "cell_type": "code",
   "execution_count": 29,
   "id": "f87d2e3d-7ab1-4b68-8556-098555b85742",
   "metadata": {
    "execution": {
     "iopub.execute_input": "2025-03-27T05:37:11.528268Z",
     "iopub.status.busy": "2025-03-27T05:37:11.528044Z",
     "iopub.status.idle": "2025-03-27T05:37:20.106557Z",
     "shell.execute_reply": "2025-03-27T05:37:20.105452Z",
     "shell.execute_reply.started": "2025-03-27T05:37:11.528245Z"
    }
   },
   "outputs": [
    {
     "name": "stdout",
     "output_type": "stream",
     "text": [
      "CPU times: user 3.73 s, sys: 4.85 s, total: 8.58 s\n",
      "Wall time: 8.57 s\n"
     ]
    }
   ],
   "source": [
    "%%time\n",
    "# A left numerator\n",
    "A = 0.408 * (delta*1e-3) * ((Rn - G) * 1e-6)\n",
    "\n",
    "# B right numerator\n",
    "B = (gamma*1e-3) * (Cn/(T+273)) * U2M * ((esat-eact)*1e-3)\n",
    "\n",
    "# C denominator\n",
    "C = ((delta*1e-3) + (gamma*1e-3) * (1+Cd*U2M))\n",
    "\n",
    "ET0 = (A+B)/C"
   ]
  },
  {
   "cell_type": "code",
   "execution_count": null,
   "id": "34780c0d-6e92-48bc-8f16-b034314b6ceb",
   "metadata": {},
   "outputs": [],
   "source": []
  },
  {
   "cell_type": "code",
   "execution_count": 30,
   "id": "67342703-210b-4699-ae92-295973ac9f36",
   "metadata": {
    "execution": {
     "iopub.execute_input": "2025-03-27T05:37:20.109940Z",
     "iopub.status.busy": "2025-03-27T05:37:20.109699Z",
     "iopub.status.idle": "2025-03-27T05:37:20.115643Z",
     "shell.execute_reply": "2025-03-27T05:37:20.114704Z",
     "shell.execute_reply.started": "2025-03-27T05:37:20.109918Z"
    }
   },
   "outputs": [],
   "source": [
    "ET0_xr = xr.DataArray(ET0, dims=['time', 'lat', 'lon'], coords={'time':T.time.values, 'lat': T.lat.values, 'lon': T.lon.values}).rename(f\"ET0_{short_tall_crop_switch}_crop\")"
   ]
  },
  {
   "cell_type": "code",
   "execution_count": 31,
   "id": "0707412e-46ed-4829-a2e7-3a9990acabc8",
   "metadata": {
    "execution": {
     "iopub.execute_input": "2025-03-27T05:37:20.116676Z",
     "iopub.status.busy": "2025-03-27T05:37:20.116474Z",
     "iopub.status.idle": "2025-03-27T05:37:20.509606Z",
     "shell.execute_reply": "2025-03-27T05:37:20.508451Z",
     "shell.execute_reply.started": "2025-03-27T05:37:20.116654Z"
    }
   },
   "outputs": [
    {
     "data": {
      "text/plain": [
       "<matplotlib.collections.QuadMesh at 0x1504ebb8f130>"
      ]
     },
     "execution_count": 31,
     "metadata": {},
     "output_type": "execute_result"
    },
    {
     "data": {
      "image/png": "[encoded data removed]",
      "text/plain": [
       "<Figure size 640x480 with 2 Axes>"
      ]
     },
     "metadata": {},
     "output_type": "display_data"
    }
   ],
   "source": [
    "ET0_xr[11301].plot()"
   ]
  },
  {
   "cell_type": "markdown",
   "id": "44ac12c1-6978-49cd-a6c5-0adf7e4ec50f",
   "metadata": {},
   "source": [
    "<br>"
   ]
  },
  {
   "cell_type": "markdown",
   "id": "f056b1e9-79e5-44b4-9b4e-00f5d780dd1c",
   "metadata": {},
   "source": [
    "### Step 3 -> Calculate daily sensitivity expressions"
   ]
  },
  {
   "cell_type": "code",
   "execution_count": 32,
   "id": "da6fbcd3-ef79-4adc-9a28-18cd3c643e91",
   "metadata": {
    "execution": {
     "iopub.execute_input": "2025-03-27T05:37:20.510653Z",
     "iopub.status.busy": "2025-03-27T05:37:20.510443Z",
     "iopub.status.idle": "2025-03-27T05:37:22.567104Z",
     "shell.execute_reply": "2025-03-27T05:37:22.565964Z",
     "shell.execute_reply.started": "2025-03-27T05:37:20.510630Z"
    }
   },
   "outputs": [],
   "source": [
    "ET0_7d_mean = ET0.rolling(time=7).mean()"
   ]
  },
  {
   "cell_type": "code",
   "execution_count": 33,
   "id": "1486499b-5126-4776-951b-3134fddb5563",
   "metadata": {
    "execution": {
     "iopub.execute_input": "2025-03-27T05:37:22.568409Z",
     "iopub.status.busy": "2025-03-27T05:37:22.568164Z",
     "iopub.status.idle": "2025-03-27T05:38:00.830369Z",
     "shell.execute_reply": "2025-03-27T05:38:00.829338Z",
     "shell.execute_reply.started": "2025-03-27T05:37:22.568385Z"
    }
   },
   "outputs": [],
   "source": [
    "ATa = 0.408e-6 * (2.503e6 * np.exp(17.27 * T / (T + 237.3))/ (T + 237.3)**2.) \n",
    "ATb = (Rns - (sigma * fcd * (0.34 - 0.14 * (0.001 * eact)**0.5)* (T + 273.15)**4.))\n",
    "dATadT = -(2.04245 * np.exp((17.27 * T) / (T + 237.3))* (T**2. * (T + 237.3)**2. - 2049.09 *(T + 237.3)**3 + 474.6 * T * (T + 237.3)**2. + 56311.3 * (T + 237.3)**2.))/ (T + 237.3)**7.\n",
    "dATbdT = 0.0177088 * fcd * (-76.7982 + eact**0.5) * sigma * (T + 273.15)**3.\n",
    "dAdT = ATa * dATbdT + ATb * dATadT\n",
    "dAdq = (2.41719e-9 * delta * fcd * Patm * (QV2M - 1.)* sigma * (273.15 + T)**4.)/ ((QV2M - 1.) * ((Patm * QV2M)/ (1.6455 + QV2M))**0.5 * (1.6455 + QV2M)**2.)\n",
    "# dAdR = -0.0352512 * (albedo - 1.) * delta + (0.000210686 * delta * (-76.7982 + eact**0.5) * sigma * (273.15 + T)**4) / Rso"
   ]
  },
  {
   "cell_type": "code",
   "execution_count": 34,
   "id": "5c62c997-289f-4816-bcef-316f73fc6960",
   "metadata": {
    "execution": {
     "iopub.execute_input": "2025-03-27T05:38:00.831576Z",
     "iopub.status.busy": "2025-03-27T05:38:00.831339Z",
     "iopub.status.idle": "2025-03-27T05:38:28.182440Z",
     "shell.execute_reply": "2025-03-27T05:38:28.181444Z",
     "shell.execute_reply.started": "2025-03-27T05:38:00.831553Z"
    }
   },
   "outputs": [],
   "source": [
    "B = (0.000665 * 101300. * ((293. - 0.0065 * elev) / 293.)**5.26) * (Cn / (T + 273.15)) * U2M * ((610.8 * np.exp(17.27 * T / (T + 237.3)))- (Patm * (QV2M / (1. - QV2M)) / (0.622 + (QV2M / (1. -QV2M)))))\n",
    "dBdT = -1.*(67.3431 * Cn * (610.8 * np.exp((17.27 * T) / (237.3 + T)) - (Patm * QV2M) / ((1 - QV2M) * (0.622 + QV2M / (1 - QV2M)))) * U2M) / (273.15 + T)**2. + (41133.2 * Cn * np.exp((17.27 * T) / (237.3 + T)) * (-(17.27 * T) / (237.3 + T)**2. + 17.27 / (237.3 + T)) * U2M) / (273.15 + T)\n",
    "dBdq = (Cn * Patm * 293.157 * (1 - QV2M) * U2M)/ ((QV2M - 1.) * (1.6455 + QV2M)**2. * (273.15 + T))\n",
    "dBdU = (0.000665 * Cn * Patm * (610.8 * np.exp((17.27 * T)/(237.3 + T)) - (Patm * w)/(0.622 + w)))/(273.15 + T)"
   ]
  },
  {
   "cell_type": "code",
   "execution_count": 38,
   "id": "e06315fc-4aeb-49a4-9264-34be62d76e53",
   "metadata": {
    "execution": {
     "iopub.execute_input": "2025-03-27T05:38:45.441868Z",
     "iopub.status.busy": "2025-03-27T05:38:45.441559Z",
     "iopub.status.idle": "2025-03-27T05:38:54.398034Z",
     "shell.execute_reply": "2025-03-27T05:38:54.397013Z",
     "shell.execute_reply.started": "2025-03-27T05:38:45.441838Z"
    }
   },
   "outputs": [],
   "source": [
    "C = 2.503e6 * np.exp(17.27 * T / (T + 237.3)) / (T + 237.3)**2. + 0.000665 * Patm * (1. + Cd * U2M)\n",
    "dCdT = -(5006000. * np.exp((17.27 * T)/(237.3 + T)) * (-1811.79 + T))/ (237.3 + T)**4.\n",
    "dCdU = 0.000665 * Cd * Patm"
   ]
  },
  {
   "cell_type": "code",
   "execution_count": 39,
   "id": "feea7bba-14e0-4763-a282-ab2a6c0965af",
   "metadata": {
    "execution": {
     "iopub.execute_input": "2025-03-27T05:38:54.399543Z",
     "iopub.status.busy": "2025-03-27T05:38:54.399329Z",
     "iopub.status.idle": "2025-03-27T05:39:02.788154Z",
     "shell.execute_reply": "2025-03-27T05:39:02.786979Z",
     "shell.execute_reply.started": "2025-03-27T05:38:54.399520Z"
    }
   },
   "outputs": [],
   "source": [
    "sens_T = (dAdT + dBdT - (A + B) * dCdT / C) / C\n",
    "sens_R  = dAdR / C\n",
    "sens_q  = (dAdq + dBdq) / C\n",
    "sens_U  = ((C * dBdU) - (A + B) * dCdU) / C**2"
   ]
  },
  {
   "cell_type": "markdown",
   "id": "a2647170-cbd7-4e89-b3ff-926c96a19eb1",
   "metadata": {},
   "source": [
    "<br>"
   ]
  },
  {
   "cell_type": "markdown",
   "id": "52391178-fd86-4f6f-b8f8-787b7de03813",
   "metadata": {},
   "source": [
    "### Step 4 -> Calculate relative contribution from each driver"
   ]
  },
  {
   "cell_type": "code",
   "execution_count": null,
   "id": "9719bda4-3248-4202-8049-05795831d546",
   "metadata": {},
   "outputs": [],
   "source": []
  },
  {
   "cell_type": "markdown",
   "id": "a10353e8-b025-4a5c-84c7-2b9bff4dec06",
   "metadata": {},
   "source": [
    "<br>"
   ]
  },
  {
   "cell_type": "markdown",
   "id": "99c2ae46-30bd-454d-b9b5-84b76fba3ebb",
   "metadata": {},
   "source": [
    "### Step 5 -> Plot and visualise "
   ]
  },
  {
   "cell_type": "code",
   "execution_count": null,
   "id": "d382b164-7538-406e-8580-4a4579efdd5a",
   "metadata": {},
   "outputs": [],
   "source": []
  }
 ],
 "metadata": {
  "kernelspec": {
   "display_name": "Python [conda env:analysis3]",
   "language": "python",
   "name": "conda-env-analysis3-py"
  },
  "language_info": {
   "codemirror_mode": {
    "name": "ipython",
    "version": 3
   },
   "file_extension": ".py",
   "mimetype": "text/x-python",
   "name": "python",
   "nbconvert_exporter": "python",
   "pygments_lexer": "ipython3",
   "version": "3.10.14"
  }
 },
 "nbformat": 4,
 "nbformat_minor": 5
}
