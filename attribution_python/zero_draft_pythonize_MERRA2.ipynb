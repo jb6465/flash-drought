{
 "cells": [
  {
   "cell_type": "markdown",
   "id": "cff9665f-696b-451c-a7e7-adf76a9d4de0",
   "metadata": {},
   "source": [
    "# First attempt to pythonise Mike's code and apply it to MERRA2"
   ]
  },
  {
   "cell_type": "code",
   "execution_count": 1,
   "id": "231a148f-33dd-4b69-ba08-7ff18f58b871",
   "metadata": {
    "execution": {
     "iopub.execute_input": "2025-03-18T02:17:09.451154Z",
     "iopub.status.busy": "2025-03-18T02:17:09.450877Z",
     "iopub.status.idle": "2025-03-18T02:17:10.724891Z",
     "shell.execute_reply": "2025-03-18T02:17:10.724029Z",
     "shell.execute_reply.started": "2025-03-18T02:17:09.451122Z"
    }
   },
   "outputs": [],
   "source": [
    "import sys\n",
    "import os\n",
    "import glob\n",
    "import xarray as xr\n",
    "import numpy as np\n",
    "import gc\n",
    "import logging\n",
    "import pandas as pd\n",
    "from math import pi"
   ]
  },
  {
   "cell_type": "code",
   "execution_count": 2,
   "id": "8642792f-c405-4364-87de-a2157a240eba",
   "metadata": {
    "execution": {
     "iopub.execute_input": "2025-03-18T02:17:10.726076Z",
     "iopub.status.busy": "2025-03-18T02:17:10.725735Z",
     "iopub.status.idle": "2025-03-18T02:17:10.730561Z",
     "shell.execute_reply": "2025-03-18T02:17:10.729791Z",
     "shell.execute_reply.started": "2025-03-18T02:17:10.726052Z"
    }
   },
   "outputs": [],
   "source": [
    "#relevant directories (move to utils.py eventually)\n",
    "MERRA2_T2M_U2M_QV2M_dir = '/g/data/rr7/MERRA2/raw/M2T1NXSLV.5.12.4'\n",
    "MERRA2_SWNETSRF_dir = '/g/data/rr7/MERRA2/raw/M2T1NXINT.5.12.4'\n",
    "MERRA2_SWGDN_dir = '/g/data/rr7/MERRA2/raw/M2T1NXRAD.5.12.4/'"
   ]
  },
  {
   "cell_type": "markdown",
   "id": "6d8b6b54-fac5-469c-87ca-60d12fcc983f",
   "metadata": {},
   "source": [
    "#### Dask + warning setup"
   ]
  },
  {
   "cell_type": "code",
   "execution_count": 3,
   "id": "700cabfc-ade6-41bc-b2e5-6b983362e1f6",
   "metadata": {
    "execution": {
     "iopub.execute_input": "2025-03-17T06:11:54.171401Z",
     "iopub.status.busy": "2025-03-17T06:11:54.171065Z",
     "iopub.status.idle": "2025-03-17T06:11:54.177065Z",
     "shell.execute_reply": "2025-03-17T06:11:54.175818Z",
     "shell.execute_reply.started": "2025-03-17T06:11:54.171367Z"
    }
   },
   "outputs": [],
   "source": [
    "import warnings\n",
    "import logging\n",
    "warnings.filterwarnings('ignore') \n",
    "logging.getLogger(\"distributed.worker.memory\").setLevel(logging.ERROR)\n",
    "logging.getLogger('flox').setLevel(logging.WARNING)"
   ]
  },
  {
   "cell_type": "code",
   "execution_count": 4,
   "id": "f1f65c97-4031-4cce-b4cb-2b633c3280f6",
   "metadata": {
    "execution": {
     "iopub.execute_input": "2025-03-17T06:12:03.280420Z",
     "iopub.status.busy": "2025-03-17T06:12:03.279866Z",
     "iopub.status.idle": "2025-03-17T06:12:07.227678Z",
     "shell.execute_reply": "2025-03-17T06:12:07.226403Z",
     "shell.execute_reply.started": "2025-03-17T06:12:03.280365Z"
    },
    "scrolled": true
   },
   "outputs": [
    {
     "data": {
      "text/html": [
       "<div>\n",
       "    <div style=\"width: 24px; height: 24px; background-color: #e1e1e1; border: 3px solid #9D9D9D; border-radius: 5px; position: absolute;\"> </div>\n",
       "    <div style=\"margin-left: 48px;\">\n",
       "        <h3 style=\"margin-bottom: 0px;\">Client</h3>\n",
       "        <p style=\"color: #9D9D9D; margin-bottom: 0px;\">Client-bef53c16-02f6-11f0-89f6-0000079dfe80</p>\n",
       "        <table style=\"width: 100%; text-align: left;\">\n",
       "\n",
       "        <tr>\n",
       "        \n",
       "            <td style=\"text-align: left;\"><strong>Connection method:</strong> Cluster object</td>\n",
       "            <td style=\"text-align: left;\"><strong>Cluster type:</strong> distributed.LocalCluster</td>\n",
       "        \n",
       "        </tr>\n",
       "\n",
       "        \n",
       "            <tr>\n",
       "                <td style=\"text-align: left;\">\n",
       "                    <strong>Dashboard: </strong> <a href=\"/proxy/8787/status\" target=\"_blank\">/proxy/8787/status</a>\n",
       "                </td>\n",
       "                <td style=\"text-align: left;\"></td>\n",
       "            </tr>\n",
       "        \n",
       "\n",
       "        </table>\n",
       "\n",
       "        \n",
       "            <button style=\"margin-bottom: 12px;\" data-commandlinker-command=\"dask:populate-and-launch-layout\" data-commandlinker-args='{\"url\": \"/proxy/8787/status\" }'>\n",
       "                Launch dashboard in JupyterLab\n",
       "            </button>\n",
       "        \n",
       "\n",
       "        \n",
       "            <details>\n",
       "            <summary style=\"margin-bottom: 20px;\"><h3 style=\"display: inline;\">Cluster Info</h3></summary>\n",
       "            <div class=\"jp-RenderedHTMLCommon jp-RenderedHTML jp-mod-trusted jp-OutputArea-output\">\n",
       "    <div style=\"width: 24px; height: 24px; background-color: #e1e1e1; border: 3px solid #9D9D9D; border-radius: 5px; position: absolute;\">\n",
       "    </div>\n",
       "    <div style=\"margin-left: 48px;\">\n",
       "        <h3 style=\"margin-bottom: 0px; margin-top: 0px;\">LocalCluster</h3>\n",
       "        <p style=\"color: #9D9D9D; margin-bottom: 0px;\">38219482</p>\n",
       "        <table style=\"width: 100%; text-align: left;\">\n",
       "            <tr>\n",
       "                <td style=\"text-align: left;\">\n",
       "                    <strong>Dashboard:</strong> <a href=\"/proxy/8787/status\" target=\"_blank\">/proxy/8787/status</a>\n",
       "                </td>\n",
       "                <td style=\"text-align: left;\">\n",
       "                    <strong>Workers:</strong> 10\n",
       "                </td>\n",
       "            </tr>\n",
       "            <tr>\n",
       "                <td style=\"text-align: left;\">\n",
       "                    <strong>Total threads:</strong> 10\n",
       "                </td>\n",
       "                <td style=\"text-align: left;\">\n",
       "                    <strong>Total memory:</strong> 586.73 GiB\n",
       "                </td>\n",
       "            </tr>\n",
       "            \n",
       "            <tr>\n",
       "    <td style=\"text-align: left;\"><strong>Status:</strong> running</td>\n",
       "    <td style=\"text-align: left;\"><strong>Using processes:</strong> True</td>\n",
       "</tr>\n",
       "\n",
       "            \n",
       "        </table>\n",
       "\n",
       "        <details>\n",
       "            <summary style=\"margin-bottom: 20px;\">\n",
       "                <h3 style=\"display: inline;\">Scheduler Info</h3>\n",
       "            </summary>\n",
       "\n",
       "            <div style=\"\">\n",
       "    <div>\n",
       "        <div style=\"width: 24px; height: 24px; background-color: #FFF7E5; border: 3px solid #FF6132; border-radius: 5px; position: absolute;\"> </div>\n",
       "        <div style=\"margin-left: 48px;\">\n",
       "            <h3 style=\"margin-bottom: 0px;\">Scheduler</h3>\n",
       "            <p style=\"color: #9D9D9D; margin-bottom: 0px;\">Scheduler-6585b959-6236-4636-ae50-2d4adefaf3ec</p>\n",
       "            <table style=\"width: 100%; text-align: left;\">\n",
       "                <tr>\n",
       "                    <td style=\"text-align: left;\">\n",
       "                        <strong>Comm:</strong> tcp://127.0.0.1:37307\n",
       "                    </td>\n",
       "                    <td style=\"text-align: left;\">\n",
       "                        <strong>Workers:</strong> 10\n",
       "                    </td>\n",
       "                </tr>\n",
       "                <tr>\n",
       "                    <td style=\"text-align: left;\">\n",
       "                        <strong>Dashboard:</strong> <a href=\"/proxy/8787/status\" target=\"_blank\">/proxy/8787/status</a>\n",
       "                    </td>\n",
       "                    <td style=\"text-align: left;\">\n",
       "                        <strong>Total threads:</strong> 10\n",
       "                    </td>\n",
       "                </tr>\n",
       "                <tr>\n",
       "                    <td style=\"text-align: left;\">\n",
       "                        <strong>Started:</strong> Just now\n",
       "                    </td>\n",
       "                    <td style=\"text-align: left;\">\n",
       "                        <strong>Total memory:</strong> 586.73 GiB\n",
       "                    </td>\n",
       "                </tr>\n",
       "            </table>\n",
       "        </div>\n",
       "    </div>\n",
       "\n",
       "    <details style=\"margin-left: 48px;\">\n",
       "        <summary style=\"margin-bottom: 20px;\">\n",
       "            <h3 style=\"display: inline;\">Workers</h3>\n",
       "        </summary>\n",
       "\n",
       "        \n",
       "        <div style=\"margin-bottom: 20px;\">\n",
       "            <div style=\"width: 24px; height: 24px; background-color: #DBF5FF; border: 3px solid #4CC9FF; border-radius: 5px; position: absolute;\"> </div>\n",
       "            <div style=\"margin-left: 48px;\">\n",
       "            <details>\n",
       "                <summary>\n",
       "                    <h4 style=\"margin-bottom: 0px; display: inline;\">Worker: 0</h4>\n",
       "                </summary>\n",
       "                <table style=\"width: 100%; text-align: left;\">\n",
       "                    <tr>\n",
       "                        <td style=\"text-align: left;\">\n",
       "                            <strong>Comm: </strong> tcp://127.0.0.1:38299\n",
       "                        </td>\n",
       "                        <td style=\"text-align: left;\">\n",
       "                            <strong>Total threads: </strong> 1\n",
       "                        </td>\n",
       "                    </tr>\n",
       "                    <tr>\n",
       "                        <td style=\"text-align: left;\">\n",
       "                            <strong>Dashboard: </strong> <a href=\"/proxy/36583/status\" target=\"_blank\">/proxy/36583/status</a>\n",
       "                        </td>\n",
       "                        <td style=\"text-align: left;\">\n",
       "                            <strong>Memory: </strong> 58.67 GiB\n",
       "                        </td>\n",
       "                    </tr>\n",
       "                    <tr>\n",
       "                        <td style=\"text-align: left;\">\n",
       "                            <strong>Nanny: </strong> tcp://127.0.0.1:34447\n",
       "                        </td>\n",
       "                        <td style=\"text-align: left;\"></td>\n",
       "                    </tr>\n",
       "                    <tr>\n",
       "                        <td colspan=\"2\" style=\"text-align: left;\">\n",
       "                            <strong>Local directory: </strong> /jobfs/137121598.gadi-pbs/tmpupzvnthg/dask-scratch-space/worker-r09bvd5z\n",
       "                        </td>\n",
       "                    </tr>\n",
       "\n",
       "                    \n",
       "\n",
       "                    \n",
       "\n",
       "                </table>\n",
       "            </details>\n",
       "            </div>\n",
       "        </div>\n",
       "        \n",
       "        <div style=\"margin-bottom: 20px;\">\n",
       "            <div style=\"width: 24px; height: 24px; background-color: #DBF5FF; border: 3px solid #4CC9FF; border-radius: 5px; position: absolute;\"> </div>\n",
       "            <div style=\"margin-left: 48px;\">\n",
       "            <details>\n",
       "                <summary>\n",
       "                    <h4 style=\"margin-bottom: 0px; display: inline;\">Worker: 1</h4>\n",
       "                </summary>\n",
       "                <table style=\"width: 100%; text-align: left;\">\n",
       "                    <tr>\n",
       "                        <td style=\"text-align: left;\">\n",
       "                            <strong>Comm: </strong> tcp://127.0.0.1:36305\n",
       "                        </td>\n",
       "                        <td style=\"text-align: left;\">\n",
       "                            <strong>Total threads: </strong> 1\n",
       "                        </td>\n",
       "                    </tr>\n",
       "                    <tr>\n",
       "                        <td style=\"text-align: left;\">\n",
       "                            <strong>Dashboard: </strong> <a href=\"/proxy/32855/status\" target=\"_blank\">/proxy/32855/status</a>\n",
       "                        </td>\n",
       "                        <td style=\"text-align: left;\">\n",
       "                            <strong>Memory: </strong> 58.67 GiB\n",
       "                        </td>\n",
       "                    </tr>\n",
       "                    <tr>\n",
       "                        <td style=\"text-align: left;\">\n",
       "                            <strong>Nanny: </strong> tcp://127.0.0.1:34797\n",
       "                        </td>\n",
       "                        <td style=\"text-align: left;\"></td>\n",
       "                    </tr>\n",
       "                    <tr>\n",
       "                        <td colspan=\"2\" style=\"text-align: left;\">\n",
       "                            <strong>Local directory: </strong> /jobfs/137121598.gadi-pbs/tmpupzvnthg/dask-scratch-space/worker-ubifj9lj\n",
       "                        </td>\n",
       "                    </tr>\n",
       "\n",
       "                    \n",
       "\n",
       "                    \n",
       "\n",
       "                </table>\n",
       "            </details>\n",
       "            </div>\n",
       "        </div>\n",
       "        \n",
       "        <div style=\"margin-bottom: 20px;\">\n",
       "            <div style=\"width: 24px; height: 24px; background-color: #DBF5FF; border: 3px solid #4CC9FF; border-radius: 5px; position: absolute;\"> </div>\n",
       "            <div style=\"margin-left: 48px;\">\n",
       "            <details>\n",
       "                <summary>\n",
       "                    <h4 style=\"margin-bottom: 0px; display: inline;\">Worker: 2</h4>\n",
       "                </summary>\n",
       "                <table style=\"width: 100%; text-align: left;\">\n",
       "                    <tr>\n",
       "                        <td style=\"text-align: left;\">\n",
       "                            <strong>Comm: </strong> tcp://127.0.0.1:36927\n",
       "                        </td>\n",
       "                        <td style=\"text-align: left;\">\n",
       "                            <strong>Total threads: </strong> 1\n",
       "                        </td>\n",
       "                    </tr>\n",
       "                    <tr>\n",
       "                        <td style=\"text-align: left;\">\n",
       "                            <strong>Dashboard: </strong> <a href=\"/proxy/44939/status\" target=\"_blank\">/proxy/44939/status</a>\n",
       "                        </td>\n",
       "                        <td style=\"text-align: left;\">\n",
       "                            <strong>Memory: </strong> 58.67 GiB\n",
       "                        </td>\n",
       "                    </tr>\n",
       "                    <tr>\n",
       "                        <td style=\"text-align: left;\">\n",
       "                            <strong>Nanny: </strong> tcp://127.0.0.1:36809\n",
       "                        </td>\n",
       "                        <td style=\"text-align: left;\"></td>\n",
       "                    </tr>\n",
       "                    <tr>\n",
       "                        <td colspan=\"2\" style=\"text-align: left;\">\n",
       "                            <strong>Local directory: </strong> /jobfs/137121598.gadi-pbs/tmpupzvnthg/dask-scratch-space/worker-v5wwh986\n",
       "                        </td>\n",
       "                    </tr>\n",
       "\n",
       "                    \n",
       "\n",
       "                    \n",
       "\n",
       "                </table>\n",
       "            </details>\n",
       "            </div>\n",
       "        </div>\n",
       "        \n",
       "        <div style=\"margin-bottom: 20px;\">\n",
       "            <div style=\"width: 24px; height: 24px; background-color: #DBF5FF; border: 3px solid #4CC9FF; border-radius: 5px; position: absolute;\"> </div>\n",
       "            <div style=\"margin-left: 48px;\">\n",
       "            <details>\n",
       "                <summary>\n",
       "                    <h4 style=\"margin-bottom: 0px; display: inline;\">Worker: 3</h4>\n",
       "                </summary>\n",
       "                <table style=\"width: 100%; text-align: left;\">\n",
       "                    <tr>\n",
       "                        <td style=\"text-align: left;\">\n",
       "                            <strong>Comm: </strong> tcp://127.0.0.1:34613\n",
       "                        </td>\n",
       "                        <td style=\"text-align: left;\">\n",
       "                            <strong>Total threads: </strong> 1\n",
       "                        </td>\n",
       "                    </tr>\n",
       "                    <tr>\n",
       "                        <td style=\"text-align: left;\">\n",
       "                            <strong>Dashboard: </strong> <a href=\"/proxy/43615/status\" target=\"_blank\">/proxy/43615/status</a>\n",
       "                        </td>\n",
       "                        <td style=\"text-align: left;\">\n",
       "                            <strong>Memory: </strong> 58.67 GiB\n",
       "                        </td>\n",
       "                    </tr>\n",
       "                    <tr>\n",
       "                        <td style=\"text-align: left;\">\n",
       "                            <strong>Nanny: </strong> tcp://127.0.0.1:36097\n",
       "                        </td>\n",
       "                        <td style=\"text-align: left;\"></td>\n",
       "                    </tr>\n",
       "                    <tr>\n",
       "                        <td colspan=\"2\" style=\"text-align: left;\">\n",
       "                            <strong>Local directory: </strong> /jobfs/137121598.gadi-pbs/tmpupzvnthg/dask-scratch-space/worker-8gnymlny\n",
       "                        </td>\n",
       "                    </tr>\n",
       "\n",
       "                    \n",
       "\n",
       "                    \n",
       "\n",
       "                </table>\n",
       "            </details>\n",
       "            </div>\n",
       "        </div>\n",
       "        \n",
       "        <div style=\"margin-bottom: 20px;\">\n",
       "            <div style=\"width: 24px; height: 24px; background-color: #DBF5FF; border: 3px solid #4CC9FF; border-radius: 5px; position: absolute;\"> </div>\n",
       "            <div style=\"margin-left: 48px;\">\n",
       "            <details>\n",
       "                <summary>\n",
       "                    <h4 style=\"margin-bottom: 0px; display: inline;\">Worker: 4</h4>\n",
       "                </summary>\n",
       "                <table style=\"width: 100%; text-align: left;\">\n",
       "                    <tr>\n",
       "                        <td style=\"text-align: left;\">\n",
       "                            <strong>Comm: </strong> tcp://127.0.0.1:32993\n",
       "                        </td>\n",
       "                        <td style=\"text-align: left;\">\n",
       "                            <strong>Total threads: </strong> 1\n",
       "                        </td>\n",
       "                    </tr>\n",
       "                    <tr>\n",
       "                        <td style=\"text-align: left;\">\n",
       "                            <strong>Dashboard: </strong> <a href=\"/proxy/35075/status\" target=\"_blank\">/proxy/35075/status</a>\n",
       "                        </td>\n",
       "                        <td style=\"text-align: left;\">\n",
       "                            <strong>Memory: </strong> 58.67 GiB\n",
       "                        </td>\n",
       "                    </tr>\n",
       "                    <tr>\n",
       "                        <td style=\"text-align: left;\">\n",
       "                            <strong>Nanny: </strong> tcp://127.0.0.1:35067\n",
       "                        </td>\n",
       "                        <td style=\"text-align: left;\"></td>\n",
       "                    </tr>\n",
       "                    <tr>\n",
       "                        <td colspan=\"2\" style=\"text-align: left;\">\n",
       "                            <strong>Local directory: </strong> /jobfs/137121598.gadi-pbs/tmpupzvnthg/dask-scratch-space/worker-_8ndechx\n",
       "                        </td>\n",
       "                    </tr>\n",
       "\n",
       "                    \n",
       "\n",
       "                    \n",
       "\n",
       "                </table>\n",
       "            </details>\n",
       "            </div>\n",
       "        </div>\n",
       "        \n",
       "        <div style=\"margin-bottom: 20px;\">\n",
       "            <div style=\"width: 24px; height: 24px; background-color: #DBF5FF; border: 3px solid #4CC9FF; border-radius: 5px; position: absolute;\"> </div>\n",
       "            <div style=\"margin-left: 48px;\">\n",
       "            <details>\n",
       "                <summary>\n",
       "                    <h4 style=\"margin-bottom: 0px; display: inline;\">Worker: 5</h4>\n",
       "                </summary>\n",
       "                <table style=\"width: 100%; text-align: left;\">\n",
       "                    <tr>\n",
       "                        <td style=\"text-align: left;\">\n",
       "                            <strong>Comm: </strong> tcp://127.0.0.1:39677\n",
       "                        </td>\n",
       "                        <td style=\"text-align: left;\">\n",
       "                            <strong>Total threads: </strong> 1\n",
       "                        </td>\n",
       "                    </tr>\n",
       "                    <tr>\n",
       "                        <td style=\"text-align: left;\">\n",
       "                            <strong>Dashboard: </strong> <a href=\"/proxy/46703/status\" target=\"_blank\">/proxy/46703/status</a>\n",
       "                        </td>\n",
       "                        <td style=\"text-align: left;\">\n",
       "                            <strong>Memory: </strong> 58.67 GiB\n",
       "                        </td>\n",
       "                    </tr>\n",
       "                    <tr>\n",
       "                        <td style=\"text-align: left;\">\n",
       "                            <strong>Nanny: </strong> tcp://127.0.0.1:39625\n",
       "                        </td>\n",
       "                        <td style=\"text-align: left;\"></td>\n",
       "                    </tr>\n",
       "                    <tr>\n",
       "                        <td colspan=\"2\" style=\"text-align: left;\">\n",
       "                            <strong>Local directory: </strong> /jobfs/137121598.gadi-pbs/tmpupzvnthg/dask-scratch-space/worker-vpgce_ya\n",
       "                        </td>\n",
       "                    </tr>\n",
       "\n",
       "                    \n",
       "\n",
       "                    \n",
       "\n",
       "                </table>\n",
       "            </details>\n",
       "            </div>\n",
       "        </div>\n",
       "        \n",
       "        <div style=\"margin-bottom: 20px;\">\n",
       "            <div style=\"width: 24px; height: 24px; background-color: #DBF5FF; border: 3px solid #4CC9FF; border-radius: 5px; position: absolute;\"> </div>\n",
       "            <div style=\"margin-left: 48px;\">\n",
       "            <details>\n",
       "                <summary>\n",
       "                    <h4 style=\"margin-bottom: 0px; display: inline;\">Worker: 6</h4>\n",
       "                </summary>\n",
       "                <table style=\"width: 100%; text-align: left;\">\n",
       "                    <tr>\n",
       "                        <td style=\"text-align: left;\">\n",
       "                            <strong>Comm: </strong> tcp://127.0.0.1:41263\n",
       "                        </td>\n",
       "                        <td style=\"text-align: left;\">\n",
       "                            <strong>Total threads: </strong> 1\n",
       "                        </td>\n",
       "                    </tr>\n",
       "                    <tr>\n",
       "                        <td style=\"text-align: left;\">\n",
       "                            <strong>Dashboard: </strong> <a href=\"/proxy/46735/status\" target=\"_blank\">/proxy/46735/status</a>\n",
       "                        </td>\n",
       "                        <td style=\"text-align: left;\">\n",
       "                            <strong>Memory: </strong> 58.67 GiB\n",
       "                        </td>\n",
       "                    </tr>\n",
       "                    <tr>\n",
       "                        <td style=\"text-align: left;\">\n",
       "                            <strong>Nanny: </strong> tcp://127.0.0.1:44833\n",
       "                        </td>\n",
       "                        <td style=\"text-align: left;\"></td>\n",
       "                    </tr>\n",
       "                    <tr>\n",
       "                        <td colspan=\"2\" style=\"text-align: left;\">\n",
       "                            <strong>Local directory: </strong> /jobfs/137121598.gadi-pbs/tmpupzvnthg/dask-scratch-space/worker-h6dpz64i\n",
       "                        </td>\n",
       "                    </tr>\n",
       "\n",
       "                    \n",
       "\n",
       "                    \n",
       "\n",
       "                </table>\n",
       "            </details>\n",
       "            </div>\n",
       "        </div>\n",
       "        \n",
       "        <div style=\"margin-bottom: 20px;\">\n",
       "            <div style=\"width: 24px; height: 24px; background-color: #DBF5FF; border: 3px solid #4CC9FF; border-radius: 5px; position: absolute;\"> </div>\n",
       "            <div style=\"margin-left: 48px;\">\n",
       "            <details>\n",
       "                <summary>\n",
       "                    <h4 style=\"margin-bottom: 0px; display: inline;\">Worker: 7</h4>\n",
       "                </summary>\n",
       "                <table style=\"width: 100%; text-align: left;\">\n",
       "                    <tr>\n",
       "                        <td style=\"text-align: left;\">\n",
       "                            <strong>Comm: </strong> tcp://127.0.0.1:34387\n",
       "                        </td>\n",
       "                        <td style=\"text-align: left;\">\n",
       "                            <strong>Total threads: </strong> 1\n",
       "                        </td>\n",
       "                    </tr>\n",
       "                    <tr>\n",
       "                        <td style=\"text-align: left;\">\n",
       "                            <strong>Dashboard: </strong> <a href=\"/proxy/38163/status\" target=\"_blank\">/proxy/38163/status</a>\n",
       "                        </td>\n",
       "                        <td style=\"text-align: left;\">\n",
       "                            <strong>Memory: </strong> 58.67 GiB\n",
       "                        </td>\n",
       "                    </tr>\n",
       "                    <tr>\n",
       "                        <td style=\"text-align: left;\">\n",
       "                            <strong>Nanny: </strong> tcp://127.0.0.1:34607\n",
       "                        </td>\n",
       "                        <td style=\"text-align: left;\"></td>\n",
       "                    </tr>\n",
       "                    <tr>\n",
       "                        <td colspan=\"2\" style=\"text-align: left;\">\n",
       "                            <strong>Local directory: </strong> /jobfs/137121598.gadi-pbs/tmpupzvnthg/dask-scratch-space/worker-b3l1cw18\n",
       "                        </td>\n",
       "                    </tr>\n",
       "\n",
       "                    \n",
       "\n",
       "                    \n",
       "\n",
       "                </table>\n",
       "            </details>\n",
       "            </div>\n",
       "        </div>\n",
       "        \n",
       "        <div style=\"margin-bottom: 20px;\">\n",
       "            <div style=\"width: 24px; height: 24px; background-color: #DBF5FF; border: 3px solid #4CC9FF; border-radius: 5px; position: absolute;\"> </div>\n",
       "            <div style=\"margin-left: 48px;\">\n",
       "            <details>\n",
       "                <summary>\n",
       "                    <h4 style=\"margin-bottom: 0px; display: inline;\">Worker: 8</h4>\n",
       "                </summary>\n",
       "                <table style=\"width: 100%; text-align: left;\">\n",
       "                    <tr>\n",
       "                        <td style=\"text-align: left;\">\n",
       "                            <strong>Comm: </strong> tcp://127.0.0.1:43781\n",
       "                        </td>\n",
       "                        <td style=\"text-align: left;\">\n",
       "                            <strong>Total threads: </strong> 1\n",
       "                        </td>\n",
       "                    </tr>\n",
       "                    <tr>\n",
       "                        <td style=\"text-align: left;\">\n",
       "                            <strong>Dashboard: </strong> <a href=\"/proxy/35637/status\" target=\"_blank\">/proxy/35637/status</a>\n",
       "                        </td>\n",
       "                        <td style=\"text-align: left;\">\n",
       "                            <strong>Memory: </strong> 58.67 GiB\n",
       "                        </td>\n",
       "                    </tr>\n",
       "                    <tr>\n",
       "                        <td style=\"text-align: left;\">\n",
       "                            <strong>Nanny: </strong> tcp://127.0.0.1:33893\n",
       "                        </td>\n",
       "                        <td style=\"text-align: left;\"></td>\n",
       "                    </tr>\n",
       "                    <tr>\n",
       "                        <td colspan=\"2\" style=\"text-align: left;\">\n",
       "                            <strong>Local directory: </strong> /jobfs/137121598.gadi-pbs/tmpupzvnthg/dask-scratch-space/worker-_8ol10pa\n",
       "                        </td>\n",
       "                    </tr>\n",
       "\n",
       "                    \n",
       "\n",
       "                    \n",
       "\n",
       "                </table>\n",
       "            </details>\n",
       "            </div>\n",
       "        </div>\n",
       "        \n",
       "        <div style=\"margin-bottom: 20px;\">\n",
       "            <div style=\"width: 24px; height: 24px; background-color: #DBF5FF; border: 3px solid #4CC9FF; border-radius: 5px; position: absolute;\"> </div>\n",
       "            <div style=\"margin-left: 48px;\">\n",
       "            <details>\n",
       "                <summary>\n",
       "                    <h4 style=\"margin-bottom: 0px; display: inline;\">Worker: 9</h4>\n",
       "                </summary>\n",
       "                <table style=\"width: 100%; text-align: left;\">\n",
       "                    <tr>\n",
       "                        <td style=\"text-align: left;\">\n",
       "                            <strong>Comm: </strong> tcp://127.0.0.1:35399\n",
       "                        </td>\n",
       "                        <td style=\"text-align: left;\">\n",
       "                            <strong>Total threads: </strong> 1\n",
       "                        </td>\n",
       "                    </tr>\n",
       "                    <tr>\n",
       "                        <td style=\"text-align: left;\">\n",
       "                            <strong>Dashboard: </strong> <a href=\"/proxy/37227/status\" target=\"_blank\">/proxy/37227/status</a>\n",
       "                        </td>\n",
       "                        <td style=\"text-align: left;\">\n",
       "                            <strong>Memory: </strong> 58.67 GiB\n",
       "                        </td>\n",
       "                    </tr>\n",
       "                    <tr>\n",
       "                        <td style=\"text-align: left;\">\n",
       "                            <strong>Nanny: </strong> tcp://127.0.0.1:44901\n",
       "                        </td>\n",
       "                        <td style=\"text-align: left;\"></td>\n",
       "                    </tr>\n",
       "                    <tr>\n",
       "                        <td colspan=\"2\" style=\"text-align: left;\">\n",
       "                            <strong>Local directory: </strong> /jobfs/137121598.gadi-pbs/tmpupzvnthg/dask-scratch-space/worker-pzr53dx0\n",
       "                        </td>\n",
       "                    </tr>\n",
       "\n",
       "                    \n",
       "\n",
       "                    \n",
       "\n",
       "                </table>\n",
       "            </details>\n",
       "            </div>\n",
       "        </div>\n",
       "        \n",
       "\n",
       "    </details>\n",
       "</div>\n",
       "\n",
       "        </details>\n",
       "    </div>\n",
       "</div>\n",
       "            </details>\n",
       "        \n",
       "\n",
       "    </div>\n",
       "</div>"
      ],
      "text/plain": [
       "<Client: 'tcp://127.0.0.1:37307' processes=10 threads=10, memory=586.73 GiB>"
      ]
     },
     "execution_count": 4,
     "metadata": {},
     "output_type": "execute_result"
    }
   ],
   "source": [
    "import dask\n",
    "import tempfile\n",
    "from dask.diagnostics import ProgressBar\n",
    "from dask.distributed import Client, LocalCluster\n",
    "\n",
    "dask.config.set({\n",
    "    'array.chunk-size': \"256 MiB\",\n",
    "    'array.slicing.split_large_chunks': True, #This can make AXIOM very slow\n",
    "    'distributed.comm.timeouts.connect': '120s',\n",
    "    'distributed.comm.timeouts.tcp': '120s',\n",
    "    'distributed.comm.retry.count': 10,\n",
    "    'distributed.scheduler.allowed-failures': 20,\n",
    "    \"distributed.scheduler.worker-saturation\": 1.1, #This should use the new behaviour which helps with memory pile up\n",
    "})\n",
    "\n",
    "# client = dask.distributed.Client()\n",
    "client = Client(n_workers=10, threads_per_worker=1, local_directory = tempfile.mkdtemp(), memory_limit = \"63000mb\")\n",
    "client"
   ]
  },
  {
   "cell_type": "markdown",
   "id": "016ce5d3-a5a7-41c8-8174-3dc9ac759ef9",
   "metadata": {},
   "source": [
    "### Step 1 -> Extract daily T, q, Rd, U10 and convert to 7-day running means "
   ]
  },
  {
   "cell_type": "markdown",
   "id": "820560c3-f144-44e2-936b-a635615c87af",
   "metadata": {},
   "source": [
    "Hourly MERRA2 files are very large - extract only relevant variables for domain of interest with dask and write locally (only need to do this step once)<br>\n",
    "<sub>Need to write locally as working with dask arrays using .compute crashes the session and takes a long time</sub>"
   ]
  },
  {
   "cell_type": "code",
   "execution_count": 5,
   "id": "edbf7722-fa75-4bc3-992c-1eaa87cc99f2",
   "metadata": {
    "execution": {
     "iopub.execute_input": "2025-02-27T00:16:54.442081Z",
     "iopub.status.busy": "2025-02-27T00:16:54.441803Z",
     "iopub.status.idle": "2025-02-27T02:31:56.243853Z",
     "shell.execute_reply": "2025-02-27T02:31:56.213131Z",
     "shell.execute_reply.started": "2025-02-27T00:16:54.442053Z"
    }
   },
   "outputs": [
    {
     "name": "stdout",
     "output_type": "stream",
     "text": [
      "CPU times: user 1h 33min 55s, sys: 6min 2s, total: 1h 39min 58s\n",
      "Wall time: 2h 15min 1s\n"
     ]
    },
    {
     "data": {
      "text/plain": [
       "15373"
      ]
     },
     "execution_count": 5,
     "metadata": {},
     "output_type": "execute_result"
    }
   ],
   "source": [
    "%%time\n",
    "#load in 2m air temperature (K), 2m eastward wind speed (m/s), 2m specific humidity (kg/kg) and aggregate to daily timescale\n",
    "T2M_U2M_QV2M_files = []\n",
    "for year in range(1980,2023):\n",
    "    for month in range(1,13):\n",
    "        T2M_U2M_QV2M_files.extend(sorted(glob.glob(f\"{MERRA2_T2M_U2M_QV2M_dir}/{year}/{str(month).zfill(2)}/*.nc4\")))\n",
    "\n",
    "def preprocess_T2M_U2M_QV2M(ds): #preprocess function to save memory and time\n",
    "    logging.getLogger('flox').setLevel(logging.WARNING)\n",
    "    return ds[['T2M', 'U2M', 'QV2M']].resample(time='1D').mean().sel(lat=slice(-45,-1), lon=slice(100,180))\n",
    "\n",
    "T2M_U2M_QV2M_cube = xr.open_mfdataset(T2M_U2M_QV2M_files,combine='nested', concat_dim='time',parallel=True, preprocess=preprocess_T2M_U2M_QV2M, engine='netcdf4').chunk({'time':-1, 'lat':'auto', 'lon':'auto'})\n",
    "\n",
    "#write to netcdf and clear up local memory, ok to store locally only takes ~1.5gb\n",
    "T2M_U2M_QV2M_cube.to_netcdf('/g/data/mn51/users/jb6465/MERRA2_daily_T2M_U2M_QV2M.nc', encoding={'T2M': {'zlib': True, 'complevel': 5, 'dtype':'float32'}, 'U2M': {'zlib': True, 'complevel': 5, 'dtype':'float32'}, 'QV2M': {'zlib': True, 'complevel': 5, 'dtype':'float32'}})\n",
    "del T2M_U2M_QV2M_cube\n",
    "gc.collect()"
   ]
  },
  {
   "cell_type": "code",
   "execution_count": 6,
   "id": "2c7b7f26-63d7-4b16-9017-4f2e9efea96c",
   "metadata": {
    "execution": {
     "iopub.execute_input": "2025-02-27T02:31:56.345975Z",
     "iopub.status.busy": "2025-02-27T02:31:56.339961Z",
     "iopub.status.idle": "2025-02-27T03:18:29.957169Z",
     "shell.execute_reply": "2025-02-27T03:18:29.955842Z",
     "shell.execute_reply.started": "2025-02-27T02:31:56.345920Z"
    }
   },
   "outputs": [
    {
     "name": "stdout",
     "output_type": "stream",
     "text": [
      "CPU times: user 34min 1s, sys: 1min 54s, total: 35min 56s\n",
      "Wall time: 46min 33s\n"
     ]
    },
    {
     "data": {
      "text/plain": [
       "13735"
      ]
     },
     "execution_count": 6,
     "metadata": {},
     "output_type": "execute_result"
    }
   ],
   "source": [
    "%%time\n",
    "#load in incoming surface solar radiation (W/m2) and aggregate to daily timescale\n",
    "SWGDN_files = []\n",
    "for year in range(1980,2023):\n",
    "    for month in range(1,13):\n",
    "        SWGDN_files.extend(sorted(glob.glob(f\"{MERRA2_SWGDN_dir}/{year}/{str(month).zfill(2)}/*.nc4\")))\n",
    "\n",
    "def preprocess_SWdn(ds): #preprocess function to save memory and time\n",
    "    logging.getLogger('flox').setLevel(logging.WARNING)\n",
    "    return ds['SWGDN'].resample(time='1D').mean().sel(lat=slice(-45,-1), lon=slice(100,180))\n",
    "\n",
    "SWGDN_cube = xr.open_mfdataset(SWGDN_files,combine='nested', concat_dim='time',parallel=True, preprocess=preprocess_SWdn, engine='netcdf4').chunk({'time':-1, 'lat':'auto', 'lon':'auto'})\n",
    "\n",
    "#write to netcdf and clear up local memory, ok to store locally only takes ~500mb\n",
    "SWGDN_cube.to_netcdf('/g/data/mn51/users/jb6465/MERRA2_daily_SWGDN.nc', encoding={'SWGDN': {'zlib': True, 'complevel': 5, 'dtype':'float32'}})\n",
    "del SWGDN_cube\n",
    "gc.collect()"
   ]
  },
  {
   "cell_type": "markdown",
   "id": "76561e92-e89b-45c1-b35c-27ca137628bb",
   "metadata": {},
   "source": [
    "<br> "
   ]
  },
  {
   "cell_type": "markdown",
   "id": "b8f3816a-b71d-41cd-a147-21960cf29031",
   "metadata": {},
   "source": [
    "### Step 2 -> Calculate daily reference ET and convert to 7-day running means"
   ]
  },
  {
   "cell_type": "markdown",
   "id": "3eb35c26-b778-4510-b116-cd6846f03df9",
   "metadata": {},
   "source": [
    "<br>Inputs"
   ]
  },
  {
   "cell_type": "code",
   "execution_count": 3,
   "id": "b5ea58e6-3be9-425e-9e58-0ff205d2c158",
   "metadata": {
    "execution": {
     "iopub.execute_input": "2025-03-18T02:17:11.041886Z",
     "iopub.status.busy": "2025-03-18T02:17:11.041464Z",
     "iopub.status.idle": "2025-03-18T02:17:19.400764Z",
     "shell.execute_reply": "2025-03-18T02:17:19.399802Z",
     "shell.execute_reply.started": "2025-03-18T02:17:11.041853Z"
    }
   },
   "outputs": [],
   "source": [
    "T2M_U2M_QV2M_cube = xr.open_dataset('/g/data/mn51/users/jb6465/MERRA2_daily_T2M_U2M_QV2M.nc')\n",
    "SWGDN_cube = xr.open_dataset('/g/data/mn51/users/jb6465/MERRA2_daily_SWGDN.nc')\n",
    "\n",
    "T2M = T2M_U2M_QV2M_cube['T2M'] #2-m daily mean air temperature [K]\n",
    "U2M = T2M_U2M_QV2M_cube['U2M'] #2-m eastward wind speed [m/s]\n",
    "QV2M = T2M_U2M_QV2M_cube['QV2M'] #2-m specific humidity [kg/kg]\n",
    "SWGDN = SWGDN_cube['SWGDN'] #surface downware shortwave radiation flux [W/m2]"
   ]
  },
  {
   "cell_type": "markdown",
   "id": "2e04ff6c-82c7-4d63-aad5-95eaf4387cf9",
   "metadata": {},
   "source": [
    "<br>Elevation - following approach from Mike's [MERRA2 paper code](https://www.sciencebase.gov/catalog/item/6515cb7ad34e469cabfcdccd), elev file not stored on gadi so downloaded locally from NASA earthdata"
   ]
  },
  {
   "cell_type": "code",
   "execution_count": 4,
   "id": "4d75e3c4-f4a7-430a-bd87-decdd384b7a2",
   "metadata": {
    "execution": {
     "iopub.execute_input": "2025-03-18T02:17:19.404018Z",
     "iopub.status.busy": "2025-03-18T02:17:19.402693Z",
     "iopub.status.idle": "2025-03-18T02:17:19.488458Z",
     "shell.execute_reply": "2025-03-18T02:17:19.487626Z",
     "shell.execute_reply.started": "2025-03-18T02:17:19.403989Z"
    }
   },
   "outputs": [],
   "source": [
    "elevfile = xr.open_dataset('/g/data/mn51/users/jb6465/MERRA2_101.const_2d_asm_Nx.nc4')\n",
    "\n",
    "geopot = elevfile['PHIS'].sel(lat=slice(-45,-1), lon=slice(100,180))[0]\n",
    "elev = geopot/9.81 #divide by 9.81m2/s to get elevation [m]"
   ]
  },
  {
   "cell_type": "markdown",
   "id": "e0786e02-d5ea-4bd8-a743-ff274a514fd7",
   "metadata": {},
   "source": [
    "<br>Switch for short crop (0.12m grass) or tall crop (0.50m alfafa)"
   ]
  },
  {
   "cell_type": "code",
   "execution_count": 5,
   "id": "939a52fd-ec0d-4bf1-b04f-27eae955f867",
   "metadata": {
    "execution": {
     "iopub.execute_input": "2025-03-18T02:17:19.489390Z",
     "iopub.status.busy": "2025-03-18T02:17:19.489143Z",
     "iopub.status.idle": "2025-03-18T02:17:19.494140Z",
     "shell.execute_reply": "2025-03-18T02:17:19.492796Z",
     "shell.execute_reply.started": "2025-03-18T02:17:19.489367Z"
    }
   },
   "outputs": [],
   "source": [
    "short_tall_crop_switch = 'short' #short (0.12m grass) or tall (0.50m alfafa)"
   ]
  },
  {
   "cell_type": "markdown",
   "id": "cb66e9eb-2001-4706-9444-5b1111e003e1",
   "metadata": {
    "execution": {
     "iopub.execute_input": "2025-03-16T23:46:20.494516Z",
     "iopub.status.busy": "2025-03-16T23:46:20.493438Z",
     "iopub.status.idle": "2025-03-16T23:46:20.508121Z",
     "shell.execute_reply": "2025-03-16T23:46:20.506030Z",
     "shell.execute_reply.started": "2025-03-16T23:46:20.494433Z"
    }
   },
   "source": [
    "### Ref ET using [FAO56](https://github.com/jb6465/flash-drought/blob/main/relevant_studies/FAO56.pdf) units"
   ]
  },
  {
   "cell_type": "markdown",
   "id": "30e35a85-64f3-4c04-b2fe-c5fa995da721",
   "metadata": {},
   "source": [
    "<br>Constants"
   ]
  },
  {
   "cell_type": "code",
   "execution_count": 68,
   "id": "cf8da519-4a13-46ba-83b2-3c0080fde91d",
   "metadata": {
    "execution": {
     "iopub.execute_input": "2025-03-18T02:23:36.705731Z",
     "iopub.status.busy": "2025-03-18T02:23:36.705131Z",
     "iopub.status.idle": "2025-03-18T02:23:36.712010Z",
     "shell.execute_reply": "2025-03-18T02:23:36.710686Z",
     "shell.execute_reply.started": "2025-03-18T02:23:36.705672Z"
    }
   },
   "outputs": [],
   "source": [
    "# Cn: numerator crop constant [K.mm.s3/(kg.day)]\n",
    "Cn = 1600 if short_tall_crop_switch == 'tall' else 900 "
   ]
  },
  {
   "cell_type": "code",
   "execution_count": 69,
   "id": "b15ea76b-a499-47d8-99fc-8e4e943374bb",
   "metadata": {
    "execution": {
     "iopub.execute_input": "2025-03-18T02:23:37.065370Z",
     "iopub.status.busy": "2025-03-18T02:23:37.064844Z",
     "iopub.status.idle": "2025-03-18T02:23:37.071548Z",
     "shell.execute_reply": "2025-03-18T02:23:37.070117Z",
     "shell.execute_reply.started": "2025-03-18T02:23:37.065316Z"
    }
   },
   "outputs": [],
   "source": [
    "# Cd: denominator crop constant [s/m]\n",
    "Cd = 0.38 if short_tall_crop_switch == 'tall' else 0.34"
   ]
  },
  {
   "cell_type": "code",
   "execution_count": 96,
   "id": "867e3833-c306-4a5d-b658-1e0c47d298cf",
   "metadata": {
    "execution": {
     "iopub.execute_input": "2025-03-18T02:32:03.749102Z",
     "iopub.status.busy": "2025-03-18T02:32:03.748359Z",
     "iopub.status.idle": "2025-03-18T02:32:03.755335Z",
     "shell.execute_reply": "2025-03-18T02:32:03.753897Z",
     "shell.execute_reply.started": "2025-03-18T02:32:03.749040Z"
    }
   },
   "outputs": [],
   "source": [
    "# Gsc: solar constant [MJ/(m2.hr)]\n",
    "Gsc = 4.92"
   ]
  },
  {
   "cell_type": "code",
   "execution_count": 71,
   "id": "4219d954-e95c-4a27-b37b-0d6754da0c56",
   "metadata": {
    "execution": {
     "iopub.execute_input": "2025-03-18T02:24:00.318647Z",
     "iopub.status.busy": "2025-03-18T02:24:00.318046Z",
     "iopub.status.idle": "2025-03-18T02:24:00.324873Z",
     "shell.execute_reply": "2025-03-18T02:24:00.323432Z",
     "shell.execute_reply.started": "2025-03-18T02:24:00.318589Z"
    }
   },
   "outputs": [],
   "source": [
    "# sigma: Stefan-Boltzmann constant [MJ/(K4.m2.day)]\n",
    "sigma = 4.901e-9"
   ]
  },
  {
   "cell_type": "code",
   "execution_count": 72,
   "id": "49e5cc7c-7f0b-49a4-b275-4482dbb27205",
   "metadata": {
    "execution": {
     "iopub.execute_input": "2025-03-18T02:24:00.813022Z",
     "iopub.status.busy": "2025-03-18T02:24:00.811838Z",
     "iopub.status.idle": "2025-03-18T02:24:00.818216Z",
     "shell.execute_reply": "2025-03-18T02:24:00.816777Z",
     "shell.execute_reply.started": "2025-03-18T02:24:00.812964Z"
    }
   },
   "outputs": [],
   "source": [
    "# albedo [unitless]\n",
    "albedo = 0.23"
   ]
  },
  {
   "cell_type": "markdown",
   "id": "a4da3e4f-3609-4259-b1fa-4fd5e5715a8b",
   "metadata": {},
   "source": [
    "<br>Input variables"
   ]
  },
  {
   "cell_type": "code",
   "execution_count": 73,
   "id": "25c6a461-bf5d-4eed-b61d-e40fcc20476e",
   "metadata": {
    "execution": {
     "iopub.execute_input": "2025-03-18T02:24:16.084315Z",
     "iopub.status.busy": "2025-03-18T02:24:16.083704Z",
     "iopub.status.idle": "2025-03-18T02:24:17.419568Z",
     "shell.execute_reply": "2025-03-18T02:24:17.418501Z",
     "shell.execute_reply.started": "2025-03-18T02:24:16.084257Z"
    }
   },
   "outputs": [],
   "source": [
    "# Rs: downwelling short wave radiation [MJ/(m2.day)]\n",
    "Rs = (SWGDN * 86400)/1e6"
   ]
  },
  {
   "cell_type": "code",
   "execution_count": 74,
   "id": "a6836398-e72e-4d92-8e38-5d124e2920dc",
   "metadata": {
    "execution": {
     "iopub.execute_input": "2025-03-18T02:24:17.421081Z",
     "iopub.status.busy": "2025-03-18T02:24:17.420845Z",
     "iopub.status.idle": "2025-03-18T02:24:17.675799Z",
     "shell.execute_reply": "2025-03-18T02:24:17.674743Z",
     "shell.execute_reply.started": "2025-03-18T02:24:17.421058Z"
    }
   },
   "outputs": [],
   "source": [
    "# T: daily mean temperature [°C]\n",
    "T = T2M-273.15"
   ]
  },
  {
   "cell_type": "code",
   "execution_count": 75,
   "id": "9f7f21c8-b789-4058-ae69-5cb05ad3d491",
   "metadata": {
    "execution": {
     "iopub.execute_input": "2025-03-18T02:24:59.370519Z",
     "iopub.status.busy": "2025-03-18T02:24:59.369769Z",
     "iopub.status.idle": "2025-03-18T02:24:59.378257Z",
     "shell.execute_reply": "2025-03-18T02:24:59.376808Z",
     "shell.execute_reply.started": "2025-03-18T02:24:59.370460Z"
    }
   },
   "outputs": [],
   "source": [
    "# Patm: surface pressure [kPa] = f(elev[m])                                               [FAO56 Eq. 7]\n",
    "Patm = 101.3 * ((293. - 0.0065 * elev) / 293.)**5.26"
   ]
  },
  {
   "cell_type": "code",
   "execution_count": 83,
   "id": "efe10b6b-c6a0-4c3e-ad23-5a54717fcca1",
   "metadata": {
    "execution": {
     "iopub.execute_input": "2025-03-18T02:27:09.578128Z",
     "iopub.status.busy": "2025-03-18T02:27:09.577512Z",
     "iopub.status.idle": "2025-03-18T02:27:09.584534Z",
     "shell.execute_reply": "2025-03-18T02:27:09.583164Z",
     "shell.execute_reply.started": "2025-03-18T02:27:09.578054Z"
    }
   },
   "outputs": [],
   "source": [
    "# gamma: psychrometric constant [kPa/°C]                                                  [FAO56 Eq. 8]\n",
    "gamma = 0.665e-3 * Patm"
   ]
  },
  {
   "cell_type": "code",
   "execution_count": 84,
   "id": "e495c6a0-923c-4e8e-84ff-359c7486d13b",
   "metadata": {
    "execution": {
     "iopub.execute_input": "2025-03-18T02:27:37.470495Z",
     "iopub.status.busy": "2025-03-18T02:27:37.469881Z",
     "iopub.status.idle": "2025-03-18T02:27:40.434961Z",
     "shell.execute_reply": "2025-03-18T02:27:40.433737Z",
     "shell.execute_reply.started": "2025-03-18T02:27:37.470437Z"
    }
   },
   "outputs": [],
   "source": [
    "# esat: saturated vapor pressure [kPa] = f(T[°C])                                         [FAO56 Eq. 11]\n",
    "esat = 0.6108 * np.exp((17.27*T/(T+237.3)))"
   ]
  },
  {
   "cell_type": "code",
   "execution_count": 85,
   "id": "2223746d-2836-4222-a980-9c01bcf59b91",
   "metadata": {
    "execution": {
     "iopub.execute_input": "2025-03-18T02:27:40.437029Z",
     "iopub.status.busy": "2025-03-18T02:27:40.436715Z",
     "iopub.status.idle": "2025-03-18T02:27:41.003548Z",
     "shell.execute_reply": "2025-03-18T02:27:41.002522Z",
     "shell.execute_reply.started": "2025-03-18T02:27:40.436999Z"
    }
   },
   "outputs": [],
   "source": [
    "# w: mixing ratio [kg/kg] = f(QV2M[kg/kg])                                                [FAO56 Eq. ???]\n",
    "w = QV2M / (1. - QV2M)"
   ]
  },
  {
   "cell_type": "code",
   "execution_count": 86,
   "id": "a8885155-ee3e-4f78-aa00-a7268e191dbb",
   "metadata": {
    "execution": {
     "iopub.execute_input": "2025-03-18T02:27:47.151586Z",
     "iopub.status.busy": "2025-03-18T02:27:47.150980Z",
     "iopub.status.idle": "2025-03-18T02:27:49.236992Z",
     "shell.execute_reply": "2025-03-18T02:27:49.235843Z",
     "shell.execute_reply.started": "2025-03-18T02:27:47.151528Z"
    }
   },
   "outputs": [],
   "source": [
    "# eact: actual vapor pressure [kPa] = f(Patm[Pa], w[kg/kg])                               [FAO56 Eq. ???]\n",
    "eact = (Patm * w) / (0.622 + w)\n",
    "eact = eact.clip(max=esat) #clip eact ≤ esat"
   ]
  },
  {
   "cell_type": "code",
   "execution_count": 87,
   "id": "84592a42-0d61-4dee-81d4-f33d589c2565",
   "metadata": {
    "execution": {
     "iopub.execute_input": "2025-03-18T02:29:11.059723Z",
     "iopub.status.busy": "2025-03-18T02:29:11.059111Z",
     "iopub.status.idle": "2025-03-18T02:29:14.894366Z",
     "shell.execute_reply": "2025-03-18T02:29:14.892609Z",
     "shell.execute_reply.started": "2025-03-18T02:29:11.059664Z"
    }
   },
   "outputs": [],
   "source": [
    "# delta: slope of the saturated vapor pressure curve at T [kPa/°C] = f(T[°C])             [FAO56 Eq. 13]\n",
    "delta = (4098. * 0.6108 * np.exp(17.27 * T / (T + 237.3))) / (T + 237.3)**2 "
   ]
  },
  {
   "cell_type": "code",
   "execution_count": 89,
   "id": "bcc6a0f7-7822-40b8-8b45-ece0fa441ec0",
   "metadata": {
    "execution": {
     "iopub.execute_input": "2025-03-18T02:29:23.317864Z",
     "iopub.status.busy": "2025-03-18T02:29:23.317508Z",
     "iopub.status.idle": "2025-03-18T02:29:23.323414Z",
     "shell.execute_reply": "2025-03-18T02:29:23.322190Z",
     "shell.execute_reply.started": "2025-03-18T02:29:23.317833Z"
    }
   },
   "outputs": [],
   "source": [
    "# G: ground heat flux  [MJ/(m2.day)], on daily time scales, G ≈ 0                         [FAO56 Eq. 42]\n",
    "G = 0 "
   ]
  },
  {
   "cell_type": "code",
   "execution_count": 90,
   "id": "5cb8b428-7b82-4d11-a2f1-9b6d319bac88",
   "metadata": {
    "execution": {
     "iopub.execute_input": "2025-03-18T02:29:26.352816Z",
     "iopub.status.busy": "2025-03-18T02:29:26.352080Z",
     "iopub.status.idle": "2025-03-18T02:29:26.372332Z",
     "shell.execute_reply": "2025-03-18T02:29:26.370953Z",
     "shell.execute_reply.started": "2025-03-18T02:29:26.352756Z"
    }
   },
   "outputs": [],
   "source": [
    "# decl: declination [radians] = f(pi[unitless], jday[unitless])                           [FAO56 Eq. 42]\n",
    "jday = xr.DataArray(SWGDN.time.dt.dayofyear.values, coords=[('day', SWGDN.time.dt.dayofyear.values)], dims=[\"day\"])\n",
    "decl = 0.409 * np.sin((2. * np.pi * jday / 365) - 1.39)"
   ]
  },
  {
   "cell_type": "code",
   "execution_count": 91,
   "id": "2f7a0368-dc8d-4074-96a5-c3c93adf3402",
   "metadata": {
    "execution": {
     "iopub.execute_input": "2025-03-18T02:29:27.620271Z",
     "iopub.status.busy": "2025-03-18T02:29:27.619998Z",
     "iopub.status.idle": "2025-03-18T02:29:27.644190Z",
     "shell.execute_reply": "2025-03-18T02:29:27.643101Z",
     "shell.execute_reply.started": "2025-03-18T02:29:27.620244Z"
    }
   },
   "outputs": [],
   "source": [
    "# ws: sunset hour angle ws[radians] = f(latitude[rad], dec[rad])                          [FAO56 Eq. 25]\n",
    "Lat = SWGDN.lat\n",
    "ws = np.arccos(-1 * np.tan(np.deg2rad(Lat)) * np.tan(decl))"
   ]
  },
  {
   "cell_type": "code",
   "execution_count": 92,
   "id": "77f32dbe-e7eb-46e8-9d51-45fc5a3b8d8e",
   "metadata": {
    "execution": {
     "iopub.execute_input": "2025-03-18T02:29:28.534916Z",
     "iopub.status.busy": "2025-03-18T02:29:28.534456Z",
     "iopub.status.idle": "2025-03-18T02:29:28.541377Z",
     "shell.execute_reply": "2025-03-18T02:29:28.540163Z",
     "shell.execute_reply.started": "2025-03-18T02:29:28.534885Z"
    }
   },
   "outputs": [],
   "source": [
    "# dr: inverse relative distance of earth from sun [unitless]                              [FAO56 Eq. 23]\n",
    "dr = 1. + 0.033 * np.cos(2. * np.pi * jday / 365)"
   ]
  },
  {
   "cell_type": "code",
   "execution_count": 97,
   "id": "2b1e4906-9de4-4685-b56d-f5fd521a95a8",
   "metadata": {
    "execution": {
     "iopub.execute_input": "2025-03-18T02:32:13.343881Z",
     "iopub.status.busy": "2025-03-18T02:32:13.343276Z",
     "iopub.status.idle": "2025-03-18T02:32:13.422159Z",
     "shell.execute_reply": "2025-03-18T02:32:13.421129Z",
     "shell.execute_reply.started": "2025-03-18T02:32:13.343823Z"
    }
   },
   "outputs": [],
   "source": [
    "# Ra: extra-terrestrial (TOA) SW radiation [MJ/(m2.day)] = \n",
    "#f(Gsc [MJ/m2/hour], dr [unitless], ws [rad], Lat [rad], decl [rad])                      [FAO56 Eq. 21] \n",
    "Ra = (24. / np.pi) * Gsc * dr * (ws * np.sin(np.deg2rad(Lat)) * np.sin(decl) + np.cos(np.deg2rad(Lat)) * np.cos(decl) * np.sin(ws))"
   ]
  },
  {
   "cell_type": "code",
   "execution_count": 98,
   "id": "d3c1dbc4-e30d-46bd-9dba-49a85b205a69",
   "metadata": {
    "execution": {
     "iopub.execute_input": "2025-03-18T02:32:33.733426Z",
     "iopub.status.busy": "2025-03-18T02:32:33.732871Z",
     "iopub.status.idle": "2025-03-18T02:32:35.030180Z",
     "shell.execute_reply": "2025-03-18T02:32:35.028940Z",
     "shell.execute_reply.started": "2025-03-18T02:32:33.733371Z"
    }
   },
   "outputs": [],
   "source": [
    "# Rso: clear-sky SW radiation at surface [MJ/m2/day] = f(Ra[MJ/(m2.day)], elev[m])        [FAO56 Eq. 37]\n",
    "Rso = Ra * (0.75 + 2e-5 * elev)"
   ]
  },
  {
   "cell_type": "code",
   "execution_count": 61,
   "id": "dbb3d3a1-0244-4fba-82e7-eba79e9b01c8",
   "metadata": {
    "execution": {
     "iopub.execute_input": "2025-03-18T02:22:57.220701Z",
     "iopub.status.busy": "2025-03-18T02:22:57.220467Z",
     "iopub.status.idle": "2025-03-18T02:22:59.962072Z",
     "shell.execute_reply": "2025-03-18T02:22:59.961020Z",
     "shell.execute_reply.started": "2025-03-18T02:22:57.220678Z"
    }
   },
   "outputs": [],
   "source": [
    "# fcd: cloudiness function [unitless]                                                     [FAO56 pg. 79]\n",
    "RsRso = xr.DataArray((Rs.values)/(Rso.values), coords=[('time', Rs.time.values), ('lat', Rs.lat.values), ('lon', SWGDN.lon.values)], dims=[\"time\", \"lat\", \"lon\"])\n",
    "RsRso = RsRso.clip(min=0.3, max=1.0)\n",
    "fcd = 1.35 * RsRso - 0.35 \n",
    "fcd = fcd.clip(min=0.05, max=1.0) #clip values between 0.05 and 1.0"
   ]
  },
  {
   "cell_type": "code",
   "execution_count": 100,
   "id": "84aea2f7-8a0f-479a-aa13-3f6c664c10dd",
   "metadata": {
    "execution": {
     "iopub.execute_input": "2025-03-18T02:35:00.236588Z",
     "iopub.status.busy": "2025-03-18T02:35:00.236300Z",
     "iopub.status.idle": "2025-03-18T02:35:00.723494Z",
     "shell.execute_reply": "2025-03-18T02:35:00.722487Z",
     "shell.execute_reply.started": "2025-03-18T02:35:00.236565Z"
    }
   },
   "outputs": [],
   "source": [
    "# Rns: Net shortwave radiation  [MJ/(m2.day)]                                            [FAO56 Eq. 38]\n",
    "Rns = (1 - albedo) * Rs"
   ]
  },
  {
   "cell_type": "code",
   "execution_count": 101,
   "id": "1fcceba8-62a2-495c-a23a-a5ed374c26a4",
   "metadata": {
    "execution": {
     "iopub.execute_input": "2025-03-18T02:35:00.724617Z",
     "iopub.status.busy": "2025-03-18T02:35:00.724392Z",
     "iopub.status.idle": "2025-03-18T02:35:05.733583Z",
     "shell.execute_reply": "2025-03-18T02:35:05.732377Z",
     "shell.execute_reply.started": "2025-03-18T02:35:00.724594Z"
    }
   },
   "outputs": [],
   "source": [
    "# Rnl: net LW radiation upward[MJ/(m2.day)] = f(sigma [J/(K4.m2.day)], eact[Pa], T[°C])  [FAO56 Eq. 39]\n",
    "Rnl = sigma * fcd * (0.34 - 0.14 * (0.001 * eact)**0.5) * (T + 273.15)**4."
   ]
  },
  {
   "cell_type": "code",
   "execution_count": 102,
   "id": "ab0b2932-5f71-44fd-8793-21d3a9082392",
   "metadata": {
    "execution": {
     "iopub.execute_input": "2025-03-18T02:35:05.735256Z",
     "iopub.status.busy": "2025-03-18T02:35:05.735019Z",
     "iopub.status.idle": "2025-03-18T02:35:06.330360Z",
     "shell.execute_reply": "2025-03-18T02:35:06.329437Z",
     "shell.execute_reply.started": "2025-03-18T02:35:05.735233Z"
    }
   },
   "outputs": [],
   "source": [
    "# Rn: net radiation [MJ/(m2.day)]\n",
    "Rn = Rns - Rnl"
   ]
  },
  {
   "attachments": {
    "7112a71d-1423-4066-ab58-3df48532e24b.png": {
     "image/png": "[encoded data removed]"
    }
   },
   "cell_type": "markdown",
   "id": "eb718359-f75c-49e1-b6ab-e3d826e942ed",
   "metadata": {},
   "source": [
    "<br><b>Split ET0 into 3 components: A, B, C</b><br>\n",
    "From FAO56, Equation 6, PM derivation of ET0\n",
    "![image.png](attachment:7112a71d-1423-4066-ab58-3df48532e24b.png)"
   ]
  },
  {
   "cell_type": "code",
   "execution_count": 103,
   "id": "f87d2e3d-7ab1-4b68-8556-098555b85742",
   "metadata": {
    "execution": {
     "iopub.execute_input": "2025-03-18T02:35:37.256720Z",
     "iopub.status.busy": "2025-03-18T02:35:37.256112Z",
     "iopub.status.idle": "2025-03-18T02:35:42.749396Z",
     "shell.execute_reply": "2025-03-18T02:35:42.748499Z",
     "shell.execute_reply.started": "2025-03-18T02:35:37.256661Z"
    }
   },
   "outputs": [
    {
     "name": "stdout",
     "output_type": "stream",
     "text": [
      "CPU times: user 2.41 s, sys: 3.08 s, total: 5.49 s\n",
      "Wall time: 5.48 s\n"
     ]
    }
   ],
   "source": [
    "%%time\n",
    "# A left numerator\n",
    "A = 0.408 * delta * (Rn - G)\n",
    "\n",
    "# B right numerator\n",
    "B = gamma * (Cn/(T+273)) * U2M * (esat-eact)\n",
    "\n",
    "# C denominator\n",
    "C = (delta + gamma * (1+Cd*U2M))\n",
    "\n",
    "ET0 = (A+B)/C"
   ]
  },
  {
   "cell_type": "code",
   "execution_count": null,
   "id": "38f82e21-0eae-4461-83ad-9aa0afeb50c8",
   "metadata": {},
   "outputs": [],
   "source": []
  },
  {
   "cell_type": "code",
   "execution_count": 108,
   "id": "67342703-210b-4699-ae92-295973ac9f36",
   "metadata": {
    "execution": {
     "iopub.execute_input": "2025-03-18T02:41:39.320488Z",
     "iopub.status.busy": "2025-03-18T02:41:39.319859Z",
     "iopub.status.idle": "2025-03-18T02:41:39.331895Z",
     "shell.execute_reply": "2025-03-18T02:41:39.330441Z",
     "shell.execute_reply.started": "2025-03-18T02:41:39.320429Z"
    }
   },
   "outputs": [],
   "source": [
    "ET0_xr = xr.DataArray(ET0, dims=['time', 'lat', 'lon'], coords={'time':T.time.values, 'lat': T.lat.values, 'lon': T.lon.values}).rename(f\"ET0_{short_tall_crop_switch}_crop\")"
   ]
  },
  {
   "cell_type": "code",
   "execution_count": 109,
   "id": "0707412e-46ed-4829-a2e7-3a9990acabc8",
   "metadata": {
    "execution": {
     "iopub.execute_input": "2025-03-18T02:41:39.588059Z",
     "iopub.status.busy": "2025-03-18T02:41:39.587537Z",
     "iopub.status.idle": "2025-03-18T02:41:39.875669Z",
     "shell.execute_reply": "2025-03-18T02:41:39.874717Z",
     "shell.execute_reply.started": "2025-03-18T02:41:39.588004Z"
    }
   },
   "outputs": [
    {
     "data": {
      "text/plain": [
       "<matplotlib.collections.QuadMesh at 0x152f6af37550>"
      ]
     },
     "execution_count": 109,
     "metadata": {},
     "output_type": "execute_result"
    },
    {
     "data": {
      "image/png": "[encoded data removed]",
      "text/plain": [
       "<Figure size 640x480 with 2 Axes>"
      ]
     },
     "metadata": {},
     "output_type": "display_data"
    }
   ],
   "source": [
    "ET0_xr[4321].plot(vmin=0, vmax=15)"
   ]
  },
  {
   "cell_type": "markdown",
   "id": "44ac12c1-6978-49cd-a6c5-0adf7e4ec50f",
   "metadata": {},
   "source": [
    "<br>"
   ]
  },
  {
   "cell_type": "markdown",
   "id": "f056b1e9-79e5-44b4-9b4e-00f5d780dd1c",
   "metadata": {},
   "source": [
    "### Step 3 -> Calculate daily sensitivity expressions"
   ]
  },
  {
   "cell_type": "markdown",
   "id": "026b04a8-74f5-41be-8952-ab5a214d1ba8",
   "metadata": {},
   "source": [
    "Relevant Equations"
   ]
  },
  {
   "cell_type": "code",
   "execution_count": null,
   "id": "da6fbcd3-ef79-4adc-9a28-18cd3c643e91",
   "metadata": {},
   "outputs": [],
   "source": []
  },
  {
   "cell_type": "markdown",
   "id": "f1dc0bf5-2f30-427c-8388-1e9093220bce",
   "metadata": {},
   "source": [
    "<br>"
   ]
  },
  {
   "cell_type": "markdown",
   "id": "52391178-fd86-4f6f-b8f8-787b7de03813",
   "metadata": {},
   "source": [
    "### Step 4 -> Calculate relative contribution from each driver"
   ]
  },
  {
   "cell_type": "code",
   "execution_count": null,
   "id": "9719bda4-3248-4202-8049-05795831d546",
   "metadata": {},
   "outputs": [],
   "source": []
  },
  {
   "cell_type": "markdown",
   "id": "a10353e8-b025-4a5c-84c7-2b9bff4dec06",
   "metadata": {},
   "source": [
    "<br>"
   ]
  },
  {
   "cell_type": "markdown",
   "id": "99c2ae46-30bd-454d-b9b5-84b76fba3ebb",
   "metadata": {},
   "source": [
    "### Step 5 -> Plot and visualise "
   ]
  },
  {
   "cell_type": "code",
   "execution_count": null,
   "id": "d382b164-7538-406e-8580-4a4579efdd5a",
   "metadata": {},
   "outputs": [],
   "source": []
  }
 ],
 "metadata": {
  "kernelspec": {
   "display_name": "Python [conda env:analysis3]",
   "language": "python",
   "name": "conda-env-analysis3-py"
  },
  "language_info": {
   "codemirror_mode": {
    "name": "ipython",
    "version": 3
   },
   "file_extension": ".py",
   "mimetype": "text/x-python",
   "name": "python",
   "nbconvert_exporter": "python",
   "pygments_lexer": "ipython3",
   "version": "3.10.14"
  }
 },
 "nbformat": 4,
 "nbformat_minor": 5
}
